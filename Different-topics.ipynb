{
 "cells": [
  {
   "cell_type": "markdown",
   "metadata": {},
   "source": [
    "                                         Icecream"
   ]
  },
  {
   "cell_type": "code",
   "execution_count": 4,
   "metadata": {
    "ExecuteTime": {
     "end_time": "2021-03-22T16:17:24.280574Z",
     "start_time": "2021-03-22T16:17:24.241747Z"
    }
   },
   "outputs": [
    {
     "name": "stderr",
     "output_type": "stream",
     "text": [
      "ic| num1: 12\n",
      "ic| num2: 13\n"
     ]
    },
    {
     "name": "stdout",
     "output_type": "stream",
     "text": [
      "13\n"
     ]
    }
   ],
   "source": [
    "from icecream import ic\n",
    "num1=12\n",
    "num2=13\n",
    "\n",
    "ic(num1)\n",
    "ic(num2)\n",
    "\n",
    "print(num2)\n"
   ]
  },
  {
   "cell_type": "code",
   "execution_count": 7,
   "metadata": {
    "ExecuteTime": {
     "end_time": "2021-03-22T16:19:24.207210Z",
     "start_time": "2021-03-22T16:19:24.158943Z"
    }
   },
   "outputs": [
    {
     "name": "stderr",
     "output_type": "stream",
     "text": [
      "ic| plus_five(4): 9\n",
      "ic| plus_five(5): 10\n"
     ]
    },
    {
     "name": "stdout",
     "output_type": "stream",
     "text": [
      "9\n",
      "10\n"
     ]
    }
   ],
   "source": [
    "def plus_five(num):\n",
    "    return num + 5\n",
    "\n",
    "print(ic(plus_five(4)))\n",
    "print(ic(plus_five(5)))"
   ]
  },
  {
   "cell_type": "code",
   "execution_count": 8,
   "metadata": {
    "ExecuteTime": {
     "end_time": "2021-03-22T16:19:47.334501Z",
     "start_time": "2021-03-22T16:19:47.289642Z"
    }
   },
   "outputs": [
    {
     "name": "stderr",
     "output_type": "stream",
     "text": [
      "ic| plus_five(4): 9\n",
      "ic| plus_five(5): 10\n"
     ]
    },
    {
     "data": {
      "text/plain": [
       "10"
      ]
     },
     "execution_count": 8,
     "metadata": {},
     "output_type": "execute_result"
    }
   ],
   "source": [
    "def plus_five(num):\n",
    "    return num + 5\n",
    "\n",
    "ic(plus_five(4))\n",
    "ic(plus_five(5))"
   ]
  },
  {
   "cell_type": "code",
   "execution_count": 9,
   "metadata": {
    "ExecuteTime": {
     "end_time": "2021-03-22T17:36:29.193374Z",
     "start_time": "2021-03-22T17:36:29.094173Z"
    }
   },
   "outputs": [
    {
     "name": "stderr",
     "output_type": "stream",
     "text": [
      "ic| <ipython-input-9-2e6d23255589>:3 in hello() at 17:36:29.160\n"
     ]
    }
   ],
   "source": [
    "def hello(user:bool):\n",
    "    if user:\n",
    "        ic()\n",
    "    else:\n",
    "        ic()\n",
    "\n",
    "hello(user=True)"
   ]
  },
  {
   "cell_type": "code",
   "execution_count": 10,
   "metadata": {
    "ExecuteTime": {
     "end_time": "2021-03-22T17:39:04.153166Z",
     "start_time": "2021-03-22T17:39:01.011977Z"
    }
   },
   "outputs": [
    {
     "name": "stderr",
     "output_type": "stream",
     "text": [
      "2021-03-22 23:09:02.021320|> 'Hello'\n",
      "2021-03-22 23:09:03.084446|> 'Hello'\n",
      "2021-03-22 23:09:04.106467|> 'Hello'\n"
     ]
    }
   ],
   "source": [
    "from datetime import datetime\n",
    "from icecream import ic \n",
    "import time\n",
    "\n",
    "def time_format():\n",
    "    return f'{datetime.now()}|> '\n",
    "\n",
    "ic.configureOutput(prefix=time_format)\n",
    "\n",
    "for _ in range(3):\n",
    "    time.sleep(1)\n",
    "    ic('Hello')"
   ]
  },
  {
   "cell_type": "code",
   "execution_count": 11,
   "metadata": {
    "ExecuteTime": {
     "end_time": "2021-03-22T17:41:04.525084Z",
     "start_time": "2021-03-22T17:41:04.418082Z"
    }
   },
   "outputs": [
    {
     "name": "stderr",
     "output_type": "stream",
     "text": [
      "2021-03-22 23:11:04.422090|> <ipython-input-11-826dd3392d51>:7 in <module>\n",
      "                             plus_five(4): 9\n",
      "2021-03-22 23:11:04.474150|> <ipython-input-11-826dd3392d51>:8 in <module>\n",
      "                             plus_five(5): 10\n"
     ]
    },
    {
     "data": {
      "text/plain": [
       "10"
      ]
     },
     "execution_count": 11,
     "metadata": {},
     "output_type": "execute_result"
    }
   ],
   "source": [
    "from icecream import ic \n",
    "\n",
    "def plus_five(num):\n",
    "    return num + 5\n",
    "\n",
    "ic.configureOutput(includeContext=True)\n",
    "ic(plus_five(4))\n",
    "ic(plus_five(5))"
   ]
  },
  {
   "cell_type": "markdown",
   "metadata": {
    "ExecuteTime": {
     "end_time": "2021-04-19T16:45:01.210280Z",
     "start_time": "2021-04-19T16:45:01.194750Z"
    }
   },
   "source": [
    "                                       Descriptors"
   ]
  },
  {
   "cell_type": "code",
   "execution_count": 4,
   "metadata": {
    "ExecuteTime": {
     "end_time": "2021-04-19T16:55:58.035031Z",
     "start_time": "2021-04-19T16:55:58.022443Z"
    }
   },
   "outputs": [
    {
     "name": "stdout",
     "output_type": "stream",
     "text": [
      "__init__ of MyDescriptors called  with initial value: 37\n",
      "Setting Self.val to 37\n"
     ]
    }
   ],
   "source": [
    "class Mydescriptors(object):\n",
    "    def __init__(self,initval=None):\n",
    "        print(\"__init__ of MyDescriptors called  with initial value:\",initval)\n",
    "        self.__set__(set,initval)\n",
    "        \n",
    "    def __get__(self,instance, owner):\n",
    "        print(instance,owner)\n",
    "        print(\"Getting self.val:\", self.val)\n",
    "        \n",
    "    def __set__(self,instance,value): \n",
    "        print(\"Setting Self.val to\", value)\n",
    "        self.val = value\n",
    "\n",
    "class Model(object):\n",
    "    temp=Mydescriptors(37)   # descriptor is attached the class definiation time\n",
    "    \n",
    "body=Model()"
   ]
  },
  {
   "cell_type": "markdown",
   "metadata": {},
   "source": [
    "                                     Enumerator"
   ]
  },
  {
   "cell_type": "code",
   "execution_count": 3,
   "metadata": {
    "ExecuteTime": {
     "end_time": "2021-04-01T15:51:31.397767Z",
     "start_time": "2021-04-01T15:51:31.389989Z"
    }
   },
   "outputs": [
    {
     "name": "stdout",
     "output_type": "stream",
     "text": [
      "12 \n",
      "0 13 \n",
      "1 14 \n",
      "2 15 \n",
      "3 16 \n",
      "4 "
     ]
    }
   ],
   "source": [
    "l1=[12,13,14,15,16]\n",
    "\n",
    "for i,j in enumerate(l1):\n",
    "    print(j,end=\" \")\n",
    "    print()\n",
    "    print(i,end=\" \")"
   ]
  },
  {
   "cell_type": "markdown",
   "metadata": {},
   "source": [
    "#                                   Public, Private, Protected            "
   ]
  },
  {
   "cell_type": "markdown",
   "metadata": {},
   "source": [
    "Public vs Private attributes\n",
    "Based on accessibility, attributes can be categorized into 3 categories:\n",
    "\n",
    "Public  \n",
    "Protected  \n",
    "Private    "
   ]
  },
  {
   "cell_type": "markdown",
   "metadata": {
    "ExecuteTime": {
     "end_time": "2021-04-22T19:49:48.333469Z",
     "start_time": "2021-04-22T19:49:48.326646Z"
    }
   },
   "source": [
    "|Name||Type||Description|\n",
    "|----||----||-----------|\n",
    "|name||public||The attribute is available both inside and outside class|\n",
    "|_name||protected||should not be should outside class definition |\n",
    "|__name\t||private||inaccessible and invisible outside class definition|"
   ]
  },
  {
   "cell_type": "code",
   "execution_count": 3,
   "metadata": {
    "ExecuteTime": {
     "end_time": "2021-04-22T19:57:46.090552Z",
     "start_time": "2021-04-22T19:57:46.077818Z"
    }
   },
   "outputs": [
    {
     "data": {
      "text/plain": [
       "'I am public'"
      ]
     },
     "execution_count": 3,
     "metadata": {},
     "output_type": "execute_result"
    }
   ],
   "source": [
    "class Insan():\n",
    "    \n",
    "    def __init__(self):\n",
    "        self.__ghar = \"I am private\"\n",
    "        self._gari = \"I am protected\"\n",
    "        self.name = \"I am public\"\n",
    "\n",
    "x = Insan()\n",
    "\n",
    "x.name"
   ]
  },
  {
   "cell_type": "code",
   "execution_count": 4,
   "metadata": {
    "ExecuteTime": {
     "end_time": "2021-04-22T20:00:53.485447Z",
     "start_time": "2021-04-22T20:00:53.479334Z"
    }
   },
   "outputs": [
    {
     "data": {
      "text/plain": [
       "'I am protected'"
      ]
     },
     "execution_count": 4,
     "metadata": {},
     "output_type": "execute_result"
    }
   ],
   "source": [
    "x._gari"
   ]
  },
  {
   "cell_type": "code",
   "execution_count": 5,
   "metadata": {
    "ExecuteTime": {
     "end_time": "2021-04-22T20:01:10.019775Z",
     "start_time": "2021-04-22T20:01:09.599095Z"
    }
   },
   "outputs": [
    {
     "ename": "AttributeError",
     "evalue": "'Insan' object has no attribute '__ghar'",
     "output_type": "error",
     "traceback": [
      "\u001b[0;31m---------------------------------------------------------------------------\u001b[0m",
      "\u001b[0;31mAttributeError\u001b[0m                            Traceback (most recent call last)",
      "\u001b[0;32m<ipython-input-5-213c435a2041>\u001b[0m in \u001b[0;36m<module>\u001b[0;34m\u001b[0m\n\u001b[0;32m----> 1\u001b[0;31m \u001b[0mx\u001b[0m\u001b[0;34m.\u001b[0m\u001b[0m__ghar\u001b[0m\u001b[0;34m\u001b[0m\u001b[0;34m\u001b[0m\u001b[0m\n\u001b[0m",
      "\u001b[0;31mAttributeError\u001b[0m: 'Insan' object has no attribute '__ghar'"
     ]
    }
   ],
   "source": [
    "x.__ghar"
   ]
  },
  {
   "cell_type": "markdown",
   "metadata": {},
   "source": [
    "Although the Insan class do have an attribute anmed __priv, however the error is saying Insan object has no attribute __priv. What better privacy can there be?\n",
    "\n",
    "We can also set the values of public attributes."
   ]
  },
  {
   "cell_type": "code",
   "execution_count": 6,
   "metadata": {
    "ExecuteTime": {
     "end_time": "2021-04-22T20:01:41.490774Z",
     "start_time": "2021-04-22T20:01:41.486439Z"
    }
   },
   "outputs": [
    {
     "data": {
      "text/plain": [
       "'hasan'"
      ]
     },
     "execution_count": 6,
     "metadata": {},
     "output_type": "execute_result"
    }
   ],
   "source": [
    "x.name = 'hasan'\n",
    "\n",
    "x.name"
   ]
  },
  {
   "cell_type": "markdown",
   "metadata": {},
   "source": [
    "private attribute is not accessible outside the class but we can use them inside class definition as follows:"
   ]
  },
  {
   "cell_type": "code",
   "execution_count": 8,
   "metadata": {
    "ExecuteTime": {
     "end_time": "2021-04-22T20:03:15.349886Z",
     "start_time": "2021-04-22T20:03:15.343816Z"
    }
   },
   "outputs": [
    {
     "data": {
      "text/plain": [
       "'I am private'"
      ]
     },
     "execution_count": 8,
     "metadata": {},
     "output_type": "execute_result"
    }
   ],
   "source": [
    "class Insan():\n",
    "    \n",
    "    def __init__(self):\n",
    "        self.__ghar = \"I am private\"\n",
    "        self._gari = \"I am protected\"\n",
    "        self.name = \"I am public\"\n",
    "\n",
    "    \n",
    "    def get_ghar(self):\n",
    "        return self.__ghar\n",
    "\n",
    "a = Insan()\n",
    "a.get_ghar()"
   ]
  },
  {
   "cell_type": "markdown",
   "metadata": {},
   "source": [
    "# name mangling"
   ]
  },
  {
   "cell_type": "markdown",
   "metadata": {},
   "source": [
    "Every attribute with double underscore will be changed to object._class__attribte"
   ]
  },
  {
   "cell_type": "code",
   "execution_count": 9,
   "metadata": {
    "ExecuteTime": {
     "end_time": "2021-04-22T20:04:29.539918Z",
     "start_time": "2021-04-22T20:04:29.534817Z"
    }
   },
   "outputs": [
    {
     "data": {
      "text/plain": [
       "'I am private'"
      ]
     },
     "execution_count": 9,
     "metadata": {},
     "output_type": "execute_result"
    }
   ],
   "source": [
    "ali._Insan__ghar"
   ]
  },
  {
   "cell_type": "markdown",
   "metadata": {},
   "source": [
    "Ways of accessing and setting attribute value"
   ]
  },
  {
   "cell_type": "code",
   "execution_count": 15,
   "metadata": {
    "ExecuteTime": {
     "end_time": "2021-04-22T20:19:08.728618Z",
     "start_time": "2021-04-22T20:19:08.716708Z"
    }
   },
   "outputs": [
    {
     "name": "stdout",
     "output_type": "stream",
     "text": [
      "hello, I am akash\n",
      "I was born in the year 1996!\n",
      "hello, I am golu\n",
      "I was born in the year 1995!\n"
     ]
    }
   ],
   "source": [
    "class Human:\n",
    " \n",
    "    def __init__(self, name=None, dob=2000):\n",
    "        self.__name = name # protected attribute\n",
    "        self.__dob = dob   # Protected attribute\n",
    "        \n",
    "    def say_hello(self):\n",
    "        if self.__name:\n",
    "            print(\"hello, I am \" + self.__name)\n",
    "        else:\n",
    "            print(\", I am a person without a name\")\n",
    "            \n",
    "    def set_name(self, name):\n",
    "        self.__name = name\n",
    "        \n",
    "    def get_name(self):\n",
    "        return self.__name    \n",
    "\n",
    "    def set_dob(self, by):\n",
    "        self.__dob = by\n",
    "        \n",
    "    def get_dob(self):\n",
    "        return self.__dob    \n",
    "    \n",
    "    def __repr__(self):\n",
    "        return \"Human('\" + self.__name + \"', \" +  str(self.__dob) +  \")\"\n",
    "\n",
    "    def __str__(self):\n",
    "        return \"Name: \" + self.__name + \", born in Year: \" +  str(self.__dob)\n",
    "\n",
    "\n",
    "x = Human(\"akash\", 1996)\n",
    "y = Human(\"golu\", 1995)\n",
    "for fard in [x, y]:\n",
    "    fard.say_hello()\n",
    "    if fard.get_name() == \"Sadr\":\n",
    "        fard.set_dob(1353)\n",
    "    print(\"I was born in the year \" + str(fard.get_dob()) + \"!\")"
   ]
  },
  {
   "cell_type": "markdown",
   "metadata": {},
   "source": [
    "#                                   Class and Instance attributes"
   ]
  },
  {
   "cell_type": "code",
   "execution_count": 16,
   "metadata": {
    "ExecuteTime": {
     "end_time": "2021-04-22T20:40:42.435683Z",
     "start_time": "2021-04-22T20:40:42.430738Z"
    }
   },
   "outputs": [
    {
     "data": {
      "text/plain": [
       "'Btech'"
      ]
     },
     "execution_count": 16,
     "metadata": {},
     "output_type": "execute_result"
    }
   ],
   "source": [
    "class student: \n",
    "    course = \"Btech\"\n",
    "\n",
    "x = student()\n",
    "y = student()\n",
    "\n",
    "x.course"
   ]
  },
  {
   "cell_type": "code",
   "execution_count": 17,
   "metadata": {
    "ExecuteTime": {
     "end_time": "2021-04-22T20:41:00.800461Z",
     "start_time": "2021-04-22T20:41:00.794185Z"
    }
   },
   "outputs": [
    {
     "data": {
      "text/plain": [
       "'Btech'"
      ]
     },
     "execution_count": 17,
     "metadata": {},
     "output_type": "execute_result"
    }
   ],
   "source": [
    "y.course"
   ]
  },
  {
   "cell_type": "code",
   "execution_count": 18,
   "metadata": {
    "ExecuteTime": {
     "end_time": "2021-04-22T20:41:29.481659Z",
     "start_time": "2021-04-22T20:41:29.477055Z"
    }
   },
   "outputs": [
    {
     "data": {
      "text/plain": [
       "'Btech'"
      ]
     },
     "execution_count": 18,
     "metadata": {},
     "output_type": "execute_result"
    }
   ],
   "source": [
    "x.course = \"Mtech\"\n",
    "y.course"
   ]
  },
  {
   "cell_type": "code",
   "execution_count": 19,
   "metadata": {
    "ExecuteTime": {
     "end_time": "2021-04-22T20:42:50.695800Z",
     "start_time": "2021-04-22T20:42:50.691364Z"
    }
   },
   "outputs": [
    {
     "data": {
      "text/plain": [
       "'Btech'"
      ]
     },
     "execution_count": 19,
     "metadata": {},
     "output_type": "execute_result"
    }
   ],
   "source": [
    "student.course"
   ]
  },
  {
   "cell_type": "code",
   "execution_count": 21,
   "metadata": {
    "ExecuteTime": {
     "end_time": "2021-04-22T20:43:32.520975Z",
     "start_time": "2021-04-22T20:43:32.510395Z"
    }
   },
   "outputs": [
    {
     "data": {
      "text/plain": [
       "'Pg'"
      ]
     },
     "execution_count": 21,
     "metadata": {},
     "output_type": "execute_result"
    }
   ],
   "source": [
    "student.course=\"Pg\"\n",
    "student.course"
   ]
  },
  {
   "cell_type": "code",
   "execution_count": 22,
   "metadata": {
    "ExecuteTime": {
     "end_time": "2021-04-22T20:43:38.642990Z",
     "start_time": "2021-04-22T20:43:38.632527Z"
    }
   },
   "outputs": [
    {
     "data": {
      "text/plain": [
       "'Mtech'"
      ]
     },
     "execution_count": 22,
     "metadata": {},
     "output_type": "execute_result"
    }
   ],
   "source": [
    "x.course"
   ]
  },
  {
   "cell_type": "code",
   "execution_count": 23,
   "metadata": {
    "ExecuteTime": {
     "end_time": "2021-04-22T20:43:51.664198Z",
     "start_time": "2021-04-22T20:43:51.655211Z"
    }
   },
   "outputs": [
    {
     "data": {
      "text/plain": [
       "'Pg'"
      ]
     },
     "execution_count": 23,
     "metadata": {},
     "output_type": "execute_result"
    }
   ],
   "source": [
    "y.course"
   ]
  },
  {
   "cell_type": "markdown",
   "metadata": {},
   "source": [
    "Because the attribute was changed for class and instance x was created before this change so x still has old attribute value."
   ]
  },
  {
   "cell_type": "code",
   "execution_count": 24,
   "metadata": {
    "ExecuteTime": {
     "end_time": "2021-04-22T20:44:50.646519Z",
     "start_time": "2021-04-22T20:44:50.641121Z"
    }
   },
   "outputs": [
    {
     "data": {
      "text/plain": [
       "{'course': 'Mtech'}"
      ]
     },
     "execution_count": 24,
     "metadata": {},
     "output_type": "execute_result"
    }
   ],
   "source": [
    "x.__dict__"
   ]
  },
  {
   "cell_type": "code",
   "execution_count": 25,
   "metadata": {
    "ExecuteTime": {
     "end_time": "2021-04-22T20:45:02.310240Z",
     "start_time": "2021-04-22T20:45:02.306309Z"
    }
   },
   "outputs": [
    {
     "data": {
      "text/plain": [
       "{}"
      ]
     },
     "execution_count": 25,
     "metadata": {},
     "output_type": "execute_result"
    }
   ],
   "source": [
    "y.__dict__"
   ]
  },
  {
   "cell_type": "markdown",
   "metadata": {},
   "source": [
    "Because y itself does not have attribute course so it looked for the attribute value in class student and used that value for itself."
   ]
  },
  {
   "cell_type": "code",
   "execution_count": 26,
   "metadata": {
    "ExecuteTime": {
     "end_time": "2021-04-22T20:46:38.431175Z",
     "start_time": "2021-04-22T20:46:38.426964Z"
    }
   },
   "outputs": [
    {
     "data": {
      "text/plain": [
       "mappingproxy({'__module__': '__main__',\n",
       "              'course': 'Pg',\n",
       "              '__dict__': <attribute '__dict__' of 'student' objects>,\n",
       "              '__weakref__': <attribute '__weakref__' of 'student' objects>,\n",
       "              '__doc__': None})"
      ]
     },
     "execution_count": 26,
     "metadata": {},
     "output_type": "execute_result"
    }
   ],
   "source": [
    "student.__dict__"
   ]
  },
  {
   "cell_type": "markdown",
   "metadata": {},
   "source": [
    "So class attributes and isntance attributes can have different values. We can find out attributes of class of an instance from the instance using following clode"
   ]
  },
  {
   "cell_type": "code",
   "execution_count": 27,
   "metadata": {
    "ExecuteTime": {
     "end_time": "2021-04-22T20:48:00.276500Z",
     "start_time": "2021-04-22T20:48:00.270811Z"
    }
   },
   "outputs": [
    {
     "data": {
      "text/plain": [
       "mappingproxy({'__module__': '__main__',\n",
       "              'course': 'Pg',\n",
       "              '__dict__': <attribute '__dict__' of 'student' objects>,\n",
       "              '__weakref__': <attribute '__weakref__' of 'student' objects>,\n",
       "              '__doc__': None})"
      ]
     },
     "execution_count": 27,
     "metadata": {},
     "output_type": "execute_result"
    }
   ],
   "source": [
    "x.__class__.__dict__"
   ]
  },
  {
   "cell_type": "code",
   "execution_count": 28,
   "metadata": {
    "ExecuteTime": {
     "end_time": "2021-04-22T20:49:41.217948Z",
     "start_time": "2021-04-22T20:49:41.212027Z"
    }
   },
   "outputs": [],
   "source": [
    "class philosopher:\n",
    "\n",
    "    Quotes = (\n",
    "\"\"\"What cannot be imagined cannot even be talked about.\"\"\",\n",
    "\"\"\"Philosophy is a battle against the bewitchment of our intelligence by means of language.,\"\"\",\n",
    "\"\"\"The limits of my language means the limits of my world.\"\"\"\n",
    ")\n",
    "\n",
    "    def __init__(self, name='Wittgenstein', dob=1889):\n",
    "        self.name = name\n",
    "        self.build_year = build_year\n",
    "\n",
    "    # other methods as usual"
   ]
  },
  {
   "cell_type": "code",
   "execution_count": 29,
   "metadata": {
    "ExecuteTime": {
     "end_time": "2021-04-22T20:49:57.489051Z",
     "start_time": "2021-04-22T20:49:57.483171Z"
    }
   },
   "outputs": [
    {
     "name": "stdout",
     "output_type": "stream",
     "text": [
      "1:\n",
      "What cannot be imagined cannot even be talked about.\n",
      "2:\n",
      "Philosophy is a battle against the bewitchment of our intelligence by means of language.,\n",
      "3:\n",
      "The limits of my language means the limits of my world.\n"
     ]
    }
   ],
   "source": [
    "for number, quote in enumerate(philosopher.Quotes):\n",
    "    print(str(number+1) + \":\\n\" + quote)"
   ]
  },
  {
   "cell_type": "markdown",
   "metadata": {},
   "source": [
    "# Counting instances of a class"
   ]
  },
  {
   "cell_type": "code",
   "execution_count": 32,
   "metadata": {
    "ExecuteTime": {
     "end_time": "2021-04-22T20:52:26.075304Z",
     "start_time": "2021-04-22T20:52:26.064549Z"
    }
   },
   "outputs": [
    {
     "name": "stdout",
     "output_type": "stream",
     "text": [
      "Population count is: : 1\n",
      "Population count is: : 2\n",
      "Population count is: : 1\n",
      "Population count is: : 0\n"
     ]
    }
   ],
   "source": [
    "class Human: \n",
    "\n",
    "    counter = 0\n",
    "    \n",
    "    def __init__(self): \n",
    "        # every time a new instance is created the attribute 'counter' of 'Human' increases by 1\n",
    "        type(self).counter += 1\n",
    "\n",
    "    def __del__(self):\n",
    "        # every time an instance of `Insan` is deleted, the attribute 'counter' of 'Human' decreases by 1\n",
    "        type(self).counter -= 1\n",
    "\n",
    "\n",
    "x = Human()\n",
    "print(\"Population count is: : \" + str(Human.counter))\n",
    "y = Human()\n",
    "print(\"Population count is: : \" + str(Human.counter))\n",
    "del x\n",
    "print(\"Population count is: : \" + str(Human.counter))\n",
    "del y\n",
    "print(\"Population count is: : \" + str(Human.counter))"
   ]
  },
  {
   "cell_type": "markdown",
   "metadata": {},
   "source": [
    "#                            static methods"
   ]
  },
  {
   "cell_type": "markdown",
   "metadata": {},
   "source": [
    "The way to solve this problem is to put the decorate @staticmethod. By doing so, python will not put the instance implicitly as first input argument."
   ]
  },
  {
   "cell_type": "code",
   "execution_count": 33,
   "metadata": {
    "ExecuteTime": {
     "end_time": "2021-04-22T21:29:08.297532Z",
     "start_time": "2021-04-22T21:29:08.291369Z"
    }
   },
   "outputs": [
    {
     "name": "stdout",
     "output_type": "stream",
     "text": [
      "0\n",
      "1\n",
      "2\n",
      "2\n"
     ]
    }
   ],
   "source": [
    "class Insan:\n",
    "    __counter = 0\n",
    "    \n",
    "    def __init__(self):\n",
    "        type(self).__counter += 1\n",
    "        \n",
    "    @staticmethod\n",
    "    def PopulationCount():\n",
    "        return Insan.__counter\n",
    "        \n",
    "\n",
    "\n",
    "print(Insan.PopulationCount())\n",
    "ali = Insan()\n",
    "print(ali.PopulationCount())\n",
    "hasan = Insan()\n",
    "print(hasan.PopulationCount())\n",
    "print(Insan.PopulationCount())"
   ]
  },
  {
   "cell_type": "markdown",
   "metadata": {},
   "source": [
    "##                          why to use them?"
   ]
  },
  {
   "cell_type": "markdown",
   "metadata": {
    "ExecuteTime": {
     "end_time": "2021-04-22T21:30:11.630918Z",
     "start_time": "2021-04-22T21:30:11.625562Z"
    }
   },
   "source": [
    "Static methods are used to group a utility function with a class."
   ]
  },
  {
   "cell_type": "code",
   "execution_count": 35,
   "metadata": {
    "ExecuteTime": {
     "end_time": "2021-04-22T21:30:39.917239Z",
     "start_time": "2021-04-22T21:30:39.911017Z"
    }
   },
   "outputs": [],
   "source": [
    "class Dates:\n",
    "    def __init__(self, date):\n",
    "        self.date = date\n",
    "        \n",
    "    def getDate(self):\n",
    "        return self.date\n",
    "\n",
    "    @staticmethod\n",
    "    def toDashDate(date):\n",
    "        return date.replace(\"/\", \"-\")\n",
    "\n",
    "date = Dates(\"15-12-2016\")\n",
    "dateFromDB = \"15/12/2016\"\n",
    "dateWithDash = Dates.toDashDate(dateFromDB)"
   ]
  },
  {
   "cell_type": "markdown",
   "metadata": {},
   "source": [
    "since toDashDate works only for dates, it's logical to keep it inside the Dates class\n",
    "\n",
    "Consider another example. Suppose we have a large number of examples which perform mathmatical functions such as ceil, multiply, exponent, devide on some input arguments. Then it would be logical to just group all such functions one one class such as math and use the functions as math.ceil(2.2) or math.exp(2.3) etc."
   ]
  },
  {
   "cell_type": "code",
   "execution_count": 36,
   "metadata": {
    "ExecuteTime": {
     "end_time": "2021-04-22T21:31:26.292977Z",
     "start_time": "2021-04-22T21:31:26.289302Z"
    }
   },
   "outputs": [],
   "source": [
    "class math():\n",
    "\n",
    "    @staticmethod\n",
    "    def ceil(x):\n",
    "        # perform ceil operation\n",
    "        return\n",
    "\n",
    "    @staticmethod\n",
    "    def exp(x):\n",
    "        # perform exponent operation\n",
    "        return\n",
    "    \n",
    "    # more methods"
   ]
  },
  {
   "cell_type": "markdown",
   "metadata": {},
   "source": [
    "                                          Classmethod"
   ]
  },
  {
   "cell_type": "code",
   "execution_count": 9,
   "metadata": {
    "ExecuteTime": {
     "end_time": "2021-04-23T06:52:23.239844Z",
     "start_time": "2021-04-23T06:52:23.228104Z"
    }
   },
   "outputs": [
    {
     "name": "stdout",
     "output_type": "stream",
     "text": [
      "akash got 92.85714285714286\n"
     ]
    }
   ],
   "source": [
    "class Student:\n",
    "    def __init__(self,name,marks):\n",
    "        self.name=name\n",
    "        self.marks=marks\n",
    "        \n",
    "    def got(self):\n",
    "        print(self.name+\" got \"+self.marks)\n",
    "\n",
    "name=\"akash\"\n",
    "marks=\"650\"\n",
    "marks1=str((int(marks)/700 )*100)\n",
    "s1=Student(name,marks1)    \n",
    "s1.got()"
   ]
  },
  {
   "cell_type": "code",
   "execution_count": 21,
   "metadata": {
    "ExecuteTime": {
     "end_time": "2021-04-23T07:32:29.357287Z",
     "start_time": "2021-04-23T07:32:29.345641Z"
    }
   },
   "outputs": [
    {
     "name": "stdout",
     "output_type": "stream",
     "text": [
      "akash got 97.14285714285714\n"
     ]
    }
   ],
   "source": [
    "class Student1:\n",
    "    def __init__(self,name,marks):\n",
    "        self.name=name\n",
    "        self.marks=marks\n",
    "        \n",
    "    def got(self):\n",
    "        print(self.name+\" got \"+self.marks)\n",
    "       \n",
    "    @classmethod\n",
    "    def get_percentage(cls,name,marks):\n",
    "        return cls(name,str((int(marks)/700 )*100))\n",
    "\n",
    "name=\"akash\"\n",
    "marks=\"680\"\n",
    "# s2=Student1(name,marks)\n",
    "s2=Student1.get_percentage(name,marks)   \n",
    "s2.got()"
   ]
  },
  {
   "cell_type": "markdown",
   "metadata": {},
   "source": [
    "                                          Property"
   ]
  },
  {
   "cell_type": "code",
   "execution_count": 22,
   "metadata": {
    "ExecuteTime": {
     "end_time": "2021-04-23T07:51:30.776968Z",
     "start_time": "2021-04-23T07:51:30.767800Z"
    }
   },
   "outputs": [
    {
     "name": "stdout",
     "output_type": "stream",
     "text": [
      "39\n",
      "35.1\n"
     ]
    }
   ],
   "source": [
    "class Model:\n",
    "\n",
    "    def __init__(self, temp):\n",
    "        self.temp = temp\n",
    "\n",
    "    @property\n",
    "    def temp(self):\n",
    "        # get temperature from the model through some process\n",
    "        return self._temp\n",
    "\n",
    "    @temp.setter\n",
    "    def temp(self, x):\n",
    "        if x>45:\n",
    "            x = 45\n",
    "        if x < 20:\n",
    "            x = 20\n",
    "        self._temp = x\n",
    "        return\n",
    "    \n",
    "x = Model(39)\n",
    "print(x.temp)\n",
    "\n",
    "x.temp = x.temp*0.9\n",
    "print(x.temp)"
   ]
  },
  {
   "cell_type": "code",
   "execution_count": 29,
   "metadata": {
    "ExecuteTime": {
     "end_time": "2021-04-23T08:19:51.763551Z",
     "start_time": "2021-04-23T08:19:51.747668Z"
    }
   },
   "outputs": [
    {
     "name": "stdout",
     "output_type": "stream",
     "text": [
      "name:  akash\n",
      "grade:  A\n",
      "akash got grade A\n",
      "\n",
      "name:  akash\n",
      "grade:  A+\n",
      "akash got grade A\n"
     ]
    }
   ],
   "source": [
    "\"\"\" Problem , As you \"\"\"\n",
    "class Student:\n",
    "    def __init__(self,name,grade):\n",
    "        self.name=name\n",
    "        self.grade=grade\n",
    "        self.msg=self.name+\" got grade \"+self.grade\n",
    "        \n",
    "s1=Student(\"akash\",'A')   \n",
    "print(\"name: \", s1.name)\n",
    "print(\"grade: \", s1.grade)\n",
    "print(s1.msg)\n",
    "\n",
    "print()\n",
    "s1.grade=\"A+\"\n",
    "print(\"name: \", s1.name)\n",
    "print(\"grade: \", s1.grade)\n",
    "print(s1.msg)"
   ]
  },
  {
   "cell_type": "code",
   "execution_count": 30,
   "metadata": {
    "ExecuteTime": {
     "end_time": "2021-04-23T09:39:29.509424Z",
     "start_time": "2021-04-23T09:39:29.502919Z"
    }
   },
   "outputs": [
    {
     "name": "stdout",
     "output_type": "stream",
     "text": [
      "name:  golu\n",
      "grade:  A+\n",
      "golu got grade A+\n"
     ]
    }
   ],
   "source": [
    "class Student:\n",
    "    def __init__(self,name,grade):\n",
    "        self.name=name\n",
    "        self.grade=grade\n",
    "        \n",
    "    def msg(self):\n",
    "        return self.name+\" got grade \"+self.grade\n",
    "s1=Student('golu','A')\n",
    "s1.grade=\"A+\"\n",
    "print(\"name: \", s1.name)\n",
    "print(\"grade: \", s1.grade)\n",
    "print(s1.msg())"
   ]
  },
  {
   "cell_type": "code",
   "execution_count": 32,
   "metadata": {
    "ExecuteTime": {
     "end_time": "2021-04-23T09:44:00.325765Z",
     "start_time": "2021-04-23T09:44:00.315442Z"
    }
   },
   "outputs": [
    {
     "name": "stdout",
     "output_type": "stream",
     "text": [
      "name:  golu\n",
      "grade:  A+\n",
      "golu got grade A+\n"
     ]
    }
   ],
   "source": [
    "\"\"\"Property decorator allow us to use method as attribute\"\"\"\n",
    "class Student:\n",
    "    def __init__(self,name,grade):\n",
    "        self.name=name\n",
    "        self.grade=grade\n",
    "    @property    \n",
    "    def msg(self):\n",
    "        return self.name+\" got grade \"+self.grade\n",
    "s1=Student('golu','A')\n",
    "s1.grade=\"A+\"\n",
    "print(\"name: \", s1.name)\n",
    "print(\"grade: \", s1.grade)\n",
    "print(s1.msg)\n"
   ]
  },
  {
   "cell_type": "code",
   "execution_count": 34,
   "metadata": {
    "ExecuteTime": {
     "end_time": "2021-04-23T09:52:41.082664Z",
     "start_time": "2021-04-23T09:52:41.075128Z"
    }
   },
   "outputs": [
    {
     "name": "stdout",
     "output_type": "stream",
     "text": [
      "['akash', 'got', 'grade', 'A++']\n",
      "name:  akash\n",
      "grade:  A++\n",
      "akash got grade A++\n"
     ]
    }
   ],
   "source": [
    "class Student:\n",
    "    def __init__(self,name,grade):\n",
    "        self.name=name\n",
    "        self.grade=grade\n",
    "    @property    \n",
    "    def msg(self):\n",
    "        return self.name+\" got grade \"+self.grade\n",
    "    @msg.setter\n",
    "    def msg(self,msg):\n",
    "        sent=msg.split(\" \")\n",
    "        print(sent)\n",
    "        self.grade=sent[-1]\n",
    "        self.name=sent[0]\n",
    "    \n",
    "s1=Student('golu','A')\n",
    "s1.grade=\"A+\"\n",
    "s1.msg=\"akash got grade A++\"\n",
    "print(\"name: \", s1.name)\n",
    "print(\"grade: \", s1.grade)\n",
    "print(s1.msg)"
   ]
  },
  {
   "cell_type": "code",
   "execution_count": 47,
   "metadata": {
    "ExecuteTime": {
     "end_time": "2021-04-23T11:03:13.685989Z",
     "start_time": "2021-04-23T11:03:13.675689Z"
    }
   },
   "outputs": [
    {
     "name": "stdout",
     "output_type": "stream",
     "text": [
      "550\n",
      "91\n"
     ]
    }
   ],
   "source": [
    "class Student:\n",
    "    def __init__(self,marks):\n",
    "        self.__marks=marks    \n",
    "    def percentage(self):\n",
    "        return ((self.__marks*100//600))\n",
    "    \n",
    "    def setter(self,value):\n",
    "        self.__marks=value\n",
    "       \n",
    "    def getter(self):\n",
    "        return self.__marks\n",
    "        \n",
    "s1=Student(500)\n",
    "s1.setter(550)\n",
    "print(s1.getter())\n",
    "print(s1.percentage())\n"
   ]
  },
  {
   "cell_type": "code",
   "execution_count": 54,
   "metadata": {
    "ExecuteTime": {
     "end_time": "2021-04-23T11:06:55.398593Z",
     "start_time": "2021-04-23T11:06:55.390802Z"
    }
   },
   "outputs": [
    {
     "name": "stdout",
     "output_type": "stream",
     "text": [
      "please check the value\n",
      "getting vale: 500\n",
      "83\n"
     ]
    }
   ],
   "source": [
    "class Student:\n",
    "    def __init__(self,marks):\n",
    "        self.__marks=marks    \n",
    "    def percentage(self):\n",
    "        return ((self.__marks*100//600))\n",
    "    @property\n",
    "    def marks(self):\n",
    "        print(\"getting vale:\",end=\" \")\n",
    "        return self.__marks\n",
    "    @marks.setter        \n",
    "    def marks(self,value):\n",
    "        if value<0 or value>600:\n",
    "            print(\"please check the value\")\n",
    "        else:\n",
    "            print(\"setting vale:\",value)\n",
    "            self.__marks=value\n",
    "\n",
    "        \n",
    "s1=Student(500)\n",
    "s1.marks=601\n",
    "print(s1.marks)\n",
    "print(s1.percentage())"
   ]
  },
  {
   "cell_type": "code",
   "execution_count": 59,
   "metadata": {
    "ExecuteTime": {
     "end_time": "2021-04-23T11:14:21.808259Z",
     "start_time": "2021-04-23T11:14:21.800302Z"
    }
   },
   "outputs": [
    {
     "name": "stdout",
     "output_type": "stream",
     "text": [
      "setting vale: 400\n",
      "66\n"
     ]
    }
   ],
   "source": [
    "class Student3:\n",
    "    def __init__(self,marks):\n",
    "        self.__marks=marks    \n",
    "    def percentage(self):\n",
    "        return ((self.__marks*100//600))\n",
    "    \n",
    "    def setter(self,value):\n",
    "        if value<0 or value>600:\n",
    "            print(\"please check the value\")\n",
    "        else:\n",
    "            print(\"setting vale:\",value)\n",
    "            self.__marks=value\n",
    "       \n",
    "    def getter(self):\n",
    "        print(\"getting vale:\",end=\" \")\n",
    "        return self.__marks\n",
    "    \n",
    "    marks=property(getter,setter)\n",
    "        \n",
    "s1=Student3(500)\n",
    "s1.marks=400\n",
    "print(s1.percentage())"
   ]
  },
  {
   "cell_type": "markdown",
   "metadata": {},
   "source": [
    "                                         Decorator"
   ]
  },
  {
   "cell_type": "code",
   "execution_count": 35,
   "metadata": {
    "ExecuteTime": {
     "end_time": "2021-04-23T09:54:42.295238Z",
     "start_time": "2021-04-23T09:54:42.288926Z"
    }
   },
   "outputs": [
    {
     "name": "stdout",
     "output_type": "stream",
     "text": [
      "###########\n",
      "i am akash verma\n",
      "i am from gwalior\n",
      "i am pursuing master from nitk\n",
      "$$$$$$$$$$$\n"
     ]
    }
   ],
   "source": [
    "def fun1(fun2):\n",
    "    def lower():\n",
    "        print('i am akash verma')\n",
    "        fun2()\n",
    "        print('i am pursuing master from nitk')\n",
    "    return lower\n",
    "\n",
    "def fun3(fun1):\n",
    "    def lower():\n",
    "        print('###########')\n",
    "        fun1()\n",
    "        print('$$$$$$$$$$$')\n",
    "    return lower\n",
    "\n",
    "@fun3\n",
    "@fun1\n",
    "def fun2():\n",
    "    print('i am from gwalior')\n",
    "    \n",
    "fun2()    \n",
    "    "
   ]
  },
  {
   "cell_type": "markdown",
   "metadata": {},
   "source": [
    "# Type"
   ]
  },
  {
   "cell_type": "code",
   "execution_count": 48,
   "metadata": {
    "ExecuteTime": {
     "end_time": "2021-04-24T18:20:33.524317Z",
     "start_time": "2021-04-24T18:20:33.517068Z"
    }
   },
   "outputs": [
    {
     "name": "stdout",
     "output_type": "stream",
     "text": [
      "<class '__main__.A'>\n",
      "<class '__main__.A'>\n",
      "<class 'type'>\n"
     ]
    }
   ],
   "source": [
    "class A:\n",
    "    y=20\n",
    "\n",
    "\n",
    "a=A()\n",
    "b=A()\n",
    "print(type(a))\n",
    "print(type(b))\n",
    "print(type(A))"
   ]
  },
  {
   "cell_type": "code",
   "execution_count": 49,
   "metadata": {
    "ExecuteTime": {
     "end_time": "2021-04-24T18:20:50.303442Z",
     "start_time": "2021-04-24T18:20:50.297879Z"
    }
   },
   "outputs": [
    {
     "name": "stdout",
     "output_type": "stream",
     "text": [
      "20\n",
      "<class 'type'>\n",
      "<class '__main__.aksh'>\n"
     ]
    }
   ],
   "source": [
    "# dynamic way to create a class\n",
    "c=type(\"aksh\",(A,),{})\n",
    "print(c.y)\n",
    "print(type(c))\n",
    "print(type(c()))"
   ]
  },
  {
   "cell_type": "code",
   "execution_count": 50,
   "metadata": {
    "ExecuteTime": {
     "end_time": "2021-04-24T18:51:31.204010Z",
     "start_time": "2021-04-24T18:51:31.196341Z"
    }
   },
   "outputs": [
    {
     "data": {
      "text/plain": [
       "__main__.Meta"
      ]
     },
     "execution_count": 50,
     "metadata": {},
     "output_type": "execute_result"
    }
   ],
   "source": [
    "class Meta(type):\n",
    "    pass\n",
    "class askl(metaclass=Meta):\n",
    "    pass\n",
    "type(askl)"
   ]
  },
  {
   "cell_type": "code",
   "execution_count": 51,
   "metadata": {
    "ExecuteTime": {
     "end_time": "2021-04-24T18:51:53.800689Z",
     "start_time": "2021-04-24T18:51:53.795393Z"
    }
   },
   "outputs": [
    {
     "data": {
      "text/plain": [
       "type"
      ]
     },
     "execution_count": 51,
     "metadata": {},
     "output_type": "execute_result"
    }
   ],
   "source": [
    "type(Meta)"
   ]
  },
  {
   "cell_type": "code",
   "execution_count": 57,
   "metadata": {
    "ExecuteTime": {
     "end_time": "2021-04-24T18:57:33.862930Z",
     "start_time": "2021-04-24T18:57:33.855964Z"
    }
   },
   "outputs": [
    {
     "name": "stdout",
     "output_type": "stream",
     "text": [
      "hello again\n"
     ]
    }
   ],
   "source": [
    "class Metatwo(type):\n",
    "    def __new__(self,*args,**kwargs):\n",
    "        print(\"hello again\")\n",
    "    \n",
    "    def __init__(self,*args,**kwargs):\n",
    "        print(\"this\")\n",
    "        \n",
    "class Python(metaclass=Metatwo):\n",
    "    pass\n",
    "    \n",
    "# a=Python()\n"
   ]
  },
  {
   "cell_type": "markdown",
   "metadata": {},
   "source": [
    "                                           Class "
   ]
  },
  {
   "cell_type": "code",
   "execution_count": 31,
   "metadata": {
    "ExecuteTime": {
     "end_time": "2021-03-23T18:43:34.314592Z",
     "start_time": "2021-03-23T18:43:34.304854Z"
    }
   },
   "outputs": [],
   "source": [
    "class student:\n",
    "    def __init__(self,name,rollno):\n",
    "        self.name=name\n",
    "        self.rollno=rollno\n",
    "\n",
    "    def name(self,name):\n",
    "        print('name of student',name)\n",
    "        \n",
    "st1=student('aksh',21) \n",
    "# st1.name('akash')\n",
    "\n",
    "    "
   ]
  },
  {
   "cell_type": "code",
   "execution_count": 14,
   "metadata": {
    "ExecuteTime": {
     "end_time": "2021-03-23T18:08:56.222122Z",
     "start_time": "2021-03-23T18:08:56.213309Z"
    }
   },
   "outputs": [
    {
     "name": "stdout",
     "output_type": "stream",
     "text": [
      "golu\n",
      "23\n"
     ]
    }
   ],
   "source": [
    "class student:\n",
    "    def __init__(self,name,rollnum):\n",
    "        self.name=name\n",
    "        self.rollno=rollnum\n",
    "        \n",
    "    def info(self,name,rollnum):\n",
    "        print(name)\n",
    "        print(rollnum)\n",
    "        \n",
    "\n",
    "s1=student('akash',23)\n",
    "s1.info('golu',23)\n",
    "        "
   ]
  },
  {
   "cell_type": "code",
   "execution_count": 55,
   "metadata": {
    "ExecuteTime": {
     "end_time": "2021-04-23T11:08:12.411557Z",
     "start_time": "2021-04-23T11:08:12.404420Z"
    }
   },
   "outputs": [
    {
     "name": "stdout",
     "output_type": "stream",
     "text": [
      "Help on class property in module builtins:\n",
      "\n",
      "class property(object)\n",
      " |  property(fget=None, fset=None, fdel=None, doc=None)\n",
      " |  \n",
      " |  Property attribute.\n",
      " |  \n",
      " |    fget\n",
      " |      function to be used for getting an attribute value\n",
      " |    fset\n",
      " |      function to be used for setting an attribute value\n",
      " |    fdel\n",
      " |      function to be used for del'ing an attribute\n",
      " |    doc\n",
      " |      docstring\n",
      " |  \n",
      " |  Typical use is to define a managed attribute x:\n",
      " |  \n",
      " |  class C(object):\n",
      " |      def getx(self): return self._x\n",
      " |      def setx(self, value): self._x = value\n",
      " |      def delx(self): del self._x\n",
      " |      x = property(getx, setx, delx, \"I'm the 'x' property.\")\n",
      " |  \n",
      " |  Decorators make defining new properties or modifying existing ones easy:\n",
      " |  \n",
      " |  class C(object):\n",
      " |      @property\n",
      " |      def x(self):\n",
      " |          \"I am the 'x' property.\"\n",
      " |          return self._x\n",
      " |      @x.setter\n",
      " |      def x(self, value):\n",
      " |          self._x = value\n",
      " |      @x.deleter\n",
      " |      def x(self):\n",
      " |          del self._x\n",
      " |  \n",
      " |  Methods defined here:\n",
      " |  \n",
      " |  __delete__(self, instance, /)\n",
      " |      Delete an attribute of instance.\n",
      " |  \n",
      " |  __get__(self, instance, owner, /)\n",
      " |      Return an attribute of instance, which is of type owner.\n",
      " |  \n",
      " |  __getattribute__(self, name, /)\n",
      " |      Return getattr(self, name).\n",
      " |  \n",
      " |  __init__(self, /, *args, **kwargs)\n",
      " |      Initialize self.  See help(type(self)) for accurate signature.\n",
      " |  \n",
      " |  __set__(self, instance, value, /)\n",
      " |      Set an attribute of instance to value.\n",
      " |  \n",
      " |  deleter(...)\n",
      " |      Descriptor to change the deleter on a property.\n",
      " |  \n",
      " |  getter(...)\n",
      " |      Descriptor to change the getter on a property.\n",
      " |  \n",
      " |  setter(...)\n",
      " |      Descriptor to change the setter on a property.\n",
      " |  \n",
      " |  ----------------------------------------------------------------------\n",
      " |  Static methods defined here:\n",
      " |  \n",
      " |  __new__(*args, **kwargs) from builtins.type\n",
      " |      Create and return a new object.  See help(type) for accurate signature.\n",
      " |  \n",
      " |  ----------------------------------------------------------------------\n",
      " |  Data descriptors defined here:\n",
      " |  \n",
      " |  __isabstractmethod__\n",
      " |  \n",
      " |  fdel\n",
      " |  \n",
      " |  fget\n",
      " |  \n",
      " |  fset\n",
      "\n"
     ]
    }
   ],
   "source": [
    "help(property)"
   ]
  },
  {
   "cell_type": "markdown",
   "metadata": {
    "ExecuteTime": {
     "end_time": "2021-04-23T11:08:44.511468Z",
     "start_time": "2021-04-23T11:08:44.500349Z"
    }
   },
   "source": [
    "#                                        Inheritance"
   ]
  },
  {
   "cell_type": "code",
   "execution_count": 11,
   "metadata": {
    "ExecuteTime": {
     "end_time": "2021-04-25T09:44:59.351338Z",
     "start_time": "2021-04-25T09:44:59.338275Z"
    }
   },
   "outputs": [
    {
     "name": "stdout",
     "output_type": "stream",
     "text": [
      "akash.verma@gmail.com\n",
      "python\n"
     ]
    }
   ],
   "source": [
    "##method resolution order\n",
    "class Employee:\n",
    "    raise_amt=1.04\n",
    "    def __init__(self,first,last,pay):\n",
    "        self.first=first\n",
    "        self.last=last\n",
    "        self.email=self.first+'.'+self.last+'@gmail.com'\n",
    "        self.pay=pay\n",
    "        \n",
    "    def fullname(self):\n",
    "        return '{} {}'.format(self.first,self.last)\n",
    "    \n",
    "    def apply_raise(self):\n",
    "        self.pay = int(self.pay*self.raise_amt)\n",
    "        \n",
    "        \n",
    "class Developer(Employee):\n",
    "    \"\"\"I want to change raise amount by 10percentage\"\"\"\n",
    "    raise_amt=1.10    \n",
    "    # I want to add Programming language also in __init__ method\n",
    "    # First way but it is Tedious task and code would look like dirty\n",
    "#     def __init__(self,first,last,pay,prolang):\n",
    "#         self.first=first\n",
    "#         self.last=last\n",
    "#         self.email=self.first+'.'+self.last+'@gmail.com'\n",
    "#         self.pay=pay\n",
    "#         self.prolang=prolang\n",
    "    \n",
    "    #Second way ,,,it is a better then before and look good \n",
    "#     def __init__(self,first,last,pay,prolang): \n",
    "#         Employee.__init__(self,first,last,pay) # We Can also try this but this is not good Practice\n",
    "    \n",
    "    #Third method --- Best method \n",
    "    def __init__(self,first,last,pay,prolang):\n",
    "        super().__init__(first,last,pay)\n",
    "        self.prolang=prolang\n",
    "        \n",
    "        \n",
    "class Manager(Employee):\n",
    "    \n",
    "    def __init__(self,first,last,pay,employees=None):\n",
    "        super.__init__(first,last,pay)\n",
    "        if employees is None:\n",
    "            self.employees = []\n",
    "        else:\n",
    "            self.employees = employees\n",
    "    \n",
    "    def add_emp(self,emp):\n",
    "        if emp not in self.employees:\n",
    "            self.employees.append(emp)\n",
    "            \n",
    "    def remove_emp(self,emp):\n",
    "        if emp in self.employees:\n",
    "            self.employees.remove(emp)\n",
    "            \n",
    "    def print_emps(self):\n",
    "        for emp in self.employees:\n",
    "            print('-->',emp.fullname())\n",
    "            \n",
    "    \n",
    "      \n",
    "# help(Developer)    It shows all the information which it have. we can also see mro. \n",
    "e1= Developer('akash','verma',100000,'python')\n",
    "e2= Developer('golu','verma',200000,'python')\n",
    "\n",
    "mag1 = Manager('Sue','smith',90000,[e1])\n",
    "print(mag1.email)\n",
    "mag1.fullname\n",
    "\n",
    "\n",
    "\n",
    "# print(e1.email)\n",
    "# print(e2.email)\n",
    "\n",
    "# print(e1.email)\n",
    "# print(e1.prolang)\n"
   ]
  },
  {
   "cell_type": "code",
   "execution_count": 13,
   "metadata": {
    "ExecuteTime": {
     "end_time": "2021-04-25T19:05:49.678148Z",
     "start_time": "2021-04-25T19:05:49.671827Z"
    }
   },
   "outputs": [
    {
     "name": "stdout",
     "output_type": "stream",
     "text": [
      "🤗 🤗 😷 😪 😘 😀 🤗\n"
     ]
    }
   ],
   "source": [
    "print(\"\\U0001F917\",\"\\U0001F917\",\"\\U0001F637\",\"\\U0001F62A\",\"\\U0001F618\",\"\\U0001F600\",\"\\U0001F917\")"
   ]
  },
  {
   "cell_type": "markdown",
   "metadata": {},
   "source": [
    "#      Subprocess"
   ]
  },
  {
   "cell_type": "code",
   "execution_count": 3,
   "metadata": {
    "ExecuteTime": {
     "end_time": "2021-04-25T18:52:18.803199Z",
     "start_time": "2021-04-25T18:52:18.728595Z"
    }
   },
   "outputs": [
    {
     "name": "stdout",
     "output_type": "stream",
     "text": [
      "['ls', '-la']\n"
     ]
    }
   ],
   "source": [
    "import subprocess\n",
    "p1=subprocess.run(['ls','-la'])\n",
    "print(p1.args)"
   ]
  },
  {
   "cell_type": "markdown",
   "metadata": {},
   "source": [
    "#  Threading"
   ]
  },
  {
   "cell_type": "code",
   "execution_count": null,
   "metadata": {},
   "outputs": [],
   "source": [
    "\"\"\"We use threading to speed up Program\"\"\""
   ]
  },
  {
   "cell_type": "code",
   "execution_count": 1,
   "metadata": {
    "ExecuteTime": {
     "end_time": "2021-04-26T05:24:24.028398Z",
     "start_time": "2021-04-26T05:24:23.019699Z"
    }
   },
   "outputs": [
    {
     "name": "stdout",
     "output_type": "stream",
     "text": [
      "Sleeping for 1 second.......\n",
      "Done Sleeping\n",
      "Finised in 1.0 seconds\n"
     ]
    }
   ],
   "source": [
    "import time\n",
    "\n",
    "start = time.perf_counter()\n",
    "\n",
    "def do_somethng():\n",
    "    print('Sleeping for 1 second.......')\n",
    "    time.sleep(1)\n",
    "    print(\"Done Sleeping\")\n",
    "    \n",
    "do_somethng()\n",
    "\n",
    "finish = time.perf_counter()\n",
    "\n",
    "print(f'Finised in {round(finish-start,2)} seconds')"
   ]
  },
  {
   "cell_type": "code",
   "execution_count": 2,
   "metadata": {
    "ExecuteTime": {
     "end_time": "2021-04-26T05:25:18.359542Z",
     "start_time": "2021-04-26T05:25:16.349170Z"
    }
   },
   "outputs": [
    {
     "name": "stdout",
     "output_type": "stream",
     "text": [
      "Sleeping for 1 second.......\n",
      "Done Sleeping\n",
      "Sleeping for 1 second.......\n",
      "Done Sleeping\n",
      "Finised in 2.0 seconds\n"
     ]
    }
   ],
   "source": [
    "import time\n",
    "\n",
    "start = time.perf_counter()\n",
    "\n",
    "def do_somethng():\n",
    "    print('Sleeping for 1 second.......')\n",
    "    time.sleep(1)\n",
    "    print(\"Done Sleeping\")\n",
    "    \n",
    "do_somethng()\n",
    "do_somethng()\n",
    "\n",
    "finish = time.perf_counter()\n",
    "\n",
    "print(f'Finised in {round(finish-start,2)} seconds')"
   ]
  },
  {
   "cell_type": "code",
   "execution_count": 3,
   "metadata": {
    "ExecuteTime": {
     "end_time": "2021-04-26T05:45:57.505421Z",
     "start_time": "2021-04-26T05:45:57.495837Z"
    }
   },
   "outputs": [
    {
     "name": "stdout",
     "output_type": "stream",
     "text": [
      "Sleeping for 1 second.......\n",
      "Sleeping for 1 second.......\n",
      "Finised in 0.0 seconds\n"
     ]
    }
   ],
   "source": [
    "import threading \n",
    "\n",
    "import time\n",
    "\n",
    "start = time.perf_counter()\n",
    "\n",
    "def do_somethng():\n",
    "    print('Sleeping for 1 second.......')\n",
    "    time.sleep(1)\n",
    "    print(\"Done Sleeping\")\n",
    "\n",
    "    \n",
    "\n",
    "t1=threading.Thread(target=do_somethng)\n",
    "t2=threading.Thread(target=do_somethng)\n",
    "\n",
    "t1.start()\n",
    "t2.start()\n",
    "\n",
    "\n",
    "\n",
    "finish = time.perf_counter()\n",
    "\n",
    "print(f'Finised in {round(finish-start,2)} seconds')"
   ]
  },
  {
   "cell_type": "code",
   "execution_count": 4,
   "metadata": {
    "ExecuteTime": {
     "end_time": "2021-04-26T05:49:12.150038Z",
     "start_time": "2021-04-26T05:49:11.141167Z"
    }
   },
   "outputs": [
    {
     "name": "stdout",
     "output_type": "stream",
     "text": [
      "Sleeping for 1 second.......\n",
      "Sleeping for 1 second.......\n",
      "Done Sleeping\n",
      "Done Sleeping\n",
      "Finised in 1.0 seconds\n"
     ]
    }
   ],
   "source": [
    "import threading \n",
    "\n",
    "import time\n",
    "\n",
    "start = time.perf_counter()\n",
    "\n",
    "def do_somethng():\n",
    "    print('Sleeping for 1 second.......')\n",
    "    time.sleep(1)\n",
    "    print(\"Done Sleeping\")\n",
    "\n",
    "    \n",
    "\n",
    "t1=threading.Thread(target=do_somethng)\n",
    "t2=threading.Thread(target=do_somethng)\n",
    "\n",
    "t1.start()\n",
    "t2.start()\n",
    "\n",
    "t1.join()\n",
    "t2.join()\n",
    "\n",
    "finish = time.perf_counter()\n",
    "\n",
    "print(f'Finised in {round(finish-start,2)} seconds')"
   ]
  },
  {
   "cell_type": "code",
   "execution_count": 7,
   "metadata": {
    "ExecuteTime": {
     "end_time": "2021-04-26T06:02:41.877291Z",
     "start_time": "2021-04-26T06:02:40.364821Z"
    }
   },
   "outputs": [
    {
     "name": "stdout",
     "output_type": "stream",
     "text": [
      "Sleeping for 1.5 second.......\n",
      "Sleeping for 1.5 second.......\n",
      "Sleeping for 1.5 second.......\n",
      "Sleeping for 1.5 second.......\n",
      "Sleeping for 1.5 second.......\n",
      "Sleeping for 1.5 second.......\n",
      "Sleeping for 1.5 second.......Sleeping for 1.5 second.......\n",
      "\n",
      "Sleeping for 1.5 second.......\n",
      "Sleeping for 1.5 second.......\n",
      "Done SleepingDone Sleeping\n",
      "Done Sleeping\n",
      "\n",
      "Done SleepingDone SleepingDone Sleeping\n",
      "\n",
      "\n",
      "Done Sleeping\n",
      "Done SleepingDone Sleeping\n",
      "Done Sleeping\n",
      "\n",
      "Finised in 1.51 seconds\n"
     ]
    }
   ],
   "source": [
    "import threading \n",
    "\n",
    "import time\n",
    "\n",
    "start = time.perf_counter()\n",
    "threads=[]\n",
    "\n",
    "def do_somethng(seconds):\n",
    "    print(f'Sleeping for {seconds} second.......')\n",
    "    time.sleep(seconds)\n",
    "    print(\"Done Sleeping\")\n",
    "\n",
    "    \n",
    "for _ in range(10):\n",
    "    t = threading.Thread(target=do_somethng,args=[1.5])\n",
    "    t.start()\n",
    "    threads.append(t)\n",
    "    \n",
    "    \n",
    "for thread in threads:\n",
    "    thread.join()\n",
    "\n",
    "\n",
    "finish = time.perf_counter()\n",
    "\n",
    "print(f'Finised in {round(finish-start,2)} seconds')"
   ]
  },
  {
   "cell_type": "code",
   "execution_count": 24,
   "metadata": {
    "ExecuteTime": {
     "end_time": "2021-04-26T08:55:49.515514Z",
     "start_time": "2021-04-26T08:55:48.506551Z"
    }
   },
   "outputs": [
    {
     "name": "stdout",
     "output_type": "stream",
     "text": [
      "Sleeping for 1 second.......\n",
      "Done Sleeping\n",
      "Finised in 1.0 seconds\n"
     ]
    }
   ],
   "source": [
    "import concurrent.futures\n",
    "\n",
    "import time\n",
    "\n",
    "start = time.perf_counter()\n",
    "\n",
    "\n",
    "def do_somethng(seconds):\n",
    "    print(f'Sleeping for {seconds} second.......')\n",
    "    time.sleep(seconds)\n",
    "    return \"Done Sleeping\"\n",
    "\n",
    "with concurrent.futures.ThreadPoolExecutor() as executor:\n",
    "    f1 = executor.submit(do_somethng,1) \n",
    "    print(f1.result())\n",
    "    \n",
    "    \n",
    "finish = time.perf_counter()\n",
    "\n",
    "print(f'Finised in {round(finish-start,2)} seconds')"
   ]
  },
  {
   "cell_type": "code",
   "execution_count": 28,
   "metadata": {
    "ExecuteTime": {
     "end_time": "2021-04-26T08:56:53.080193Z",
     "start_time": "2021-04-26T08:56:52.068400Z"
    }
   },
   "outputs": [
    {
     "name": "stdout",
     "output_type": "stream",
     "text": [
      "Sleeping for 1 second.......\n",
      "Sleeping for 1 second.......\n",
      "Done Sleeping....1\n",
      "Done Sleeping....1\n",
      "Finised in 1.0 seconds\n"
     ]
    }
   ],
   "source": [
    "import concurrent.futures\n",
    "\n",
    "import time\n",
    "\n",
    "start = time.perf_counter()\n",
    "\n",
    "\n",
    "def do_somethng(seconds):\n",
    "    print(f'Sleeping for {seconds} second.......')\n",
    "    time.sleep(seconds)\n",
    "    return f'Done Sleeping....{seconds}'\n",
    "\n",
    "with concurrent.futures.ThreadPoolExecutor() as executor:\n",
    "    f1 = executor.submit(do_somethng,1) \n",
    "    f2 = executor.submit(do_somethng,1) \n",
    "    print(f1.result())\n",
    "    print(f2.result())\n",
    "    \n",
    "    \n",
    "finish = time.perf_counter()\n",
    "\n",
    "print(f'Finised in {round(finish-start,2)} seconds')"
   ]
  },
  {
   "cell_type": "code",
   "execution_count": 29,
   "metadata": {
    "ExecuteTime": {
     "end_time": "2021-04-26T08:56:57.673915Z",
     "start_time": "2021-04-26T08:56:56.657011Z"
    }
   },
   "outputs": [
    {
     "name": "stdout",
     "output_type": "stream",
     "text": [
      "Sleeping for 1 second.......Sleeping for 1 second.......\n",
      "\n",
      "Sleeping for 1 second.......\n",
      "Sleeping for 1 second.......Sleeping for 1 second.......\n",
      "\n",
      "Sleeping for 1 second.......\n",
      "Sleeping for 1 second.......\n",
      "Sleeping for 1 second.......Sleeping for 1 second.......\n",
      "Sleeping for 1 second.......\n",
      "\n",
      "Done Sleeping....1\n",
      "Done Sleeping....1\n",
      "Done Sleeping....1\n",
      "Done Sleeping....1\n",
      "Done Sleeping....1\n",
      "Done Sleeping....1\n",
      "Done Sleeping....1\n",
      "Done Sleeping....1\n",
      "Done Sleeping....1\n",
      "Done Sleeping....1\n",
      "Finised in 1.01 seconds\n"
     ]
    }
   ],
   "source": [
    "start = time.perf_counter()\n",
    "\n",
    "with concurrent.futures.ThreadPoolExecutor() as executor:\n",
    "    results = [executor.submit(do_somethng,1) for _ in range(10)] \n",
    "\n",
    "    for f in concurrent.futures.as_completed(results):\n",
    "        print(f.result())\n",
    "    \n",
    "finish = time.perf_counter()\n",
    "\n",
    "print(f'Finised in {round(finish-start,2)} seconds')"
   ]
  },
  {
   "cell_type": "code",
   "execution_count": 30,
   "metadata": {
    "ExecuteTime": {
     "end_time": "2021-04-26T08:57:05.302749Z",
     "start_time": "2021-04-26T08:57:00.286509Z"
    }
   },
   "outputs": [
    {
     "name": "stdout",
     "output_type": "stream",
     "text": [
      "Sleeping for 5 second.......\n",
      "Sleeping for 4 second.......\n",
      "Sleeping for 3 second.......\n",
      "Sleeping for 2 second.......\n",
      "Sleeping for 1 second.......\n",
      "Done Sleeping....1\n",
      "Done Sleeping....2\n",
      "Done Sleeping....3\n",
      "Done Sleeping....4\n",
      "Done Sleeping....5\n",
      "Finised in 5.01 seconds\n"
     ]
    }
   ],
   "source": [
    "start = time.perf_counter()\n",
    "\n",
    "with concurrent.futures.ThreadPoolExecutor() as executor:\n",
    "    secs=[5,4,3,2,1]\n",
    "    results = [executor.submit(do_somethng,sec) for sec in secs] \n",
    "\n",
    "    for f in concurrent.futures.as_completed(results):\n",
    "        print(f.result())\n",
    "    \n",
    "finish = time.perf_counter()\n",
    "\n",
    "print(f'Finised in {round(finish-start,2)} seconds')"
   ]
  },
  {
   "cell_type": "code",
   "execution_count": 31,
   "metadata": {
    "ExecuteTime": {
     "end_time": "2021-04-26T08:57:48.097367Z",
     "start_time": "2021-04-26T08:57:43.086010Z"
    }
   },
   "outputs": [
    {
     "name": "stdout",
     "output_type": "stream",
     "text": [
      "Sleeping for 5 second.......\n",
      "Sleeping for 4 second.......\n",
      "Sleeping for 3 second.......\n",
      "Sleeping for 2 second.......\n",
      "Sleeping for 1 second.......\n",
      "Done Sleeping....5\n",
      "Done Sleeping....4\n",
      "Done Sleeping....3\n",
      "Done Sleeping....2\n",
      "Done Sleeping....1\n",
      "Finised in 5.01 seconds\n"
     ]
    }
   ],
   "source": [
    "start = time.perf_counter()\n",
    "\n",
    "with concurrent.futures.ThreadPoolExecutor() as executor:\n",
    "    secs=[5,4,3,2,1]\n",
    "    results = executor.map(do_somethng,secs)\n",
    "    \n",
    "    for result in results:\n",
    "        print(result)\n",
    "finish = time.perf_counter()\n",
    "\n",
    "print(f'Finised in {round(finish-start,2)} seconds')"
   ]
  },
  {
   "cell_type": "code",
   "execution_count": 40,
   "metadata": {
    "ExecuteTime": {
     "end_time": "2021-04-26T09:16:38.874419Z",
     "start_time": "2021-04-26T09:16:09.735639Z"
    }
   },
   "outputs": [
    {
     "name": "stdout",
     "output_type": "stream",
     "text": [
      "photo-1516117172878-fd2c41f4a759.jpg was downloaded...\n",
      "photo-1532009324734-20a7a5813719.jpg was downloaded...\n",
      "photo-1524429656589-6633a470097c.jpg was downloaded...\n",
      "photo-1530224264768-7ff8c1789d79.jpg was downloaded...\n",
      "photo-1564135624576-c5c88640f235.jpg was downloaded...\n",
      "photo-1541698444083-023c97d3f4b6.jpg was downloaded...\n",
      "photo-1522364723953-452d3431c267.jpg was downloaded...\n",
      "photo-1513938709626-033611b8cc03.jpg was downloaded...\n",
      "photo-1507143550189-fed454f93097.jpg was downloaded...\n",
      "photo-1493976040374-85c8e12f0c0e.jpg was downloaded...\n",
      "photo-1504198453319-5ce911bafcde.jpg was downloaded...\n",
      "photo-1530122037265-a5f1f91d3b99.jpg was downloaded...\n",
      "photo-1516972810927-80185027ca84.jpg was downloaded...\n",
      "photo-1550439062-609e1531270e.jpg was downloaded...\n",
      "photo-1549692520-acc6669e2f0c.jpg was downloaded...\n",
      "Finished in 29.12880120400041 seconds\n"
     ]
    }
   ],
   "source": [
    "import requests\n",
    "import time\n",
    "\n",
    "\n",
    "img_urls = [\n",
    "    'https://images.unsplash.com/photo-1516117172878-fd2c41f4a759',\n",
    "    'https://images.unsplash.com/photo-1532009324734-20a7a5813719',\n",
    "    'https://images.unsplash.com/photo-1524429656589-6633a470097c',\n",
    "    'https://images.unsplash.com/photo-1530224264768-7ff8c1789d79',\n",
    "    'https://images.unsplash.com/photo-1564135624576-c5c88640f235',\n",
    "    'https://images.unsplash.com/photo-1541698444083-023c97d3f4b6',\n",
    "    'https://images.unsplash.com/photo-1522364723953-452d3431c267',\n",
    "    'https://images.unsplash.com/photo-1513938709626-033611b8cc03',\n",
    "    'https://images.unsplash.com/photo-1507143550189-fed454f93097',\n",
    "    'https://images.unsplash.com/photo-1493976040374-85c8e12f0c0e',\n",
    "    'https://images.unsplash.com/photo-1504198453319-5ce911bafcde',\n",
    "    'https://images.unsplash.com/photo-1530122037265-a5f1f91d3b99',\n",
    "    'https://images.unsplash.com/photo-1516972810927-80185027ca84',\n",
    "    'https://images.unsplash.com/photo-1550439062-609e1531270e',\n",
    "    'https://images.unsplash.com/photo-1549692520-acc6669e2f0c'\n",
    "]\n",
    "\n",
    "t1 = time.perf_counter()\n",
    "\n",
    "\n",
    "for img_url in img_urls:\n",
    "    img_bytes = requests.get(img_url).content\n",
    "    img_name = img_url.split('/')[3]\n",
    "    img_name = f'{img_name}.jpg'\n",
    "    with open(img_name, 'wb') as img_file:\n",
    "        img_file.write(img_bytes)\n",
    "        print(f'{img_name} was downloaded...')\n",
    "\n",
    "\n",
    "\n",
    "\n",
    "t2 = time.perf_counter()\n",
    "\n",
    "print(f'Finished in {t2-t1} seconds')"
   ]
  },
  {
   "cell_type": "code",
   "execution_count": 41,
   "metadata": {
    "ExecuteTime": {
     "end_time": "2021-04-26T09:17:42.428365Z",
     "start_time": "2021-04-26T09:17:15.870098Z"
    }
   },
   "outputs": [
    {
     "name": "stdout",
     "output_type": "stream",
     "text": [
      "photo-1516117172878-fd2c41f4a759.jpg was downloaded...\n",
      "photo-1564135624576-c5c88640f235.jpg was downloaded...\n",
      "photo-1549692520-acc6669e2f0c.jpg was downloaded...\n",
      "photo-1507143550189-fed454f93097.jpg was downloaded...\n",
      "photo-1516972810927-80185027ca84.jpg was downloaded...\n",
      "photo-1504198453319-5ce911bafcde.jpg was downloaded...\n",
      "photo-1530224264768-7ff8c1789d79.jpg was downloaded...\n",
      "photo-1513938709626-033611b8cc03.jpg was downloaded...\n",
      "photo-1550439062-609e1531270e.jpg was downloaded...\n",
      "photo-1524429656589-6633a470097c.jpg was downloaded...\n",
      "photo-1530122037265-a5f1f91d3b99.jpg was downloaded...\n",
      "photo-1522364723953-452d3431c267.jpg was downloaded...\n",
      "photo-1532009324734-20a7a5813719.jpg was downloaded...\n",
      "photo-1541698444083-023c97d3f4b6.jpg was downloaded...\n",
      "photo-1493976040374-85c8e12f0c0e.jpg was downloaded...\n",
      "Finished in 26.5474217280007 seconds\n"
     ]
    }
   ],
   "source": [
    "import requests\n",
    "import time\n",
    "import concurrent.futures\n",
    "\n",
    "img_urls = [\n",
    "    'https://images.unsplash.com/photo-1516117172878-fd2c41f4a759',\n",
    "    'https://images.unsplash.com/photo-1532009324734-20a7a5813719',\n",
    "    'https://images.unsplash.com/photo-1524429656589-6633a470097c',\n",
    "    'https://images.unsplash.com/photo-1530224264768-7ff8c1789d79',\n",
    "    'https://images.unsplash.com/photo-1564135624576-c5c88640f235',\n",
    "    'https://images.unsplash.com/photo-1541698444083-023c97d3f4b6',\n",
    "    'https://images.unsplash.com/photo-1522364723953-452d3431c267',\n",
    "    'https://images.unsplash.com/photo-1513938709626-033611b8cc03',\n",
    "    'https://images.unsplash.com/photo-1507143550189-fed454f93097',\n",
    "    'https://images.unsplash.com/photo-1493976040374-85c8e12f0c0e',\n",
    "    'https://images.unsplash.com/photo-1504198453319-5ce911bafcde',\n",
    "    'https://images.unsplash.com/photo-1530122037265-a5f1f91d3b99',\n",
    "    'https://images.unsplash.com/photo-1516972810927-80185027ca84',\n",
    "    'https://images.unsplash.com/photo-1550439062-609e1531270e',\n",
    "    'https://images.unsplash.com/photo-1549692520-acc6669e2f0c'\n",
    "]\n",
    "\n",
    "t3 = time.perf_counter()\n",
    "\n",
    "\n",
    "def download_image(img_url):\n",
    "    img_bytes = requests.get(img_url).content\n",
    "    img_name = img_url.split('/')[3]\n",
    "    img_name = f'{img_name}.jpg'\n",
    "    with open(img_name, 'wb') as img_file:\n",
    "        img_file.write(img_bytes)\n",
    "        print(f'{img_name} was downloaded...')\n",
    "\n",
    "        \n",
    "with concurrent.futures.ThreadPoolExecutor() as executor:\n",
    "    executor.map(download_image, img_urls)\n",
    "\n",
    "\n",
    "t4 = time.perf_counter()\n",
    "\n",
    "print(f'Finished in {t4-t3} seconds')"
   ]
  },
  {
   "cell_type": "markdown",
   "metadata": {},
   "source": [
    "# MultiPrpocessing"
   ]
  },
  {
   "cell_type": "code",
   "execution_count": 42,
   "metadata": {
    "ExecuteTime": {
     "end_time": "2021-04-26T19:29:16.519921Z",
     "start_time": "2021-04-26T19:29:14.776623Z"
    }
   },
   "outputs": [
    {
     "name": "stdout",
     "output_type": "stream",
     "text": [
      "Sleeping for 1 second.......\n",
      "Done Sleeping\n",
      "Finised in 1.01 seconds\n"
     ]
    }
   ],
   "source": [
    "import time\n",
    "\n",
    "start = time.perf_counter()\n",
    "\n",
    "def do_somethng():\n",
    "    print('Sleeping for 1 second.......')\n",
    "    time.sleep(1)\n",
    "    print(\"Done Sleeping\")\n",
    "    \n",
    "do_somethng()\n",
    "\n",
    "finish = time.perf_counter()\n",
    "\n",
    "print(f'Finised in {round(finish-start,2)} seconds')"
   ]
  },
  {
   "cell_type": "code",
   "execution_count": 46,
   "metadata": {
    "ExecuteTime": {
     "end_time": "2021-04-26T19:48:16.249787Z",
     "start_time": "2021-04-26T19:48:15.083263Z"
    }
   },
   "outputs": [
    {
     "name": "stdout",
     "output_type": "stream",
     "text": [
      "Sleeping for 1 second.......\n",
      "Sleeping for 1 second.......\n",
      "Sleeping for 1 second.......\n",
      "Sleeping for 1 second.......\n",
      "Sleeping for 1 second.......\n",
      "Sleeping for 1 second.......\n",
      "Sleeping for 1 second.......\n",
      "Sleeping for 1 second.......\n",
      "Sleeping for 1 second.......\n",
      "Sleeping for 1 second.......\n",
      "Done Sleeping\n",
      "Done Sleeping\n",
      "Done Sleeping\n",
      "Done Sleeping\n",
      "Done Sleeping\n",
      "Done Sleeping\n",
      "Done Sleeping\n",
      "Done Sleeping\n",
      "Done Sleeping\n",
      "Done Sleeping\n",
      "Finised in 1.16 seconds\n"
     ]
    }
   ],
   "source": [
    "import multiprocessing \n",
    "start = time.perf_counter()\n",
    "\n",
    "processes=[]\n",
    "for _ in range(10):\n",
    "    p=multiprocessing.Process(target=do_somethng)\n",
    "    p.start()\n",
    "    processes.append(p)\n",
    "    \n",
    "for process in processes:\n",
    "    process.join()\n",
    "\n",
    "\n",
    "finish = time.perf_counter()\n",
    "\n",
    "print(f'Finised in {round(finish-start,2)} seconds')"
   ]
  },
  {
   "cell_type": "code",
   "execution_count": 47,
   "metadata": {
    "ExecuteTime": {
     "end_time": "2021-04-26T19:56:29.206251Z",
     "start_time": "2021-04-26T19:56:27.533917Z"
    }
   },
   "outputs": [
    {
     "name": "stdout",
     "output_type": "stream",
     "text": [
      "Sleeping for 1.5 second(s).......\n",
      "Sleeping for 1.5 second(s).......\n",
      "Sleeping for 1.5 second(s).......\n",
      "Sleeping for 1.5 second(s).......\n",
      "Sleeping for 1.5 second(s).......\n",
      "Sleeping for 1.5 second(s).......\n",
      "Sleeping for 1.5 second(s).......\n",
      "Sleeping for 1.5 second(s).......\n",
      "Sleeping for 1.5 second(s).......\n",
      "Sleeping for 1.5 second(s).......\n",
      "Done Sleeping\n",
      "Done Sleeping\n",
      "Done Sleeping\n",
      "Done Sleeping\n",
      "Done Sleeping\n",
      "Done Sleeping\n",
      "Done Sleeping\n",
      "Done Sleeping\n",
      "Done Sleeping\n",
      "Done Sleeping\n",
      "Finised in 1.66 seconds\n"
     ]
    }
   ],
   "source": [
    "start = time.perf_counter()\n",
    "\n",
    "def do_somethng(seconds):\n",
    "    print(f'Sleeping for {seconds} second(s).......')\n",
    "    time.sleep(seconds)\n",
    "    print(\"Done Sleeping\")\n",
    "\n",
    "    \n",
    "processes=[]\n",
    "for _ in range(10):\n",
    "    p=multiprocessing.Process(target=do_somethng,args=[1.5])\n",
    "    p.start()\n",
    "    processes.append(p)\n",
    "    \n",
    "    \n",
    "for process in processes:\n",
    "    process.join()\n",
    "\n",
    "\n",
    "finish = time.perf_counter()\n",
    "\n",
    "print(f'Finised in {round(finish-start,2)} seconds')"
   ]
  },
  {
   "cell_type": "code",
   "execution_count": 52,
   "metadata": {
    "ExecuteTime": {
     "end_time": "2021-04-26T20:06:13.635542Z",
     "start_time": "2021-04-26T20:06:12.504922Z"
    }
   },
   "outputs": [
    {
     "name": "stdout",
     "output_type": "stream",
     "text": [
      "Sleeping for 1 second(s).......\n",
      "Done Sleeping\n",
      "Finised in 1.12 seconds\n"
     ]
    }
   ],
   "source": [
    "import concurrent.futures\n",
    "start = time.perf_counter()\n",
    "def do_somethng(seconds):\n",
    "    print(f'Sleeping for {seconds} second(s).......')\n",
    "    time.sleep(seconds)\n",
    "    return \"Done Sleeping\"\n",
    "\n",
    "    \n",
    "with concurrent.futures.ProcessPoolExecutor() as executor:\n",
    "    f1=executor.submit(do_somethng,1)\n",
    "    print(f1.result())\n",
    "\n",
    "finish = time.perf_counter()\n",
    "\n",
    "print(f'Finised in {round(finish-start,2)} seconds')"
   ]
  },
  {
   "cell_type": "code",
   "execution_count": 53,
   "metadata": {
    "ExecuteTime": {
     "end_time": "2021-04-26T20:07:41.175865Z",
     "start_time": "2021-04-26T20:07:39.993602Z"
    }
   },
   "outputs": [
    {
     "name": "stdout",
     "output_type": "stream",
     "text": [
      "Sleeping for 1 second(s).......\n",
      "Sleeping for 1 second(s).......\n",
      "Done Sleeping\n",
      "Done Sleeping\n",
      "Finised in 1.18 seconds\n"
     ]
    }
   ],
   "source": [
    "import concurrent.futures\n",
    "start = time.perf_counter()\n",
    "def do_somethng(seconds):\n",
    "    print(f'Sleeping for {seconds} second(s).......')\n",
    "    time.sleep(seconds)\n",
    "    return \"Done Sleeping\"\n",
    "\n",
    "    \n",
    "with concurrent.futures.ProcessPoolExecutor() as executor:\n",
    "    f1=executor.submit(do_somethng,1)\n",
    "    f2=executor.submit(do_somethng,1)\n",
    "    print(f1.result())\n",
    "    print(f2.result())\n",
    "\n",
    "finish = time.perf_counter()\n",
    "\n",
    "print(f'Finised in {round(finish-start,2)} seconds')"
   ]
  },
  {
   "cell_type": "code",
   "execution_count": 57,
   "metadata": {
    "ExecuteTime": {
     "end_time": "2021-04-26T20:14:17.561092Z",
     "start_time": "2021-04-26T20:14:12.411263Z"
    }
   },
   "outputs": [
    {
     "name": "stdout",
     "output_type": "stream",
     "text": [
      "Sleeping for 5 second(s).......\n",
      "Sleeping for 4 second(s).......\n",
      "Sleeping for 3 second(s).......\n",
      "Sleeping for 2 second(s).......\n",
      "Sleeping for 1 second(s).......\n",
      "Done Sleeping...1\n",
      "Done Sleeping...2\n",
      "Done Sleeping...3\n",
      "Done Sleeping...4\n",
      "Done Sleeping...5\n",
      "Finised in 5.14 seconds\n"
     ]
    }
   ],
   "source": [
    "import concurrent.futures\n",
    "start = time.perf_counter()\n",
    "def do_somethng(seconds):\n",
    "    print(f'Sleeping for {seconds} second(s).......')\n",
    "    time.sleep(seconds)\n",
    "    return f'Done Sleeping...{seconds}'\n",
    "\n",
    "    \n",
    "with concurrent.futures.ProcessPoolExecutor() as executor:\n",
    "    secs=[5,4,3,2,1]\n",
    "    results = [executor.submit(do_somethng,sec) for sec in secs]\n",
    "    \n",
    "    for f in concurrent.futures.as_completed(results):\n",
    "        print(f.result())\n",
    "\n",
    "finish = time.perf_counter()\n",
    "\n",
    "print(f'Finised in {round(finish-start,2)} seconds')"
   ]
  },
  {
   "cell_type": "code",
   "execution_count": null,
   "metadata": {},
   "outputs": [],
   "source": []
  },
  {
   "cell_type": "markdown",
   "metadata": {},
   "source": [
    "# File handling "
   ]
  },
  {
   "cell_type": "code",
   "execution_count": null,
   "metadata": {},
   "outputs": [],
   "source": []
  },
  {
   "cell_type": "code",
   "execution_count": null,
   "metadata": {},
   "outputs": [],
   "source": []
  },
  {
   "cell_type": "code",
   "execution_count": null,
   "metadata": {},
   "outputs": [],
   "source": []
  },
  {
   "cell_type": "code",
   "execution_count": null,
   "metadata": {},
   "outputs": [],
   "source": []
  },
  {
   "cell_type": "code",
   "execution_count": null,
   "metadata": {},
   "outputs": [],
   "source": []
  },
  {
   "cell_type": "code",
   "execution_count": null,
   "metadata": {},
   "outputs": [],
   "source": []
  },
  {
   "cell_type": "markdown",
   "metadata": {},
   "source": [
    "# Exception Handling"
   ]
  },
  {
   "cell_type": "code",
   "execution_count": null,
   "metadata": {},
   "outputs": [],
   "source": []
  },
  {
   "cell_type": "code",
   "execution_count": null,
   "metadata": {},
   "outputs": [],
   "source": []
  },
  {
   "cell_type": "code",
   "execution_count": null,
   "metadata": {},
   "outputs": [],
   "source": []
  },
  {
   "cell_type": "code",
   "execution_count": null,
   "metadata": {},
   "outputs": [],
   "source": []
  },
  {
   "cell_type": "code",
   "execution_count": null,
   "metadata": {},
   "outputs": [],
   "source": []
  },
  {
   "cell_type": "markdown",
   "metadata": {},
   "source": [
    "                                    MetaClass and Design pattern"
   ]
  },
  {
   "cell_type": "code",
   "execution_count": 7,
   "metadata": {
    "ExecuteTime": {
     "end_time": "2021-04-23T15:41:29.780114Z",
     "start_time": "2021-04-23T15:41:29.765937Z"
    }
   },
   "outputs": [
    {
     "name": "stdout",
     "output_type": "stream",
     "text": [
      "I am method A\n",
      "None\n",
      "I am static method\n",
      "None\n",
      "I am static method\n",
      "None\n",
      "this is class variable222\n",
      "None\n"
     ]
    }
   ],
   "source": [
    "class Test(object):\n",
    "    \n",
    "    myvar=222     # Class variable\n",
    "    \n",
    "    def __init__(self,num=1):\n",
    "        self.num=num       #instance variable and public\n",
    "        self.__numa=122    #instance variable and Private\n",
    "        \n",
    "    def getter(self):\n",
    "        return self.__numa\n",
    "    \n",
    "    def setter(self,value):\n",
    "        self.__numa=value\n",
    "    \n",
    "    @property\n",
    "    def methoda(self):\n",
    "        print('I am method A')\n",
    "    \n",
    "    @staticmethod\n",
    "    def methodb(): \n",
    "        print(\"I am static method\")\n",
    "#     @classmethod    \n",
    "    def classvaraccess(cls):      #class method to access the class variable\n",
    "        print(\"this is class variable{}\".format(cls.myvar))\n",
    "        \n",
    "    def __str__(self):\n",
    "        return \"This is only recape purpose\"\n",
    "    \n",
    "        \n",
    "        \n",
    "if __name__ == \"__main__\":\n",
    "    obj=Test()\n",
    "    print(obj.methoda)\n",
    "    print(obj.methodb())\n",
    "    print(Test.methodb())\n",
    "    print(obj.classvaraccess())\n",
    "    \n",
    "    \n",
    "\n",
    "    "
   ]
  },
  {
   "cell_type": "code",
   "execution_count": 8,
   "metadata": {
    "ExecuteTime": {
     "end_time": "2021-04-24T08:51:05.725104Z",
     "start_time": "2021-04-24T08:51:05.715635Z"
    }
   },
   "outputs": [
    {
     "name": "stdout",
     "output_type": "stream",
     "text": [
      "This is demo class A\n",
      "This is demo class B\n",
      "creating the object\n",
      "creating the instance\n",
      "This is demo class C\n"
     ]
    }
   ],
   "source": [
    "\"\"\"There are 6 ways to define the class but here  i am only writting 3 method\"\"\"\n",
    "\n",
    "#Method 1st for making a class\n",
    "class A:\n",
    "    def __init__(self):\n",
    "        pass\n",
    "    \n",
    "    def __str__(self):\n",
    "        return \"This is demo class A\"\n",
    "    \n",
    "#Method 2nd for making a class  \n",
    "class B(object):\n",
    "    def __call__(cls,*args,**kwargs):\n",
    "        return super(B,cls).__call__(cls,*args,**kwargs)\n",
    "    \n",
    "    def __str__(self):\n",
    "        return \"This is demo class B\"\n",
    "    \n",
    "# 3rd Method of making the class\n",
    "class C(object):\n",
    "    def __new__(cls,*args,**kwargs):\n",
    "        print(\"creating the object\")\n",
    "        return super(C,cls).__new__(cls,*args,**kwargs)\n",
    "    \n",
    "    def __init__(self,*args,**kwargs):\n",
    "        print(\"creating the instance\")\n",
    "        super(C,self).__init__(*args,**kwargs)\n",
    "        \n",
    "    def __str__(self):\n",
    "        return \"This is demo class C\"\n",
    "        \n",
    "a=A()\n",
    "print(a)\n",
    "b=B()\n",
    "print(b)\n",
    "c=C()\n",
    "print(c)"
   ]
  },
  {
   "cell_type": "code",
   "execution_count": 11,
   "metadata": {
    "ExecuteTime": {
     "end_time": "2021-04-24T09:07:19.061715Z",
     "start_time": "2021-04-24T09:07:19.051703Z"
    }
   },
   "outputs": [
    {
     "name": "stdout",
     "output_type": "stream",
     "text": [
      "<__main__.A1 object at 0x7f79c7f1c3d0>\n"
     ]
    }
   ],
   "source": [
    "#Method 4\n",
    "class D(type):\n",
    "    def __call__(cls,*args,**kwargs):\n",
    "        instance=super(D,cls).__call__(cls,*args,**kwargs)\n",
    "        return instance\n",
    "        \n",
    "    def __init__(cls,name,base,attr):\n",
    "        super(D,cls).__init__(name,base,attr)\n",
    "        \n",
    "class E(metaclass=D):\n",
    "    pass\n",
    "        \n",
    "#Method 5\n",
    "\n",
    "class F(type):\n",
    "    def __call__(cls,*args,**kwargs):\n",
    "        instance=super(D,cls).__call__(cls,*args,**kwargs)\n",
    "        return instance\n",
    "        \n",
    "    def __init__(cls,name,base,attr):\n",
    "        super(D,cls).__init__(name,base,attr)\n",
    "        \n",
    "class G(metaclass=F):\n",
    "    def __new__(cls,*args,**kwargs):\n",
    "        return super(C,cls).__new__(cls,*args,**kwargs)\n",
    "    \n",
    "    def __init__(self,*args,**kwargs):\n",
    "        super(C,self).__init__(*args,**kwargs)\n",
    "        \n",
    "        \n",
    "#Method 6    \n",
    "class Meta(type):\n",
    "    def __new__(cls,*args,**kwargs):\n",
    "        return super(Meta,cls).__new__(cls,*args,**kwargs)\n",
    "    \n",
    "    def __init__(self,*args,**kwargs):\n",
    "        super(Meta,self).__init__(*args,**kwargs)\n",
    "        \n",
    "class A1(metaclass=Meta):\n",
    "    def __init__(self):\n",
    "        pass\n",
    "    \n",
    "a1=A1()\n",
    "print(a1)"
   ]
  },
  {
   "cell_type": "code",
   "execution_count": 23,
   "metadata": {
    "ExecuteTime": {
     "end_time": "2021-04-24T10:45:56.459667Z",
     "start_time": "2021-04-24T10:45:56.449297Z"
    }
   },
   "outputs": [
    {
     "name": "stdout",
     "output_type": "stream",
     "text": [
      "<__main__.A object at 0x7f79c8b5cad0>\n",
      "None\n"
     ]
    }
   ],
   "source": [
    "#singleton desing pattern\n",
    "class Metaclass(type):\n",
    "    \"\"\" This is singleton desgin pattern \"\"\"\n",
    "    _instance={}\n",
    "    \n",
    "    def __call__(cls,*args,**kwargs):\n",
    "        \"\"\"if instance already exists then no need oto create\"\"\"\n",
    "        if cls not in cls._instance:\n",
    "            cls._instance[cls]=super(Metaclass,cls).__call__(*args,**kwargs)\n",
    "            return cls._instance[cls]\n",
    "\n",
    "    \n",
    "class A(metaclass=Metaclass):\n",
    "    def __init__(self):\n",
    "        pass   \n",
    "    \n",
    "    \n",
    "obj=A() \n",
    "print(obj)\n",
    "obj1=A() \n",
    "print(obj1)"
   ]
  },
  {
   "cell_type": "code",
   "execution_count": 2,
   "metadata": {
    "ExecuteTime": {
     "end_time": "2021-04-24T14:24:04.771865Z",
     "start_time": "2021-04-24T14:24:04.762180Z"
    }
   },
   "outputs": [
    {
     "name": "stdout",
     "output_type": "stream",
     "text": [
      "method A\n",
      "method B\n"
     ]
    }
   ],
   "source": [
    "#Factory design pattern\n",
    "\n",
    "class A(object):\n",
    "    def __init__(self):\n",
    "        pass\n",
    "    \n",
    "    def methodA(self):\n",
    "        print(\"method A\")\n",
    "        \n",
    "class B(object):\n",
    "    def __init__(self):\n",
    "        pass\n",
    "    \n",
    "    def methodB(self):\n",
    "        print(\"method B\")        \n",
    "        \n",
    "def get(obj=''):\n",
    "    objs=dict(a=A(),b=B())\n",
    "    return objs[obj]\n",
    "\n",
    "\n",
    "a=get('a')\n",
    "a.methodA()\n",
    "b=get('b')\n",
    "b.methodB()"
   ]
  },
  {
   "cell_type": "code",
   "execution_count": 6,
   "metadata": {
    "ExecuteTime": {
     "end_time": "2021-04-24T14:41:51.410307Z",
     "start_time": "2021-04-24T14:41:51.394799Z"
    }
   },
   "outputs": [
    {
     "name": "stdout",
     "output_type": "stream",
     "text": [
      "sensor is on\n",
      "light is on\n",
      "smoke is on\n"
     ]
    }
   ],
   "source": [
    "## facade desing pattern\n",
    "class Sensors(object):\n",
    "    def __init__(self):\n",
    "        pass\n",
    "    \n",
    "    def sensoron(self):\n",
    "        print(\"sensor is on\")\n",
    "     \n",
    "    def sensoroff(self):\n",
    "        print(\"sensor is off\")\n",
    "\n",
    "class Lights(object):\n",
    "    def __init__(self):\n",
    "        pass\n",
    "    \n",
    "    def lighton(self):\n",
    "        print(\"light is on\")\n",
    "     \n",
    "    def lightoff(self):\n",
    "        print(\"light is off\")\n",
    "        \n",
    "class Smokes(object):\n",
    "    def __init__(self):\n",
    "        pass    \n",
    "    \n",
    "    def smokeon(self):\n",
    "        print(\"smoke is on\")\n",
    "     \n",
    "    def smokeoff(self):\n",
    "        print(\"smoke is off\")    \n",
    "    \n",
    "class Facade(object):\n",
    "    def __init__(self):  \n",
    "        self.__sensor=Sensors()\n",
    "        self.__smoke=Smokes() \n",
    "        self.__light=Lights()\n",
    "        \n",
    "    def Emergency(self):\n",
    "        self.__sensor.sensoron()\n",
    "        self.__light.lighton()\n",
    "        self.__smoke.smokeon()\n",
    "        \n",
    "    def normal(self):\n",
    "        self.__sensor.sensoroff()\n",
    "        self.__light.lightoff()\n",
    "        self.__smoke.smokeoff()   \n",
    "        \n",
    "if __name__ == \"__main__\":\n",
    "    obj=Facade()\n",
    "    sensor=60\n",
    "    \n",
    "    if sensor>30:\n",
    "        obj.Emergency()\n",
    "    else:\n",
    "        obj.normal()\n",
    "        "
   ]
  },
  {
   "cell_type": "code",
   "execution_count": 9,
   "metadata": {
    "ExecuteTime": {
     "end_time": "2021-04-24T14:55:43.586589Z",
     "start_time": "2021-04-24T14:55:43.573923Z"
    }
   },
   "outputs": [
    {
     "name": "stdout",
     "output_type": "stream",
     "text": [
      "<__main__.Facade object at 0x7fae5473c1d0>\n",
      "None\n"
     ]
    }
   ],
   "source": [
    "#Facade + singleton + Metaclass\n",
    "class Sensors(object):\n",
    "    def __init__(self):\n",
    "        pass\n",
    "    \n",
    "    def sensoron(self):\n",
    "        print(\"sensor is on\")\n",
    "     \n",
    "    def sensoroff(self):\n",
    "        print(\"sensor is off\")\n",
    "\n",
    "class Lights(object):\n",
    "    def __init__(self):\n",
    "        pass\n",
    "    \n",
    "    def lighton(self):\n",
    "        print(\"light is on\")\n",
    "     \n",
    "    def lightoff(self):\n",
    "        print(\"light is off\")\n",
    "        \n",
    "class Smokes(object):\n",
    "    def __init__(self):\n",
    "        pass    \n",
    "    \n",
    "    def smokeon(self):\n",
    "        print(\"smoke is on\")\n",
    "     \n",
    "    def smokeoff(self):\n",
    "        print(\"smoke is off\")  \n",
    "        \n",
    "class Meta(type):\n",
    "    \"\"\"single design pattern\"\"\"\n",
    "    _instance={}\n",
    "    def __call__(cls,*args,**kwargs):\n",
    "        \"\"\"creating the object\"\"\"\n",
    "        if cls not in cls._instance:\n",
    "            cls._instance[cls]=super(Meta,cls).__call__(*args,**kwargs)\n",
    "            return cls._instance[cls]\n",
    "    \n",
    "class Facade(metaclass=Meta):\n",
    "    def __init__(self):  \n",
    "        self.__sensor=Sensors()\n",
    "        self.__smoke=Smokes() \n",
    "        self.__light=Lights()\n",
    "        \n",
    "    def Emergency(self):\n",
    "        self.__sensor.sensoron()\n",
    "        self.__light.lighton()\n",
    "        self.__smoke.smokeon()\n",
    "        \n",
    "    def normal(self):\n",
    "        self.__sensor.sensoroff()\n",
    "        self.__light.lightoff()\n",
    "        self.__smoke.smokeoff()   \n",
    "        \n",
    "if __name__ == \"__main__\":\n",
    "    obj1=Facade()\n",
    "    print(obj1)\n",
    "    obj2=Facade()\n",
    "    print(obj2)"
   ]
  },
  {
   "cell_type": "code",
   "execution_count": 14,
   "metadata": {
    "ExecuteTime": {
     "end_time": "2021-04-24T15:04:23.164709Z",
     "start_time": "2021-04-24T15:04:23.154503Z"
    }
   },
   "outputs": [
    {
     "name": "stdout",
     "output_type": "stream",
     "text": [
      "akash verma\n"
     ]
    },
    {
     "data": {
      "text/plain": [
       "'we will use slots to slove this problem'"
      ]
     },
     "execution_count": 14,
     "metadata": {},
     "output_type": "execute_result"
    }
   ],
   "source": [
    "#problem \"\"\" user could not add instance variable at run time \"\"\"\n",
    "class Test(object):\n",
    "    def __init__(self):\n",
    "        pass\n",
    "    \n",
    "if __name__== \"__main__\":\n",
    "    obj1=Test()\n",
    "    obj1.name=\"akash verma\"\n",
    "    obj1.rollnum='22'\n",
    "#     print(obj1.__dict__)\n",
    "    print(obj1.name)\n",
    "    \n",
    "\"\"\"we will use slots to slove this problem\"\"\"    "
   ]
  },
  {
   "cell_type": "code",
   "execution_count": 24,
   "metadata": {
    "ExecuteTime": {
     "end_time": "2021-04-24T15:09:36.627279Z",
     "start_time": "2021-04-24T15:09:36.618031Z"
    }
   },
   "outputs": [
    {
     "ename": "AttributeError",
     "evalue": "'Test1' object has no attribute 'rollnum'",
     "output_type": "error",
     "traceback": [
      "\u001b[0;31m---------------------------------------------------------------------------\u001b[0m",
      "\u001b[0;31mAttributeError\u001b[0m                            Traceback (most recent call last)",
      "\u001b[0;32m<ipython-input-24-afc2cada2891>\u001b[0m in \u001b[0;36m<module>\u001b[0;34m\u001b[0m\n\u001b[1;32m      8\u001b[0m \u001b[0;32mif\u001b[0m \u001b[0m__name__\u001b[0m\u001b[0;34m==\u001b[0m \u001b[0;34m\"__main__\"\u001b[0m\u001b[0;34m:\u001b[0m\u001b[0;34m\u001b[0m\u001b[0;34m\u001b[0m\u001b[0m\n\u001b[1;32m      9\u001b[0m     \u001b[0mobj2\u001b[0m\u001b[0;34m=\u001b[0m\u001b[0mTest1\u001b[0m\u001b[0;34m(\u001b[0m\u001b[0;34m\"akash\"\u001b[0m\u001b[0;34m)\u001b[0m\u001b[0;34m\u001b[0m\u001b[0;34m\u001b[0m\u001b[0m\n\u001b[0;32m---> 10\u001b[0;31m     \u001b[0mobj2\u001b[0m\u001b[0;34m.\u001b[0m\u001b[0mrollnum\u001b[0m\u001b[0;34m=\u001b[0m\u001b[0;34m\"001\"\u001b[0m\u001b[0;34m\u001b[0m\u001b[0;34m\u001b[0m\u001b[0m\n\u001b[0m\u001b[1;32m     11\u001b[0m     \u001b[0mprint\u001b[0m\u001b[0;34m(\u001b[0m\u001b[0mobj2\u001b[0m\u001b[0;34m.\u001b[0m\u001b[0mname\u001b[0m\u001b[0;34m)\u001b[0m\u001b[0;34m\u001b[0m\u001b[0;34m\u001b[0m\u001b[0m\n",
      "\u001b[0;31mAttributeError\u001b[0m: 'Test1' object has no attribute 'rollnum'"
     ]
    }
   ],
   "source": [
    "#Solution of upper problem\n",
    "class Test1(object):\n",
    "    __slots__=(\"name\") ###  instead of tuple, can be use []\n",
    "    def __init__(self,name):\n",
    "        self.name=name\n",
    "          \n",
    "    \n",
    "if __name__== \"__main__\":\n",
    "    obj2=Test1(\"akash\")\n",
    "    obj2.rollnum=\"001\"\n",
    "    print(obj2.name)"
   ]
  },
  {
   "cell_type": "code",
   "execution_count": 34,
   "metadata": {
    "ExecuteTime": {
     "end_time": "2021-04-24T16:52:42.048587Z",
     "start_time": "2021-04-24T16:52:42.030397Z"
    },
    "scrolled": true
   },
   "outputs": [
    {
     "name": "stdout",
     "output_type": "stream",
     "text": [
      "Hello\n",
      "/home/akash/Documents/all codes/Data structure\n",
      "111\n"
     ]
    }
   ],
   "source": [
    "try:\n",
    "    import os\n",
    "    import datetime\n",
    "    import sys\n",
    "    import logging\n",
    "except Exception as e:\n",
    "    print(\"Some modules are missing please check all module {}\".format(e))\n",
    "    \n",
    "class Meta(type):\n",
    "    \"\"\"Meta class\"\"\"\n",
    "    \n",
    "    def __call__(cls,*args,**kwargs):\n",
    "        instance=super(Meta,cls).__call__(*args,**kwargs)\n",
    "        return instance\n",
    "    def __init__(cls,name,base,attr):\n",
    "        super(Meta,cls).__init__(name,base,attr)\n",
    "        \n",
    "    \n",
    "class log(object):    \n",
    "    def __init__(self,func):\n",
    "        self.func=func\n",
    "        \n",
    "    def __call__(self,*args,**kwargs):\n",
    "        \"\"\"wrapper function\"\"\"\n",
    "        \n",
    "        start= datetime.datetime.now()      #start time\n",
    "        tem= self.func(self,*args,**kwargs)      #call the function\n",
    "        funcname = self.func.__name__       #get the function\n",
    "        end= datetime.datetime.now()        #end time\n",
    "        \n",
    "        \n",
    "        message= \"\"\"                    #From message\n",
    "        \n",
    "        funtion : {}\n",
    "        Execution time : {}\n",
    "        Address : {}\n",
    "        Memmory : {}Bytes\n",
    "        Date : {}\n",
    "        \"\"\".format(funcname,\n",
    "                   end-start,\n",
    "                   self.func.__name__,\n",
    "                   sys.getsizeof(self.func),\n",
    "                   start)\n",
    "        \n",
    "        cwd = os.getcwd()\n",
    "        print(cwd)\n",
    "        folder = 'Logs'\n",
    "        newpath = os.path.join(cwd,folder)\n",
    "        \n",
    "        try:\n",
    "            \"\"\"try to create a folder\"\"\"\n",
    "            os.mkdir(newpath)\n",
    "        except:\n",
    "            \"\"\"Directory already exists\"\"\"\n",
    "            logging.basicConfig(filename='{}/log.log'.format(newpath),level=logging.DEBUG)\n",
    "            logging.debug(message)\n",
    "            return tem\n",
    "        \n",
    "class Test2(metaclass=Meta):\n",
    "    def __init__(self,*args,**kwargs):\n",
    "        pass\n",
    "    @log\n",
    "    def methodA(self):\n",
    "        print(\"Hello\")\n",
    "        return \"111\"\n",
    "    \n",
    "if __name__ == \"__main__\":\n",
    "    obj1=Test2()\n",
    "    print(obj1.methodA())"
   ]
  },
  {
   "cell_type": "markdown",
   "metadata": {},
   "source": [
    "Objective: How can we Impose Rules while Creating classes with MetaClass\n",
    "- Class should only be Created if First Letter is Capital Other wise throw error\n",
    "- Class Should have a constructor other wise should throw Error\n",
    "- All Method Should start with Lower case ie function name should start with Lower case\n",
    "- Every Function should be provided with a Doc String other wise class should not be created\n",
    "- There should be only one instance created of class Implementing Singleton Design Pattern\n",
    "- Should not be able to add parameters at Run Time we use slots using Descriptors and Decorators"
   ]
  },
  {
   "cell_type": "code",
   "execution_count": 40,
   "metadata": {
    "ExecuteTime": {
     "end_time": "2021-04-24T17:23:43.871749Z",
     "start_time": "2021-04-24T17:23:43.853868Z"
    }
   },
   "outputs": [
    {
     "name": "stdout",
     "output_type": "stream",
     "text": [
      "**kwargs {'name': 'akash'}\n",
      "<__main__.Test object at 0x7fae51b18e50>\n"
     ]
    }
   ],
   "source": [
    "try:\n",
    "    import functools\n",
    "    import datetime\n",
    "    import os\n",
    "    import sys\n",
    "    import logging\n",
    "    from abc import  ABC, ABCMeta,abstractmethod\n",
    "except Exception as e:\n",
    "    print(\"Some Modules are Missing {}\".format(e))\n",
    "\n",
    "\n",
    "class MetaClass(type):\n",
    "\n",
    "    \"\"\" Meta class \"\"\"\n",
    "\n",
    "    _instance = {}\n",
    "\n",
    "    def __call__(cls, *args, **kwargs):\n",
    "\n",
    "        \"\"\" Implementing Singleton Design Pattern  \"\"\"\n",
    "\n",
    "        print(\"**kwargs\", kwargs)\n",
    "\n",
    "        name = kwargs.get(\"name\", None)\n",
    "        if not name.__str__:\n",
    "            raise ValueError (\"name should be string \")\n",
    "\n",
    "        if cls not in cls._instance:\n",
    "            cls._instance[cls] = super(MetaClass, cls).__call__(*args, **kwargs)\n",
    "            return cls._instance[cls]\n",
    "\n",
    "    def __init__(cls, name, base, attr):\n",
    "\n",
    "        \"\"\" Defining Your Own Rules  \"\"\"\n",
    "\n",
    "        if cls.__name__[0].isupper():\n",
    "\n",
    "            \"\"\" Create class only if First Letter is Capital    \"\"\"\n",
    "\n",
    "            for k, v in attr.items():\n",
    "                if hasattr(v, '__call__'):\n",
    "\n",
    "                    if v.__name__[0] == '_' or v.__name__[0].islower():\n",
    "\n",
    "                        \"\"\"  check name function starts with _ or lower case  \"\"\"\n",
    "\n",
    "                        if v.__doc__ is None:\n",
    "\n",
    "                            \"\"\"  Check is User has provided Documentation \"\"\"\n",
    "\n",
    "                            raise ValueError(\"Make sure to Provide Documentation check {}\".format(v.__name__))\n",
    "                        else:\n",
    "\n",
    "                            \"\"\" if function has Doccumentation pass \"\"\"\n",
    "\n",
    "                            pass\n",
    "                    else:\n",
    "\n",
    "                        \"\"\" function name starts with upper case throw error  \"\"\"\n",
    "\n",
    "                        raise ValueError(\"Function should start with Lower case :{}\".format(v.__name__))\n",
    "        else:\n",
    "            raise ValueError(\"Class Name  should start with Capital Letter :{} \".format(cls.__name__[0]))\n",
    "\n",
    "class log(object):\n",
    "\n",
    "    \"\"\" Create a Log File regarding Execution Time memory Address size etc \"\"\"\n",
    "\n",
    "    def __init__(self, func):\n",
    "        \"\"\" Constructor  \"\"\"\n",
    "        self.func = func\n",
    "\n",
    "    def __call__(self, *args, **kwargs):\n",
    "        \"\"\" Wrapper Function \"\"\"\n",
    "\n",
    "        start = datetime.datetime.now()     # start time\n",
    "        Tem = self.func(*args, **kwargs)    # call Function\n",
    "        FunName = self.func.__name__        # get Function Name\n",
    "        end = datetime.datetime.now()       # End time\n",
    "\n",
    "        message = \"\"\"                       # Form Message\n",
    "            \n",
    "            Function : {}\n",
    "            Execution Time : {}\n",
    "            Address : {}\n",
    "            Memory: {} Bytes\n",
    "            Date: {}\n",
    "            \n",
    "            \"\"\".format(FunName,\n",
    "                       end-start,\n",
    "                       self.func.__name__,\n",
    "                       sys.getsizeof(self.func),\n",
    "                       start)\n",
    "\n",
    "        cwd = os.getcwd()                       # get CWD\n",
    "        folder = 'Logs1'                         # Create Folder Logs\n",
    "        newPath = os.path.join(cwd, folder)     # change Path\n",
    "\n",
    "        try:\n",
    "            \"\"\" try to create directory \"\"\"\n",
    "            os.mkdir(newPath)                   # create Folder\n",
    "\n",
    "        except Exception as e:\n",
    "\n",
    "            \"\"\" Directory already exists \"\"\"\n",
    "\n",
    "            logging.basicConfig(filename='{}/log.log'.format(newPath), level=logging.DEBUG)\n",
    "            logging.debug(message)\n",
    "\n",
    "        return Tem\n",
    "\n",
    "\n",
    "class Test(metaclass=MetaClass):\n",
    "\n",
    "    __slots__ = [\"name\"]            # User wont be able to add elements at run time\n",
    "\n",
    "    def __init__(self, name):\n",
    "\n",
    "        \"\"\" Constructor \"\"\"\n",
    "\n",
    "        self.name = name\n",
    "        super(Test, self).__init__()\n",
    "\n",
    "    def method(self):\n",
    "\n",
    "        \"\"\" Method \"\"\"\n",
    "        print(\"Hello World \")\n",
    "\n",
    "\n",
    "if __name__ == \"__main__\":\n",
    "    obj = Test(name=\"akash\")\n",
    "    print(obj)\n"
   ]
  },
  {
   "cell_type": "code",
   "execution_count": 60,
   "metadata": {
    "ExecuteTime": {
     "end_time": "2021-04-24T19:47:05.895987Z",
     "start_time": "2021-04-24T19:47:05.886994Z"
    }
   },
   "outputs": [
    {
     "name": "stdout",
     "output_type": "stream",
     "text": [
      "<__main__.Foo object at 0x7fae543a9fd0>\n"
     ]
    }
   ],
   "source": [
    "class Foo(object):\n",
    "    def __init__(self,name):\n",
    "        self._name=name\n",
    "        \n",
    "    @property\n",
    "    def name(self):\n",
    "        return self._name\n",
    "    \n",
    "    @name.setter\n",
    "    def name(self, value):\n",
    "        self._name=value\n",
    "        \n",
    "if __name__ == \"__main__\":\n",
    "    d1=Foo(\"akash\")\n",
    "    print(d1)"
   ]
  },
  {
   "cell_type": "code",
   "execution_count": 68,
   "metadata": {
    "ExecuteTime": {
     "end_time": "2021-04-24T20:36:42.357905Z",
     "start_time": "2021-04-24T20:36:42.345899Z"
    }
   },
   "outputs": [
    {
     "name": "stdout",
     "output_type": "stream",
     "text": [
      "__set__\n",
      "<__main__.Foo object at 0x7fae5433cd10>\n",
      "__get__\n",
      "<__main__.Foo object at 0x7fae5433cd10>\n",
      "__set__\n",
      "__get__\n",
      "<__main__.Foo object at 0x7fae5433cd10>\n"
     ]
    }
   ],
   "source": [
    "class Descriptor(object):\n",
    "    \n",
    "    def __init__(self,name=None):\n",
    "        self.name=name\n",
    "        \n",
    "    def __get__(self,instance,owner):\n",
    "        print(\"__get__\")\n",
    "        return instance\n",
    "    \n",
    "    def __set__(self,instance,value):\n",
    "        print(\"__set__\")\n",
    "        instance.__dict__[self.name]=value\n",
    "        \n",
    "    def __delete__(self,instance):\n",
    "        print(\"__del__\")\n",
    "        del instance.__dict__[self.name]\n",
    "        \n",
    "        \n",
    "class Foo(Descriptor):\n",
    "    name=Descriptor()\n",
    "    \n",
    "    \n",
    "if __name__ == \"__main__\":\n",
    "    obj=Foo(name=\"akash\")\n",
    "    print(obj)\n",
    "    print(obj.name)\n",
    "    obj.name=\"golu\"\n",
    "    print(obj.name)\n",
    "#     Foo.__dict__"
   ]
  },
  {
   "cell_type": "code",
   "execution_count": 70,
   "metadata": {
    "ExecuteTime": {
     "end_time": "2021-04-24T20:42:02.238073Z",
     "start_time": "2021-04-24T20:42:02.232966Z"
    }
   },
   "outputs": [
    {
     "name": "stdout",
     "output_type": "stream",
     "text": [
      "<function <lambda> at 0x7fae51b98950>\n",
      "I am a function\n"
     ]
    }
   ],
   "source": [
    "f = lambda : print(\"I am a function\")   \n",
    "print(f)\n",
    "f()"
   ]
  },
  {
   "cell_type": "code",
   "execution_count": 71,
   "metadata": {
    "ExecuteTime": {
     "end_time": "2021-04-24T20:45:17.247604Z",
     "start_time": "2021-04-24T20:45:17.242270Z"
    }
   },
   "outputs": [
    {
     "name": "stdout",
     "output_type": "stream",
     "text": [
      "I am a function\n"
     ]
    }
   ],
   "source": [
    "exec(\"\"\"f()\"\"\")"
   ]
  },
  {
   "cell_type": "code",
   "execution_count": 72,
   "metadata": {
    "ExecuteTime": {
     "end_time": "2021-04-24T20:45:42.961183Z",
     "start_time": "2021-04-24T20:45:42.955723Z"
    }
   },
   "outputs": [
    {
     "name": "stdout",
     "output_type": "stream",
     "text": [
      "I am a function\n"
     ]
    }
   ],
   "source": [
    "f.__call__()"
   ]
  },
  {
   "cell_type": "code",
   "execution_count": 74,
   "metadata": {
    "ExecuteTime": {
     "end_time": "2021-04-24T20:48:20.575274Z",
     "start_time": "2021-04-24T20:48:20.567336Z"
    }
   },
   "outputs": [
    {
     "name": "stdout",
     "output_type": "stream",
     "text": [
      "[<class '__main__.A'>, <function <lambda> at 0x7fae51dfc950>]\n",
      "<__main__.A object at 0x7fae51c8ec50>\n",
      "this is a function b\n",
      "None\n"
     ]
    }
   ],
   "source": [
    "B= lambda : print(\"this is a function b\")\n",
    "\n",
    "l=[]\n",
    "l.append(A)\n",
    "l.append(B)\n",
    "print(l)\n",
    "\n",
    "for i in l:\n",
    "    print(i.__call__())"
   ]
  },
  {
   "cell_type": "code",
   "execution_count": 80,
   "metadata": {
    "ExecuteTime": {
     "end_time": "2021-04-24T21:00:10.309480Z",
     "start_time": "2021-04-24T21:00:10.295326Z"
    }
   },
   "outputs": [
    {
     "name": "stdout",
     "output_type": "stream",
     "text": [
      "Fun A\n",
      "None\n",
      "Fun B\n",
      "None\n"
     ]
    }
   ],
   "source": [
    "class A(object):\n",
    "    def __init__(self):\n",
    "        pass\n",
    "    \n",
    "    def mathodA(self):\n",
    "        print(\"Fun A\")\n",
    "\n",
    "        \n",
    "class B(object):\n",
    "    def __init__(self):\n",
    "        pass\n",
    "    \n",
    "    def mathodB(self):\n",
    "        print(\"Fun B\")\n",
    "        \n",
    "class Stack(object):\n",
    "    def __init__(self):\n",
    "        self.data=[]\n",
    "        \n",
    "class Macro(object):\n",
    "    def __init__(self):\n",
    "        self.a=A()\n",
    "        self.b=B()\n",
    "        self.stack = Stack()\n",
    "        \n",
    "    def createMacro(self):\n",
    "        self.stack.data.append(self.a.mathodA)\n",
    "        self.stack.data.append(self.b.mathodB)\n",
    "        \n",
    "    def executeMacro(self):\n",
    "        self.createMacro()\n",
    "        \n",
    "        for x in self.stack.data:\n",
    "            print(x.__call__())\n",
    "            \n",
    "if __name__ == \"__main__\":\n",
    "    obj=Macro()\n",
    "    obj.executeMacro()\n",
    "                    "
   ]
  },
  {
   "cell_type": "code",
   "execution_count": 125,
   "metadata": {
    "ExecuteTime": {
     "end_time": "2021-04-24T23:10:35.334709Z",
     "start_time": "2021-04-24T23:10:35.315371Z"
    }
   },
   "outputs": [
    {
     "name": "stdout",
     "output_type": "stream",
     "text": [
      "sig (a: __main__.PositiveInteger)\n",
      "an {'a': <class '__main__.PositiveInteger'>}\n",
      "bound <BoundArguments (a=123)>\n",
      "Inside Function 123\n",
      "None\n"
     ]
    }
   ],
   "source": [
    "from functools import wraps\n",
    "from inspect import signature\n",
    "\n",
    "class Contract(object):\n",
    "    \n",
    "    @classmethod\n",
    "    def check(cls,value):\n",
    "        pass \n",
    "\n",
    "class Typed(Contract):\n",
    "    type = None\n",
    "    \n",
    "    @classmethod\n",
    "    def check(cls,value):\n",
    "        assert isinstance(value,cls.type),\"Excpected type {}\".format(cls.type)\n",
    "        super().check(value)\n",
    "        \n",
    "class Integer(Typed):\n",
    "    type = int\n",
    "    \n",
    "    \n",
    "class String(Typed):\n",
    "    type = str\n",
    "\n",
    "class Float(Typed):\n",
    "    type = float\n",
    "\n",
    "\n",
    "class Positive(Contract):\n",
    "    @classmethod\n",
    "    def check(cls,value):\n",
    "        assert value>0 ,\"Value should be greater than zero\"\n",
    "        super().check(value)\n",
    "        \n",
    "class PositiveInteger(Integer,Positive):\n",
    "    pass\n",
    "\n",
    "   \n",
    "class Negative(Contract):\n",
    "    @classmethod\n",
    "    def check(cls,value):\n",
    "        assert value<0 ,\"Value should be greater than zero\"\n",
    "        super().check(value)\n",
    "        \n",
    "class NegativeInteger(Integer,Negative):\n",
    "    pass\n",
    "\n",
    "class PosString(Contract):\n",
    "    @classmethod\n",
    "    def check(cls,value):\n",
    "        assert len(value)>2,\"Please Provide right String!\"\n",
    "        \n",
    "        \"\"\"I couldn't find this error way\"\"\"\n",
    "#         if(len(value)>2):\n",
    "#             print(\"as\")\n",
    "#             TypeError(\"String length should be greater than zero\")\n",
    "            \n",
    "   \n",
    "    \n",
    "    \n",
    "class PositiveString(String,PosString):\n",
    "    pass\n",
    "        \n",
    "       \n",
    "class Person(object):\n",
    "    def __init__(self,name):\n",
    "        self.name=PositiveString.check(name)\n",
    "        \n",
    "        \n",
    "class checked(object):\n",
    "    def __init__(self,func):\n",
    "        self.func=func\n",
    "        \n",
    "    def __call__(self,*args,**kwargs):\n",
    "        self.sig=signature(self.func)\n",
    "        ann=self.func.__annotations__\n",
    "        bound=self.sig.bind(*args,**kwargs)\n",
    "        print(\"sig\",self.sig)\n",
    "        print(\"an\",ann)\n",
    "        print(\"bound\",bound)\n",
    "        \n",
    "        for name,val in bound.arguments.items():\n",
    "            if name in ann:\n",
    "                ann[name].check(val)\n",
    "                \n",
    "        return self.func(*args,**kwargs)        \n",
    "            \n",
    "@checked\n",
    "def fun12(a:PositiveInteger):\n",
    "    print(\"Inside Function {}\".format(a))\n",
    "    \n",
    "          \n",
    "        \n",
    "    \n",
    "if __name__ == \"__main__\":\n",
    "    a = fun12(123)\n",
    "    print(a)\n",
    "    \n",
    "    \n",
    "    \n",
    "        "
   ]
  },
  {
   "cell_type": "code",
   "execution_count": 129,
   "metadata": {
    "ExecuteTime": {
     "end_time": "2021-04-24T23:31:44.863994Z",
     "start_time": "2021-04-24T23:31:44.853137Z"
    }
   },
   "outputs": [
    {
     "name": "stdout",
     "output_type": "stream",
     "text": [
      "name = akash\n",
      "<__main__.Person object at 0x7fae69a1a450>\n",
      "Ok Name is akash\n"
     ]
    }
   ],
   "source": [
    "class Base(object):\n",
    "    _fields=[]\n",
    "    def __init__(self,*args,**kwargs):\n",
    "        for name, value in zip(self._fields, args):\n",
    "            print(name,\"=\",value)\n",
    "            setattr(self,name,value)\n",
    "            \n",
    "\n",
    "class Person(Base):\n",
    "    _fields = [\"name\"]\n",
    "    def method(self):\n",
    "        print(\"Ok Name is {}\".format(self.name))\n",
    "    \n",
    "if __name__ == \"__main__\":\n",
    "    obj = Person(\"akash\")\n",
    "    print(obj)\n",
    "    obj.method()"
   ]
  },
  {
   "cell_type": "code",
   "execution_count": 139,
   "metadata": {
    "ExecuteTime": {
     "end_time": "2021-04-25T00:04:07.378122Z",
     "start_time": "2021-04-25T00:04:07.364700Z"
    }
   },
   "outputs": [
    {
     "name": "stdout",
     "output_type": "stream",
     "text": [
      "Bound <BoundArguments (name='akash')>\n",
      "name = akash\n",
      "<__main__.Person object at 0x7fae699b2850>\n",
      "Ok Name is akash\n"
     ]
    }
   ],
   "source": [
    "from inspect import Signature,Parameter\n",
    "\n",
    "def make_signature(names):\n",
    "    return Signature(\n",
    "        Parameter(name,Parameter.POSITIONAL_OR_KEYWORD)\n",
    "        for name in names    \n",
    "        \n",
    "    )\n",
    "\n",
    "\n",
    "class Base(object):\n",
    "    __signature__= make_signature([]) \n",
    "    def __init__(self,*args,**kwargs):\n",
    "        bound = self.__signature__.bind(*args,**kwargs)\n",
    "        print(\"Bound\",bound)\n",
    "        for name, value in bound.arguments.items():\n",
    "            print(name,\"=\",value)\n",
    "            setattr(self,name,value)\n",
    "            \n",
    "\n",
    "class Person(Base):\n",
    "    __signature__=make_signature([\"name\"])\n",
    "    def method(self):\n",
    "        print(\"Ok Name is {}\".format(self.name))\n",
    "    \n",
    "if __name__ == \"__main__\":\n",
    "    obj = Person(name=\"akash\")\n",
    "    print(obj)\n",
    "    obj.method()"
   ]
  },
  {
   "cell_type": "code",
   "execution_count": null,
   "metadata": {},
   "outputs": [],
   "source": []
  },
  {
   "cell_type": "code",
   "execution_count": null,
   "metadata": {},
   "outputs": [],
   "source": []
  },
  {
   "cell_type": "code",
   "execution_count": null,
   "metadata": {},
   "outputs": [],
   "source": []
  },
  {
   "cell_type": "markdown",
   "metadata": {},
   "source": [
    "                                        MetaProgramming"
   ]
  },
  {
   "cell_type": "code",
   "execution_count": null,
   "metadata": {},
   "outputs": [],
   "source": []
  },
  {
   "cell_type": "code",
   "execution_count": null,
   "metadata": {},
   "outputs": [],
   "source": []
  },
  {
   "cell_type": "code",
   "execution_count": 2,
   "metadata": {
    "ExecuteTime": {
     "end_time": "2021-03-22T03:39:34.424684Z",
     "start_time": "2021-03-22T03:39:34.407249Z"
    }
   },
   "outputs": [
    {
     "name": "stdout",
     "output_type": "stream",
     "text": [
      "# 1: John\n",
      "# 2: Ashley\n",
      "# 3: Danny\n",
      "# 4: Bobby\n",
      "\n",
      "# 1: John\n",
      "# 2: Ashley\n",
      "# 3: Danny\n",
      "# 4: Bobby\n"
     ]
    }
   ],
   "source": [
    "arrived_guests = [\"John\", \"Ashley\", \"Danny\", \"Bobby\"]\n",
    "\n",
    "for guest in arrived_guests:\n",
    "    arrived_order = arrived_guests.index(guest) + 1\n",
    "    print(f\"# {arrived_order}: {guest}\")\n",
    "    \n",
    "print()\n",
    "for guest_i in range(len(arrived_guests)):\n",
    "    guest = arrived_guests[guest_i]\n",
    "    print(f\"# {guest_i + 1}: {guest}\")"
   ]
  },
  {
   "cell_type": "code",
   "execution_count": 3,
   "metadata": {
    "ExecuteTime": {
     "end_time": "2021-03-22T03:40:29.103788Z",
     "start_time": "2021-03-22T03:40:29.092556Z"
    }
   },
   "outputs": [
    {
     "name": "stdout",
     "output_type": "stream",
     "text": [
      "# 1: John\n",
      "# 2: Ashley\n",
      "# 3: Danny\n",
      "# 4: Bobby\n"
     ]
    }
   ],
   "source": [
    "for guest_i, guest in enumerate(arrived_guests, 1):\n",
    "    print(f\"# {guest_i}: {guest}\")"
   ]
  },
  {
   "cell_type": "code",
   "execution_count": null,
   "metadata": {},
   "outputs": [],
   "source": []
  },
  {
   "cell_type": "code",
   "execution_count": null,
   "metadata": {},
   "outputs": [],
   "source": []
  },
  {
   "cell_type": "code",
   "execution_count": null,
   "metadata": {},
   "outputs": [],
   "source": []
  },
  {
   "cell_type": "code",
   "execution_count": null,
   "metadata": {},
   "outputs": [],
   "source": []
  },
  {
   "cell_type": "code",
   "execution_count": 1,
   "metadata": {
    "ExecuteTime": {
     "end_time": "2021-02-05T04:04:52.247208Z",
     "start_time": "2021-02-05T04:04:52.210974Z"
    },
    "hide_input": false
   },
   "outputs": [
    {
     "name": "stdout",
     "output_type": "stream",
     "text": [
      "(1, 5)\n",
      "(5, 5)\n",
      "(5, 5, 5)\n",
      "(5, 5, 5, 5)\n",
      "(5, 5, 5, 5)\n",
      "(5, 5, 5, 5)\n",
      "(5, 5, 5, 5)\n",
      "(5, 5, 5, 5)\n",
      "2\n"
     ]
    },
    {
     "name": "stderr",
     "output_type": "stream",
     "text": [
      "/home/akash/anaconda3/lib/python3.7/site-packages/ipykernel_launcher.py:19: VisibleDeprecationWarning: Creating an ndarray from ragged nested sequences (which is a list-or-tuple of lists-or-tuples-or ndarrays with different lengths or shapes) is deprecated. If you meant to do this, you must specify 'dtype=object' when creating the ndarray.\n"
     ]
    }
   ],
   "source": [
    "a = np.array([[1, 2, 3, 4, 5]])\n",
    "print(a.shape)\n",
    "weights = np.dot(a.T, a) / 15\n",
    "print(weights.shape)\n",
    "weights = np.repeat(weights[:, :, np.newaxis], 5, axis=-1)\n",
    "print(weights.shape)\n",
    "weights = np.repeat(weights[:, :, :, np.newaxis], 5, axis=-1)\n",
    "print(weights.shape)\n",
    "weights[:, :, 0, 1:] = 0\n",
    "print(weights.shape)\n",
    "weights[:, :, 1, 0] = 0\n",
    "print(weights.shape)\n",
    "weights[:, :, 1, 2] = 0\n",
    "print(weights.shape)\n",
    "weights[:, :, 2, :2] = 0\n",
    "print(weights.shape)\n",
    "weights = [weights, np.zeros(3)]\n",
    "# print(weights)\n",
    "qw = np.array(weights)\n",
    "print(len(qw))"
   ]
  },
  {
   "cell_type": "code",
   "execution_count": 10,
   "metadata": {
    "ExecuteTime": {
     "end_time": "2021-02-12T08:26:52.925804Z",
     "start_time": "2021-02-12T08:26:43.789641Z"
    }
   },
   "outputs": [],
   "source": [
    "import matplotlib.pyplot as plt\n",
    "import seaborn as sns\n",
    "import pandas as pd\n",
    "import os,csv,sys\n",
    "import pathlib\n",
    "import glob\n",
    "import cv2\n",
    "from PIL import Image\n",
    "import numpy as np\n"
   ]
  },
  {
   "cell_type": "code",
   "execution_count": 13,
   "metadata": {
    "ExecuteTime": {
     "end_time": "2021-02-12T08:35:14.526987Z",
     "start_time": "2021-02-12T08:35:14.296219Z"
    }
   },
   "outputs": [
    {
     "name": "stdout",
     "output_type": "stream",
     "text": [
      " \u001b[0m\u001b[01;34mada\u001b[0m/                     GeeksForgeeks.ipynb\r\n",
      " \u001b[01;32malgorithms.ipynb\u001b[0m*       'new rough python code practice.ipynb'\r\n",
      " clear                   \u001b[01;32m'Rough codes.ipynb'\u001b[0m*\r\n",
      "\u001b[01;32m'DATA STRUCTURE.ipynb'\u001b[0m*   \u001b[01;32mUntitled.ipynb\u001b[0m*\r\n"
     ]
    }
   ],
   "source": [
    "ls"
   ]
  },
  {
   "cell_type": "code",
   "execution_count": 16,
   "metadata": {
    "ExecuteTime": {
     "end_time": "2021-02-12T08:38:26.205306Z",
     "start_time": "2021-02-12T08:38:26.173018Z"
    }
   },
   "outputs": [
    {
     "name": "stdout",
     "output_type": "stream",
     "text": [
      "(256, 256, 3) (256, 256, 3) (256, 256, 3) (256, 256, 3)\n",
      "<class 'numpy.ndarray'>\n"
     ]
    }
   ],
   "source": [
    "img1=cv2.imread('ada/img1.png')\n",
    "img1=cv2.cvtColor(img1,cv2.COLOR_BGR2RGB)\n",
    "img2=cv2.imread('ada/img2.png')\n",
    "img1=cv2.cvtColor(img2,cv2.COLOR_BGR2RGB)\n",
    "mask1=cv2.imread('ada/mask1.png')\n",
    "mask1=cv2.cvtColor(mask1,cv2.COLOR_BGR2RGB)\n",
    "mask2=cv2.imread('ada/mask2.png')\n",
    "mask2=cv2.cvtColor(mask2,cv2.COLOR_BGR2RGB)\n",
    "print(img1.shape,img2.shape,mask1.shape,mask2.shape)\n",
    "print(type(img1))"
   ]
  },
  {
   "cell_type": "code",
   "execution_count": 23,
   "metadata": {
    "ExecuteTime": {
     "end_time": "2021-02-12T09:09:50.689696Z",
     "start_time": "2021-02-12T09:09:50.684277Z"
    }
   },
   "outputs": [],
   "source": [
    "p=[img1,img2]\n",
    "q=[mask1,mask2]\n",
    "w=(p,q)"
   ]
  },
  {
   "cell_type": "code",
   "execution_count": 25,
   "metadata": {
    "ExecuteTime": {
     "end_time": "2021-02-12T09:10:53.553916Z",
     "start_time": "2021-02-12T09:10:53.544533Z"
    }
   },
   "outputs": [
    {
     "data": {
      "text/plain": [
       "(256, 256, 3)"
      ]
     },
     "execution_count": 25,
     "metadata": {},
     "output_type": "execute_result"
    }
   ],
   "source": [
    "r=np.array(w[0][0])\n",
    "r.shape"
   ]
  },
  {
   "cell_type": "code",
   "execution_count": null,
   "metadata": {},
   "outputs": [],
   "source": []
  },
  {
   "cell_type": "code",
   "execution_count": 20,
   "metadata": {
    "ExecuteTime": {
     "end_time": "2021-02-12T08:40:04.299521Z",
     "start_time": "2021-02-12T08:40:04.294519Z"
    }
   },
   "outputs": [
    {
     "name": "stdout",
     "output_type": "stream",
     "text": [
      "2\n"
     ]
    }
   ],
   "source": [
    "print(len(p))"
   ]
  },
  {
   "cell_type": "code",
   "execution_count": null,
   "metadata": {},
   "outputs": [],
   "source": []
  },
  {
   "cell_type": "code",
   "execution_count": null,
   "metadata": {},
   "outputs": [],
   "source": []
  },
  {
   "cell_type": "code",
   "execution_count": 2,
   "metadata": {
    "ExecuteTime": {
     "end_time": "2021-02-05T04:05:19.358523Z",
     "start_time": "2021-02-05T04:05:19.349061Z"
    }
   },
   "outputs": [
    {
     "name": "stdout",
     "output_type": "stream",
     "text": [
      "[0. 0. 0. 0. 0.]\n"
     ]
    }
   ],
   "source": [
    "print(np.zeros(5))"
   ]
  },
  {
   "cell_type": "code",
   "execution_count": 3,
   "metadata": {
    "ExecuteTime": {
     "end_time": "2021-02-05T04:05:20.165038Z",
     "start_time": "2021-02-05T04:05:20.140139Z"
    }
   },
   "outputs": [
    {
     "data": {
      "text/plain": [
       "(5, 5)"
      ]
     },
     "execution_count": 3,
     "metadata": {},
     "output_type": "execute_result"
    }
   ],
   "source": [
    "weights2 = np.dot(a.T,a)/25\n",
    "weights2=weights2[:5,:5]\n",
    "weights2.shape"
   ]
  },
  {
   "cell_type": "code",
   "execution_count": 2,
   "metadata": {},
   "outputs": [],
   "source": [
    "import numpy as np"
   ]
  },
  {
   "cell_type": "code",
   "execution_count": 45,
   "metadata": {},
   "outputs": [
    {
     "name": "stdout",
     "output_type": "stream",
     "text": [
      "[[1 2 3 4 5]]\n",
      "(1, 9)\n"
     ]
    }
   ],
   "source": [
    "a = np.array([[1,2,3,4,5,4,3,2,1]])\n",
    "print(a[:,:5])\n",
    "print(a.shape)"
   ]
  },
  {
   "cell_type": "code",
   "execution_count": 16,
   "metadata": {},
   "outputs": [
    {
     "name": "stdout",
     "output_type": "stream",
     "text": [
      "[[1 2 3]\n",
      " [4 5 6]]\n",
      "(2, 3)\n",
      "[[1 2 3]\n",
      " [1 2 3]\n",
      " [1 2 3]\n",
      " [4 5 6]\n",
      " [4 5 6]\n",
      " [4 5 6]]\n",
      "(6, 3)\n",
      "[[1 1 1 2 2 2 3 3 3]\n",
      " [4 4 4 5 5 5 6 6 6]]\n",
      "(2, 9)\n"
     ]
    }
   ],
   "source": [
    "arr = np.array([[1, 2, 3], [4, 5, 6]])\n",
    "print(arr)\n",
    "print(arr.shape)\n",
    "\n",
    "p = np.repeat(arr, 3, 0)\n",
    "print(p)\n",
    "print(p.shape)\n",
    "\n",
    "q = np.repeat(arr, 3, -1)\n",
    "print(q)\n",
    "print(q.shape)"
   ]
  },
  {
   "cell_type": "code",
   "execution_count": 5,
   "metadata": {},
   "outputs": [
    {
     "name": "stdout",
     "output_type": "stream",
     "text": [
      "[[0.04 0.08 0.12 0.16 0.2  0.16 0.12 0.08 0.04]\n",
      " [0.08 0.16 0.24 0.32 0.4  0.32 0.24 0.16 0.08]\n",
      " [0.12 0.24 0.36 0.48 0.6  0.48 0.36 0.24 0.12]\n",
      " [0.16 0.32 0.48 0.64 0.8  0.64 0.48 0.32 0.16]\n",
      " [0.2  0.4  0.6  0.8  1.   0.8  0.6  0.4  0.2 ]\n",
      " [0.16 0.32 0.48 0.64 0.8  0.64 0.48 0.32 0.16]\n",
      " [0.12 0.24 0.36 0.48 0.6  0.48 0.36 0.24 0.12]\n",
      " [0.08 0.16 0.24 0.32 0.4  0.32 0.24 0.16 0.08]\n",
      " [0.04 0.08 0.12 0.16 0.2  0.16 0.12 0.08 0.04]]\n",
      "(9, 9)\n"
     ]
    }
   ],
   "source": [
    "weights = np.dot(a.T, a) / 25\n",
    "print(weights)\n",
    "print(weights.shape)"
   ]
  },
  {
   "cell_type": "code",
   "execution_count": 17,
   "metadata": {},
   "outputs": [
    {
     "name": "stdout",
     "output_type": "stream",
     "text": [
      "[[[0.04]\n",
      "  [0.08]\n",
      "  [0.12]\n",
      "  [0.16]\n",
      "  [0.2 ]\n",
      "  [0.16]\n",
      "  [0.12]\n",
      "  [0.08]\n",
      "  [0.04]]\n",
      "\n",
      " [[0.08]\n",
      "  [0.16]\n",
      "  [0.24]\n",
      "  [0.32]\n",
      "  [0.4 ]\n",
      "  [0.32]\n",
      "  [0.24]\n",
      "  [0.16]\n",
      "  [0.08]]\n",
      "\n",
      " [[0.12]\n",
      "  [0.24]\n",
      "  [0.36]\n",
      "  [0.48]\n",
      "  [0.6 ]\n",
      "  [0.48]\n",
      "  [0.36]\n",
      "  [0.24]\n",
      "  [0.12]]\n",
      "\n",
      " [[0.16]\n",
      "  [0.32]\n",
      "  [0.48]\n",
      "  [0.64]\n",
      "  [0.8 ]\n",
      "  [0.64]\n",
      "  [0.48]\n",
      "  [0.32]\n",
      "  [0.16]]\n",
      "\n",
      " [[0.2 ]\n",
      "  [0.4 ]\n",
      "  [0.6 ]\n",
      "  [0.8 ]\n",
      "  [1.  ]\n",
      "  [0.8 ]\n",
      "  [0.6 ]\n",
      "  [0.4 ]\n",
      "  [0.2 ]]\n",
      "\n",
      " [[0.16]\n",
      "  [0.32]\n",
      "  [0.48]\n",
      "  [0.64]\n",
      "  [0.8 ]\n",
      "  [0.64]\n",
      "  [0.48]\n",
      "  [0.32]\n",
      "  [0.16]]\n",
      "\n",
      " [[0.12]\n",
      "  [0.24]\n",
      "  [0.36]\n",
      "  [0.48]\n",
      "  [0.6 ]\n",
      "  [0.48]\n",
      "  [0.36]\n",
      "  [0.24]\n",
      "  [0.12]]\n",
      "\n",
      " [[0.08]\n",
      "  [0.16]\n",
      "  [0.24]\n",
      "  [0.32]\n",
      "  [0.4 ]\n",
      "  [0.32]\n",
      "  [0.24]\n",
      "  [0.16]\n",
      "  [0.08]]\n",
      "\n",
      " [[0.04]\n",
      "  [0.08]\n",
      "  [0.12]\n",
      "  [0.16]\n",
      "  [0.2 ]\n",
      "  [0.16]\n",
      "  [0.12]\n",
      "  [0.08]\n",
      "  [0.04]]]\n",
      "(9, 9, 1)\n"
     ]
    }
   ],
   "source": [
    "we2 = weights[:, :, np.newaxis]\n",
    "print(we2)\n",
    "print(we2.shape)"
   ]
  },
  {
   "cell_type": "code",
   "execution_count": 10,
   "metadata": {},
   "outputs": [
    {
     "name": "stdout",
     "output_type": "stream",
     "text": [
      "[[[0.04 0.04 0.04]\n",
      "  [0.08 0.08 0.08]\n",
      "  [0.12 0.12 0.12]\n",
      "  [0.16 0.16 0.16]\n",
      "  [0.2  0.2  0.2 ]\n",
      "  [0.16 0.16 0.16]\n",
      "  [0.12 0.12 0.12]\n",
      "  [0.08 0.08 0.08]\n",
      "  [0.04 0.04 0.04]]\n",
      "\n",
      " [[0.08 0.08 0.08]\n",
      "  [0.16 0.16 0.16]\n",
      "  [0.24 0.24 0.24]\n",
      "  [0.32 0.32 0.32]\n",
      "  [0.4  0.4  0.4 ]\n",
      "  [0.32 0.32 0.32]\n",
      "  [0.24 0.24 0.24]\n",
      "  [0.16 0.16 0.16]\n",
      "  [0.08 0.08 0.08]]\n",
      "\n",
      " [[0.12 0.12 0.12]\n",
      "  [0.24 0.24 0.24]\n",
      "  [0.36 0.36 0.36]\n",
      "  [0.48 0.48 0.48]\n",
      "  [0.6  0.6  0.6 ]\n",
      "  [0.48 0.48 0.48]\n",
      "  [0.36 0.36 0.36]\n",
      "  [0.24 0.24 0.24]\n",
      "  [0.12 0.12 0.12]]\n",
      "\n",
      " [[0.16 0.16 0.16]\n",
      "  [0.32 0.32 0.32]\n",
      "  [0.48 0.48 0.48]\n",
      "  [0.64 0.64 0.64]\n",
      "  [0.8  0.8  0.8 ]\n",
      "  [0.64 0.64 0.64]\n",
      "  [0.48 0.48 0.48]\n",
      "  [0.32 0.32 0.32]\n",
      "  [0.16 0.16 0.16]]\n",
      "\n",
      " [[0.2  0.2  0.2 ]\n",
      "  [0.4  0.4  0.4 ]\n",
      "  [0.6  0.6  0.6 ]\n",
      "  [0.8  0.8  0.8 ]\n",
      "  [1.   1.   1.  ]\n",
      "  [0.8  0.8  0.8 ]\n",
      "  [0.6  0.6  0.6 ]\n",
      "  [0.4  0.4  0.4 ]\n",
      "  [0.2  0.2  0.2 ]]\n",
      "\n",
      " [[0.16 0.16 0.16]\n",
      "  [0.32 0.32 0.32]\n",
      "  [0.48 0.48 0.48]\n",
      "  [0.64 0.64 0.64]\n",
      "  [0.8  0.8  0.8 ]\n",
      "  [0.64 0.64 0.64]\n",
      "  [0.48 0.48 0.48]\n",
      "  [0.32 0.32 0.32]\n",
      "  [0.16 0.16 0.16]]\n",
      "\n",
      " [[0.12 0.12 0.12]\n",
      "  [0.24 0.24 0.24]\n",
      "  [0.36 0.36 0.36]\n",
      "  [0.48 0.48 0.48]\n",
      "  [0.6  0.6  0.6 ]\n",
      "  [0.48 0.48 0.48]\n",
      "  [0.36 0.36 0.36]\n",
      "  [0.24 0.24 0.24]\n",
      "  [0.12 0.12 0.12]]\n",
      "\n",
      " [[0.08 0.08 0.08]\n",
      "  [0.16 0.16 0.16]\n",
      "  [0.24 0.24 0.24]\n",
      "  [0.32 0.32 0.32]\n",
      "  [0.4  0.4  0.4 ]\n",
      "  [0.32 0.32 0.32]\n",
      "  [0.24 0.24 0.24]\n",
      "  [0.16 0.16 0.16]\n",
      "  [0.08 0.08 0.08]]\n",
      "\n",
      " [[0.04 0.04 0.04]\n",
      "  [0.08 0.08 0.08]\n",
      "  [0.12 0.12 0.12]\n",
      "  [0.16 0.16 0.16]\n",
      "  [0.2  0.2  0.2 ]\n",
      "  [0.16 0.16 0.16]\n",
      "  [0.12 0.12 0.12]\n",
      "  [0.08 0.08 0.08]\n",
      "  [0.04 0.04 0.04]]]\n",
      "(9, 9, 3)\n"
     ]
    }
   ],
   "source": [
    "weights = np.repeat(weights[:, :, np.newaxis], 3, axis=-1)\n",
    "print(weights)\n",
    "print(weights.shape)"
   ]
  },
  {
   "cell_type": "code",
   "execution_count": 11,
   "metadata": {},
   "outputs": [
    {
     "name": "stdout",
     "output_type": "stream",
     "text": [
      "[[[[0.04 0.04 0.04 0.04 0.04 0.04 0.04 0.04 0.04]]\n",
      "\n",
      "  [[0.08 0.08 0.08 0.08 0.08 0.08 0.08 0.08 0.08]]\n",
      "\n",
      "  [[0.12 0.12 0.12 0.12 0.12 0.12 0.12 0.12 0.12]]\n",
      "\n",
      "  [[0.16 0.16 0.16 0.16 0.16 0.16 0.16 0.16 0.16]]\n",
      "\n",
      "  [[0.2  0.2  0.2  0.2  0.2  0.2  0.2  0.2  0.2 ]]\n",
      "\n",
      "  [[0.16 0.16 0.16 0.16 0.16 0.16 0.16 0.16 0.16]]\n",
      "\n",
      "  [[0.12 0.12 0.12 0.12 0.12 0.12 0.12 0.12 0.12]]\n",
      "\n",
      "  [[0.08 0.08 0.08 0.08 0.08 0.08 0.08 0.08 0.08]]\n",
      "\n",
      "  [[0.04 0.04 0.04 0.04 0.04 0.04 0.04 0.04 0.04]]]\n",
      "\n",
      "\n",
      " [[[0.08 0.08 0.08 0.08 0.08 0.08 0.08 0.08 0.08]]\n",
      "\n",
      "  [[0.16 0.16 0.16 0.16 0.16 0.16 0.16 0.16 0.16]]\n",
      "\n",
      "  [[0.24 0.24 0.24 0.24 0.24 0.24 0.24 0.24 0.24]]\n",
      "\n",
      "  [[0.32 0.32 0.32 0.32 0.32 0.32 0.32 0.32 0.32]]\n",
      "\n",
      "  [[0.4  0.4  0.4  0.4  0.4  0.4  0.4  0.4  0.4 ]]\n",
      "\n",
      "  [[0.32 0.32 0.32 0.32 0.32 0.32 0.32 0.32 0.32]]\n",
      "\n",
      "  [[0.24 0.24 0.24 0.24 0.24 0.24 0.24 0.24 0.24]]\n",
      "\n",
      "  [[0.16 0.16 0.16 0.16 0.16 0.16 0.16 0.16 0.16]]\n",
      "\n",
      "  [[0.08 0.08 0.08 0.08 0.08 0.08 0.08 0.08 0.08]]]\n",
      "\n",
      "\n",
      " [[[0.12 0.12 0.12 0.12 0.12 0.12 0.12 0.12 0.12]]\n",
      "\n",
      "  [[0.24 0.24 0.24 0.24 0.24 0.24 0.24 0.24 0.24]]\n",
      "\n",
      "  [[0.36 0.36 0.36 0.36 0.36 0.36 0.36 0.36 0.36]]\n",
      "\n",
      "  [[0.48 0.48 0.48 0.48 0.48 0.48 0.48 0.48 0.48]]\n",
      "\n",
      "  [[0.6  0.6  0.6  0.6  0.6  0.6  0.6  0.6  0.6 ]]\n",
      "\n",
      "  [[0.48 0.48 0.48 0.48 0.48 0.48 0.48 0.48 0.48]]\n",
      "\n",
      "  [[0.36 0.36 0.36 0.36 0.36 0.36 0.36 0.36 0.36]]\n",
      "\n",
      "  [[0.24 0.24 0.24 0.24 0.24 0.24 0.24 0.24 0.24]]\n",
      "\n",
      "  [[0.12 0.12 0.12 0.12 0.12 0.12 0.12 0.12 0.12]]]\n",
      "\n",
      "\n",
      " [[[0.16 0.16 0.16 0.16 0.16 0.16 0.16 0.16 0.16]]\n",
      "\n",
      "  [[0.32 0.32 0.32 0.32 0.32 0.32 0.32 0.32 0.32]]\n",
      "\n",
      "  [[0.48 0.48 0.48 0.48 0.48 0.48 0.48 0.48 0.48]]\n",
      "\n",
      "  [[0.64 0.64 0.64 0.64 0.64 0.64 0.64 0.64 0.64]]\n",
      "\n",
      "  [[0.8  0.8  0.8  0.8  0.8  0.8  0.8  0.8  0.8 ]]\n",
      "\n",
      "  [[0.64 0.64 0.64 0.64 0.64 0.64 0.64 0.64 0.64]]\n",
      "\n",
      "  [[0.48 0.48 0.48 0.48 0.48 0.48 0.48 0.48 0.48]]\n",
      "\n",
      "  [[0.32 0.32 0.32 0.32 0.32 0.32 0.32 0.32 0.32]]\n",
      "\n",
      "  [[0.16 0.16 0.16 0.16 0.16 0.16 0.16 0.16 0.16]]]\n",
      "\n",
      "\n",
      " [[[0.2  0.2  0.2  0.2  0.2  0.2  0.2  0.2  0.2 ]]\n",
      "\n",
      "  [[0.4  0.4  0.4  0.4  0.4  0.4  0.4  0.4  0.4 ]]\n",
      "\n",
      "  [[0.6  0.6  0.6  0.6  0.6  0.6  0.6  0.6  0.6 ]]\n",
      "\n",
      "  [[0.8  0.8  0.8  0.8  0.8  0.8  0.8  0.8  0.8 ]]\n",
      "\n",
      "  [[1.   1.   1.   1.   1.   1.   1.   1.   1.  ]]\n",
      "\n",
      "  [[0.8  0.8  0.8  0.8  0.8  0.8  0.8  0.8  0.8 ]]\n",
      "\n",
      "  [[0.6  0.6  0.6  0.6  0.6  0.6  0.6  0.6  0.6 ]]\n",
      "\n",
      "  [[0.4  0.4  0.4  0.4  0.4  0.4  0.4  0.4  0.4 ]]\n",
      "\n",
      "  [[0.2  0.2  0.2  0.2  0.2  0.2  0.2  0.2  0.2 ]]]\n",
      "\n",
      "\n",
      " [[[0.16 0.16 0.16 0.16 0.16 0.16 0.16 0.16 0.16]]\n",
      "\n",
      "  [[0.32 0.32 0.32 0.32 0.32 0.32 0.32 0.32 0.32]]\n",
      "\n",
      "  [[0.48 0.48 0.48 0.48 0.48 0.48 0.48 0.48 0.48]]\n",
      "\n",
      "  [[0.64 0.64 0.64 0.64 0.64 0.64 0.64 0.64 0.64]]\n",
      "\n",
      "  [[0.8  0.8  0.8  0.8  0.8  0.8  0.8  0.8  0.8 ]]\n",
      "\n",
      "  [[0.64 0.64 0.64 0.64 0.64 0.64 0.64 0.64 0.64]]\n",
      "\n",
      "  [[0.48 0.48 0.48 0.48 0.48 0.48 0.48 0.48 0.48]]\n",
      "\n",
      "  [[0.32 0.32 0.32 0.32 0.32 0.32 0.32 0.32 0.32]]\n",
      "\n",
      "  [[0.16 0.16 0.16 0.16 0.16 0.16 0.16 0.16 0.16]]]\n",
      "\n",
      "\n",
      " [[[0.12 0.12 0.12 0.12 0.12 0.12 0.12 0.12 0.12]]\n",
      "\n",
      "  [[0.24 0.24 0.24 0.24 0.24 0.24 0.24 0.24 0.24]]\n",
      "\n",
      "  [[0.36 0.36 0.36 0.36 0.36 0.36 0.36 0.36 0.36]]\n",
      "\n",
      "  [[0.48 0.48 0.48 0.48 0.48 0.48 0.48 0.48 0.48]]\n",
      "\n",
      "  [[0.6  0.6  0.6  0.6  0.6  0.6  0.6  0.6  0.6 ]]\n",
      "\n",
      "  [[0.48 0.48 0.48 0.48 0.48 0.48 0.48 0.48 0.48]]\n",
      "\n",
      "  [[0.36 0.36 0.36 0.36 0.36 0.36 0.36 0.36 0.36]]\n",
      "\n",
      "  [[0.24 0.24 0.24 0.24 0.24 0.24 0.24 0.24 0.24]]\n",
      "\n",
      "  [[0.12 0.12 0.12 0.12 0.12 0.12 0.12 0.12 0.12]]]\n",
      "\n",
      "\n",
      " [[[0.08 0.08 0.08 0.08 0.08 0.08 0.08 0.08 0.08]]\n",
      "\n",
      "  [[0.16 0.16 0.16 0.16 0.16 0.16 0.16 0.16 0.16]]\n",
      "\n",
      "  [[0.24 0.24 0.24 0.24 0.24 0.24 0.24 0.24 0.24]]\n",
      "\n",
      "  [[0.32 0.32 0.32 0.32 0.32 0.32 0.32 0.32 0.32]]\n",
      "\n",
      "  [[0.4  0.4  0.4  0.4  0.4  0.4  0.4  0.4  0.4 ]]\n",
      "\n",
      "  [[0.32 0.32 0.32 0.32 0.32 0.32 0.32 0.32 0.32]]\n",
      "\n",
      "  [[0.24 0.24 0.24 0.24 0.24 0.24 0.24 0.24 0.24]]\n",
      "\n",
      "  [[0.16 0.16 0.16 0.16 0.16 0.16 0.16 0.16 0.16]]\n",
      "\n",
      "  [[0.08 0.08 0.08 0.08 0.08 0.08 0.08 0.08 0.08]]]\n",
      "\n",
      "\n",
      " [[[0.04 0.04 0.04 0.04 0.04 0.04 0.04 0.04 0.04]]\n",
      "\n",
      "  [[0.08 0.08 0.08 0.08 0.08 0.08 0.08 0.08 0.08]]\n",
      "\n",
      "  [[0.12 0.12 0.12 0.12 0.12 0.12 0.12 0.12 0.12]]\n",
      "\n",
      "  [[0.16 0.16 0.16 0.16 0.16 0.16 0.16 0.16 0.16]]\n",
      "\n",
      "  [[0.2  0.2  0.2  0.2  0.2  0.2  0.2  0.2  0.2 ]]\n",
      "\n",
      "  [[0.16 0.16 0.16 0.16 0.16 0.16 0.16 0.16 0.16]]\n",
      "\n",
      "  [[0.12 0.12 0.12 0.12 0.12 0.12 0.12 0.12 0.12]]\n",
      "\n",
      "  [[0.08 0.08 0.08 0.08 0.08 0.08 0.08 0.08 0.08]]\n",
      "\n",
      "  [[0.04 0.04 0.04 0.04 0.04 0.04 0.04 0.04 0.04]]]]\n",
      "(9, 9, 1, 9)\n"
     ]
    }
   ],
   "source": [
    "weights = np.repeat(weights[:,:,np.newaxis],3,axis=-1)\n",
    "print(weights)\n",
    "print(weights.shape)"
   ]
  },
  {
   "cell_type": "code",
   "execution_count": 12,
   "metadata": {},
   "outputs": [
    {
     "name": "stdout",
     "output_type": "stream",
     "text": [
      "[[[[0.04 0.   0.   0.   0.   0.   0.   0.   0.  ]]\n",
      "\n",
      "  [[0.08 0.   0.   0.   0.   0.   0.   0.   0.  ]]\n",
      "\n",
      "  [[0.12 0.   0.   0.   0.   0.   0.   0.   0.  ]]\n",
      "\n",
      "  [[0.16 0.   0.   0.   0.   0.   0.   0.   0.  ]]\n",
      "\n",
      "  [[0.2  0.   0.   0.   0.   0.   0.   0.   0.  ]]\n",
      "\n",
      "  [[0.16 0.   0.   0.   0.   0.   0.   0.   0.  ]]\n",
      "\n",
      "  [[0.12 0.   0.   0.   0.   0.   0.   0.   0.  ]]\n",
      "\n",
      "  [[0.08 0.   0.   0.   0.   0.   0.   0.   0.  ]]\n",
      "\n",
      "  [[0.04 0.   0.   0.   0.   0.   0.   0.   0.  ]]]\n",
      "\n",
      "\n",
      " [[[0.08 0.   0.   0.   0.   0.   0.   0.   0.  ]]\n",
      "\n",
      "  [[0.16 0.   0.   0.   0.   0.   0.   0.   0.  ]]\n",
      "\n",
      "  [[0.24 0.   0.   0.   0.   0.   0.   0.   0.  ]]\n",
      "\n",
      "  [[0.32 0.   0.   0.   0.   0.   0.   0.   0.  ]]\n",
      "\n",
      "  [[0.4  0.   0.   0.   0.   0.   0.   0.   0.  ]]\n",
      "\n",
      "  [[0.32 0.   0.   0.   0.   0.   0.   0.   0.  ]]\n",
      "\n",
      "  [[0.24 0.   0.   0.   0.   0.   0.   0.   0.  ]]\n",
      "\n",
      "  [[0.16 0.   0.   0.   0.   0.   0.   0.   0.  ]]\n",
      "\n",
      "  [[0.08 0.   0.   0.   0.   0.   0.   0.   0.  ]]]\n",
      "\n",
      "\n",
      " [[[0.12 0.   0.   0.   0.   0.   0.   0.   0.  ]]\n",
      "\n",
      "  [[0.24 0.   0.   0.   0.   0.   0.   0.   0.  ]]\n",
      "\n",
      "  [[0.36 0.   0.   0.   0.   0.   0.   0.   0.  ]]\n",
      "\n",
      "  [[0.48 0.   0.   0.   0.   0.   0.   0.   0.  ]]\n",
      "\n",
      "  [[0.6  0.   0.   0.   0.   0.   0.   0.   0.  ]]\n",
      "\n",
      "  [[0.48 0.   0.   0.   0.   0.   0.   0.   0.  ]]\n",
      "\n",
      "  [[0.36 0.   0.   0.   0.   0.   0.   0.   0.  ]]\n",
      "\n",
      "  [[0.24 0.   0.   0.   0.   0.   0.   0.   0.  ]]\n",
      "\n",
      "  [[0.12 0.   0.   0.   0.   0.   0.   0.   0.  ]]]\n",
      "\n",
      "\n",
      " [[[0.16 0.   0.   0.   0.   0.   0.   0.   0.  ]]\n",
      "\n",
      "  [[0.32 0.   0.   0.   0.   0.   0.   0.   0.  ]]\n",
      "\n",
      "  [[0.48 0.   0.   0.   0.   0.   0.   0.   0.  ]]\n",
      "\n",
      "  [[0.64 0.   0.   0.   0.   0.   0.   0.   0.  ]]\n",
      "\n",
      "  [[0.8  0.   0.   0.   0.   0.   0.   0.   0.  ]]\n",
      "\n",
      "  [[0.64 0.   0.   0.   0.   0.   0.   0.   0.  ]]\n",
      "\n",
      "  [[0.48 0.   0.   0.   0.   0.   0.   0.   0.  ]]\n",
      "\n",
      "  [[0.32 0.   0.   0.   0.   0.   0.   0.   0.  ]]\n",
      "\n",
      "  [[0.16 0.   0.   0.   0.   0.   0.   0.   0.  ]]]\n",
      "\n",
      "\n",
      " [[[0.2  0.   0.   0.   0.   0.   0.   0.   0.  ]]\n",
      "\n",
      "  [[0.4  0.   0.   0.   0.   0.   0.   0.   0.  ]]\n",
      "\n",
      "  [[0.6  0.   0.   0.   0.   0.   0.   0.   0.  ]]\n",
      "\n",
      "  [[0.8  0.   0.   0.   0.   0.   0.   0.   0.  ]]\n",
      "\n",
      "  [[1.   0.   0.   0.   0.   0.   0.   0.   0.  ]]\n",
      "\n",
      "  [[0.8  0.   0.   0.   0.   0.   0.   0.   0.  ]]\n",
      "\n",
      "  [[0.6  0.   0.   0.   0.   0.   0.   0.   0.  ]]\n",
      "\n",
      "  [[0.4  0.   0.   0.   0.   0.   0.   0.   0.  ]]\n",
      "\n",
      "  [[0.2  0.   0.   0.   0.   0.   0.   0.   0.  ]]]\n",
      "\n",
      "\n",
      " [[[0.16 0.   0.   0.   0.   0.   0.   0.   0.  ]]\n",
      "\n",
      "  [[0.32 0.   0.   0.   0.   0.   0.   0.   0.  ]]\n",
      "\n",
      "  [[0.48 0.   0.   0.   0.   0.   0.   0.   0.  ]]\n",
      "\n",
      "  [[0.64 0.   0.   0.   0.   0.   0.   0.   0.  ]]\n",
      "\n",
      "  [[0.8  0.   0.   0.   0.   0.   0.   0.   0.  ]]\n",
      "\n",
      "  [[0.64 0.   0.   0.   0.   0.   0.   0.   0.  ]]\n",
      "\n",
      "  [[0.48 0.   0.   0.   0.   0.   0.   0.   0.  ]]\n",
      "\n",
      "  [[0.32 0.   0.   0.   0.   0.   0.   0.   0.  ]]\n",
      "\n",
      "  [[0.16 0.   0.   0.   0.   0.   0.   0.   0.  ]]]\n",
      "\n",
      "\n",
      " [[[0.12 0.   0.   0.   0.   0.   0.   0.   0.  ]]\n",
      "\n",
      "  [[0.24 0.   0.   0.   0.   0.   0.   0.   0.  ]]\n",
      "\n",
      "  [[0.36 0.   0.   0.   0.   0.   0.   0.   0.  ]]\n",
      "\n",
      "  [[0.48 0.   0.   0.   0.   0.   0.   0.   0.  ]]\n",
      "\n",
      "  [[0.6  0.   0.   0.   0.   0.   0.   0.   0.  ]]\n",
      "\n",
      "  [[0.48 0.   0.   0.   0.   0.   0.   0.   0.  ]]\n",
      "\n",
      "  [[0.36 0.   0.   0.   0.   0.   0.   0.   0.  ]]\n",
      "\n",
      "  [[0.24 0.   0.   0.   0.   0.   0.   0.   0.  ]]\n",
      "\n",
      "  [[0.12 0.   0.   0.   0.   0.   0.   0.   0.  ]]]\n",
      "\n",
      "\n",
      " [[[0.08 0.   0.   0.   0.   0.   0.   0.   0.  ]]\n",
      "\n",
      "  [[0.16 0.   0.   0.   0.   0.   0.   0.   0.  ]]\n",
      "\n",
      "  [[0.24 0.   0.   0.   0.   0.   0.   0.   0.  ]]\n",
      "\n",
      "  [[0.32 0.   0.   0.   0.   0.   0.   0.   0.  ]]\n",
      "\n",
      "  [[0.4  0.   0.   0.   0.   0.   0.   0.   0.  ]]\n",
      "\n",
      "  [[0.32 0.   0.   0.   0.   0.   0.   0.   0.  ]]\n",
      "\n",
      "  [[0.24 0.   0.   0.   0.   0.   0.   0.   0.  ]]\n",
      "\n",
      "  [[0.16 0.   0.   0.   0.   0.   0.   0.   0.  ]]\n",
      "\n",
      "  [[0.08 0.   0.   0.   0.   0.   0.   0.   0.  ]]]\n",
      "\n",
      "\n",
      " [[[0.04 0.   0.   0.   0.   0.   0.   0.   0.  ]]\n",
      "\n",
      "  [[0.08 0.   0.   0.   0.   0.   0.   0.   0.  ]]\n",
      "\n",
      "  [[0.12 0.   0.   0.   0.   0.   0.   0.   0.  ]]\n",
      "\n",
      "  [[0.16 0.   0.   0.   0.   0.   0.   0.   0.  ]]\n",
      "\n",
      "  [[0.2  0.   0.   0.   0.   0.   0.   0.   0.  ]]\n",
      "\n",
      "  [[0.16 0.   0.   0.   0.   0.   0.   0.   0.  ]]\n",
      "\n",
      "  [[0.12 0.   0.   0.   0.   0.   0.   0.   0.  ]]\n",
      "\n",
      "  [[0.08 0.   0.   0.   0.   0.   0.   0.   0.  ]]\n",
      "\n",
      "  [[0.04 0.   0.   0.   0.   0.   0.   0.   0.  ]]]]\n"
     ]
    }
   ],
   "source": []
  },
  {
   "cell_type": "code",
   "execution_count": 26,
   "metadata": {},
   "outputs": [
    {
     "ename": "IndexError",
     "evalue": "too many indices for array",
     "output_type": "error",
     "traceback": [
      "\u001b[0;31m---------------------------------------------------------------------------\u001b[0m",
      "\u001b[0;31mIndexError\u001b[0m                                Traceback (most recent call last)",
      "\u001b[0;32m<ipython-input-26-51335c7983b4>\u001b[0m in \u001b[0;36m<module>\u001b[0;34m\u001b[0m\n\u001b[0;32m----> 1\u001b[0;31m \u001b[0mweights\u001b[0m\u001b[0;34m[\u001b[0m\u001b[0;34m:\u001b[0m\u001b[0;34m,\u001b[0m\u001b[0;34m:\u001b[0m\u001b[0;34m,\u001b[0m\u001b[0;36m0\u001b[0m\u001b[0;34m,\u001b[0m\u001b[0;36m1\u001b[0m\u001b[0;34m:\u001b[0m\u001b[0;34m]\u001b[0m\u001b[0;34m=\u001b[0m\u001b[0;36m0\u001b[0m\u001b[0;34m\u001b[0m\u001b[0;34m\u001b[0m\u001b[0m\n\u001b[0m\u001b[1;32m      2\u001b[0m \u001b[0mweights\u001b[0m\u001b[0;34m[\u001b[0m\u001b[0;34m:\u001b[0m\u001b[0;34m,\u001b[0m\u001b[0;34m:\u001b[0m\u001b[0;34m,\u001b[0m\u001b[0;36m1\u001b[0m\u001b[0;34m,\u001b[0m\u001b[0;36m0\u001b[0m\u001b[0;34m]\u001b[0m\u001b[0;34m=\u001b[0m\u001b[0;36m0\u001b[0m\u001b[0;34m\u001b[0m\u001b[0;34m\u001b[0m\u001b[0m\n\u001b[1;32m      3\u001b[0m \u001b[0mweights\u001b[0m\u001b[0;34m[\u001b[0m\u001b[0;34m:\u001b[0m\u001b[0;34m,\u001b[0m\u001b[0;34m:\u001b[0m\u001b[0;34m,\u001b[0m\u001b[0;36m1\u001b[0m\u001b[0;34m,\u001b[0m\u001b[0;36m2\u001b[0m\u001b[0;34m]\u001b[0m\u001b[0;34m=\u001b[0m\u001b[0;36m0\u001b[0m\u001b[0;34m\u001b[0m\u001b[0;34m\u001b[0m\u001b[0m\n\u001b[1;32m      4\u001b[0m \u001b[0mweights\u001b[0m\u001b[0;34m[\u001b[0m\u001b[0;34m:\u001b[0m\u001b[0;34m,\u001b[0m\u001b[0;34m:\u001b[0m\u001b[0;34m,\u001b[0m\u001b[0;36m2\u001b[0m\u001b[0;34m,\u001b[0m\u001b[0;34m:\u001b[0m\u001b[0;36m2\u001b[0m\u001b[0;34m]\u001b[0m\u001b[0;34m=\u001b[0m\u001b[0;36m0\u001b[0m\u001b[0;34m\u001b[0m\u001b[0;34m\u001b[0m\u001b[0m\n",
      "\u001b[0;31mIndexError\u001b[0m: too many indices for array"
     ]
    }
   ],
   "source": [
    "weights[:,:,0,1:]=0\n",
    "weights[:,:,1,0]=0\n",
    "weights[:,:,1,2]=0\n",
    "weights[:,:,2,:2]=0"
   ]
  },
  {
   "cell_type": "code",
   "execution_count": 7,
   "metadata": {},
   "outputs": [
    {
     "name": "stdout",
     "output_type": "stream",
     "text": [
      "(1, 1, 6)\n"
     ]
    }
   ],
   "source": [
    "b=np.array([[[1,2,3,4,5,6]]])\n",
    "print(b.shape)"
   ]
  },
  {
   "cell_type": "code",
   "execution_count": 14,
   "metadata": {},
   "outputs": [
    {
     "name": "stdout",
     "output_type": "stream",
     "text": [
      "[[[1 2 3 4 5 6]]\n",
      "\n",
      " [[1 2 3 4 5 6]]\n",
      "\n",
      " [[1 2 3 4 5 6]]]\n"
     ]
    }
   ],
   "source": [
    "c=np.array([[[1,2,3,4,5,6]],[[1,2,3,4,5,6]],[[1,2,3,4,5,6]]])\n",
    "print(c)"
   ]
  },
  {
   "cell_type": "code",
   "execution_count": null,
   "metadata": {},
   "outputs": [],
   "source": [
    "#checkpoint_path = model_name\n",
    "checkpoint_path = None\n",
    "checkpoint_path_10x='/content/drive/MyDrive/new_4x_model/model.h5'  \n",
    "\n",
    "if checkpoint_path is not None:\n",
    "    # Load m for continue training\n",
    "    model = load_model(checkpoint_path, custom_objects={'fscore': fscore,'jaccard_distance_loss':jaccard_distance_loss})\n",
    "    model.load_weights(\"%s/weights.160.hdf5\"%weights_folder) # To continue from a particular epoch\n",
    "    initial_epoch = 100\n",
    "\n",
    "\n",
    "else:\n",
    "    print(\"akash\")\n",
    "\n",
    "    model_10x = load_model(checkpoint_path_10x, custom_objects={'fscore': fscore})\n",
    "    model_10x.load_weights(\"%s/weights.160.hdf5\"%weights_folder_10x)\n",
    "\n",
    "\n",
    "    initial_epoch = 0\n",
    "\n",
    "    a = np.array([[1,2,3,4,5,4,3,2,1]])\n",
    "    weights = np.dot(a.T,a)/25\n",
    "    weights = np.repeat(weights[:,:,np.newaxis],3,axis=-1)\n",
    "    weights = np.repeat(weights[:,:,:,np.newaxis],3,axis=-1)\n",
    "    weights[:,:,0,1:]=0\n",
    "    weights[:,:,1,0]=0\n",
    "    weights[:,:,1,2]=0\n",
    "    weights[:,:,2,:2]=0\n",
    "    weights = [weights, np.zeros(3)]\n",
    "\n",
    "    weights2 = np.dot(a[:,:5].T,a[:,:5])/25\n",
    "    weights2 = np.repeat(weights2[:,:,np.newaxis],5,axis=-1)\n",
    "    weights2 = np.repeat(weights2[:,:,:,np.newaxis],5,axis=-1)\n",
    "    weights2[:,:,0,1:]=0\n",
    "    weights2[:,:,1,0] =0\n",
    "    weights2[:,:,1,2:]=0\n",
    "    weights2[:,:,2,:2]=0\n",
    "    weights2[:,:,2,3:]=0\n",
    "    weights2[:,:,3,:3]=0\n",
    "    weights2[:,:,3,4:]=0\n",
    "    weights2[:,:,4,:4]=0\n",
    "    weights2 = [weights2, np.zeros(5)]  \n",
    "\n",
    "\n",
    "    b = np.hamming(5)\n",
    "    b = b[np.newaxis,:]\n",
    "    c = np.dot(b.T,b)/5\n",
    "    hamming_flr = np.repeat(c[:,:,np.newaxis],3,axis=-1)\n",
    "    hamming_flr = hamming_flr[:,:,:,np.newaxis]\n",
    "    hamming_flr= [hamming_flr, np.zeros(3)]\n",
    "    #hamming_flr= [hamming_flr, np.zeros(1)]\n",
    "    \n",
    "    \n",
    "    size = 256\n",
    "    \n",
    "    X_input = Input(shape=(size,size,3))\n",
    "    \n",
    "    #print(K.int_shape(X_input))\n",
    "\n",
    "\n",
    "    X = Conv2DTranspose(3, kernel_size=(9,9), strides=(5, 5), padding='same',output_padding= None, activation=None)(X_input)\n",
    "    #X = UpSampling2D(size=(5, 5), data_format=None, interpolation='bilinear')(X_input)\n",
    "    ### size of layer =(size*stride)\n",
    "\n",
    "    print('up',K.int_shape(X))\n",
    "    X = DepthwiseConv2D(kernel_size=(5,5),strides=(2,2), padding='same')(X)\n",
    "    #X = AveragePooling2D((2,2))(X)\n",
    "    print('down',K.int_shape(X))\n",
    "\n",
    "    X = model_10x(X)\n",
    "\n",
    "    def resize(x):\n",
    "            #X = K.resize_images(x,0.4,0.4,data_format='channels_last',interpolation='bilinear')\n",
    "            X = resize_bilinear(x,(size,size))\n",
    "            return X\n",
    "    # X = Lambda(resize)(X)\n",
    "\n",
    "    X=Conv2DTranspose(5, kernel_size=(5,5), strides=(2, 2), padding='same',output_padding= None, activation=None)(X)\n",
    "    #print('upsamp',K.int_shape(X))\n",
    "    print('resize',K.int_shape(X))\n",
    "    X = DepthwiseConv2D(kernel_size=(7,7),strides=(5,5), padding='same')(X)\n",
    "    print('down',K.int_shape(X))\n",
    "    #print('downsamp',K.int_shape(X))\n",
    "\n",
    "\n",
    "\n",
    "\n",
    "    b2 = np.hamming(7)\n",
    "    b2 = b2[np.newaxis,:]\n",
    "    c2 = np.dot(b2.T,b2)/7\n",
    "    hamming_flr2 = np.repeat(c2[:,:,np.newaxis],5,axis=-1)\n",
    "    hamming_flr2 = hamming_flr2[:,:,:,np.newaxis]\n",
    "    hamming_flr2= [hamming_flr2, np.zeros(5)]\n",
    "\n",
    "\n",
    "    model_4x_to_10x = Model(inputs = X_input, outputs = X, name='Model_4x')\n",
    "\n",
    "    lay1 = model_4x_to_10x.layers[1].get_weights()\n",
    "    lay2 = model_4x_to_10x.layers[2].get_weights()\n",
    "    lay4 = model_4x_to_10x.layers[4].get_weights()\n",
    "    # print(lay4)\n",
    "    lay5 = model_4x_to_10x.layers[5].get_weights()\n",
    "\n",
    "\n",
    "\n",
    "    model_4x_to_10x.layers[1].set_weights(weights)\n",
    "    model_4x_to_10x.layers[2].set_weights(hamming_flr)\n",
    "    model_4x_to_10x.layers[4].set_weights(weights2)\n",
    "    model_4x_to_10x.layers[5].set_weights(hamming_flr2)\n",
    "\n",
    "    # Start/resume training\n",
    "\n",
    "    final_epoch = initial_epoch + 1\n",
    "    # model_4x_to_10x.layers[3].trainable = False\n",
    "    # model.load_weights('weights_4x/weights.002.hdf5')"
   ]
  },
  {
   "cell_type": "code",
   "execution_count": 1,
   "metadata": {},
   "outputs": [],
   "source": [
    "import mysql.connector"
   ]
  },
  {
   "cell_type": "code",
   "execution_count": 3,
   "metadata": {},
   "outputs": [],
   "source": [
    "mydb=mysql.connector.connect(host=\"localhost\",user='root',password='')"
   ]
  },
  {
   "cell_type": "code",
   "execution_count": 4,
   "metadata": {},
   "outputs": [
    {
     "name": "stdout",
     "output_type": "stream",
     "text": [
      "11\n"
     ]
    }
   ],
   "source": [
    "print(mydb.connection_id)"
   ]
  },
  {
   "cell_type": "code",
   "execution_count": 1,
   "metadata": {},
   "outputs": [
    {
     "name": "stdout",
     "output_type": "stream",
     "text": [
      "[2, 4, 6, 8]\n"
     ]
    }
   ],
   "source": [
    "def func():\n",
    "  nums = [[2], [4], [6], [8]]\n",
    "  return sum(nums, [])\n",
    "  \n",
    "print(func())"
   ]
  },
  {
   "cell_type": "code",
   "execution_count": 2,
   "metadata": {},
   "outputs": [
    {
     "name": "stdout",
     "output_type": "stream",
     "text": [
      "15\n"
     ]
    }
   ],
   "source": [
    "def my_func(i, j):\n",
    "  x = i | j\n",
    "  return x\n",
    "\n",
    "\n",
    "i = 7\n",
    "j = 8\n",
    "\n",
    "if __name__ == \"__main__\": \n",
    "  x = my_func(i, j)\n",
    "  print(x)"
   ]
  },
  {
   "cell_type": "code",
   "execution_count": 3,
   "metadata": {},
   "outputs": [
    {
     "name": "stdout",
     "output_type": "stream",
     "text": [
      "3\n"
     ]
    }
   ],
   "source": [
    "a = 1\n",
    "b = 1\n",
    "k = a+b\n",
    "k = k + True\n",
    "print(k)"
   ]
  },
  {
   "cell_type": "code",
   "execution_count": 7,
   "metadata": {},
   "outputs": [
    {
     "name": "stdout",
     "output_type": "stream",
     "text": [
      "abcd\n"
     ]
    }
   ],
   "source": [
    "x = 'abcd'\n",
    "for i in range(len(x)):\n",
    "    x[i].upper() \n",
    "print(x)"
   ]
  },
  {
   "cell_type": "code",
   "execution_count": 8,
   "metadata": {},
   "outputs": [
    {
     "name": "stdout",
     "output_type": "stream",
     "text": [
      "25\n",
      "<class 'int'>\n"
     ]
    }
   ],
   "source": [
    "tuple1=(25)\n",
    "print(tuple1)\n",
    "print(type(tuple1))"
   ]
  },
  {
   "cell_type": "code",
   "execution_count": 9,
   "metadata": {},
   "outputs": [
    {
     "data": {
      "text/plain": [
       "[19, 22]"
      ]
     },
     "execution_count": 9,
     "metadata": {},
     "output_type": "execute_result"
    }
   ],
   "source": [
    "t = [9, 41, 19, 22, 74, 15]\n",
    "t[2:4]"
   ]
  },
  {
   "cell_type": "code",
   "execution_count": 13,
   "metadata": {},
   "outputs": [
    {
     "name": "stdout",
     "output_type": "stream",
     "text": [
      "B\n"
     ]
    }
   ],
   "source": [
    "if True or True:\n",
    "    if False and True or False:\n",
    "        print('A')\n",
    "    elif False and False or True and True:\n",
    "         print('B') \n",
    "    else:\n",
    "         print('C') \n",
    "else:\n",
    "     print('D')"
   ]
  },
  {
   "cell_type": "code",
   "execution_count": 16,
   "metadata": {},
   "outputs": [
    {
     "name": "stdout",
     "output_type": "stream",
     "text": [
      "4 12\n"
     ]
    }
   ],
   "source": [
    "x=12\n",
    "def f1(a,b=x):\n",
    "      print(a,b)\n",
    "x=15\n",
    "f1(4)"
   ]
  },
  {
   "cell_type": "code",
   "execution_count": 17,
   "metadata": {},
   "outputs": [
    {
     "name": "stdout",
     "output_type": "stream",
     "text": [
      "0.6676779161565146\n",
      "0.6676779161565146\n"
     ]
    }
   ],
   "source": [
    "from random import random\n",
    "def fun(x=random()):\n",
    "     print(x)\n",
    "\n",
    "fun()\n",
    "fun()"
   ]
  },
  {
   "cell_type": "code",
   "execution_count": 18,
   "metadata": {},
   "outputs": [
    {
     "name": "stdout",
     "output_type": "stream",
     "text": [
      "False\n"
     ]
    }
   ],
   "source": [
    "print(0.7+0.2==0.9)"
   ]
  },
  {
   "cell_type": "code",
   "execution_count": 19,
   "metadata": {},
   "outputs": [
    {
     "name": "stdout",
     "output_type": "stream",
     "text": [
      "0 2\n"
     ]
    }
   ],
   "source": [
    "num1 = 0\n",
    "def out_func():\n",
    "    \n",
    "    num1 = 1\n",
    "    def in_func():\n",
    "        nonlocal num1\n",
    "        num1 = 2\n",
    "\n",
    "    in_func()\n",
    "    return num1\n",
    "\n",
    "num2 = out_func()\n",
    "print(num1, num2)"
   ]
  },
  {
   "cell_type": "code",
   "execution_count": 20,
   "metadata": {},
   "outputs": [
    {
     "name": "stdout",
     "output_type": "stream",
     "text": [
      "fe-dc-ba\n"
     ]
    }
   ],
   "source": [
    "def my_func(st):\n",
    "    l1 = [ch for ch in st if ch.isalpha()]\n",
    "    return ''.join(l1.pop() if ch.isalpha() else ch for ch in st)\n",
    "\n",
    "\n",
    "st = 'ab-cd-ef'\n",
    "print(my_func(st))"
   ]
  },
  {
   "cell_type": "code",
   "execution_count": 21,
   "metadata": {},
   "outputs": [
    {
     "name": "stdout",
     "output_type": "stream",
     "text": [
      "[0, 1, 1, 2, 1, 2, 2]\n"
     ]
    }
   ],
   "source": [
    "def my_func(num):\n",
    "    data = [0]\n",
    "    for i in range(1, num+1):\n",
    "        data.append(data[i >> 1] + int(i & 1))\n",
    "    return data\n",
    "\n",
    "\n",
    "num = 6\n",
    "print(my_func(num))"
   ]
  },
  {
   "cell_type": "code",
   "execution_count": null,
   "metadata": {},
   "outputs": [],
   "source": []
  }
 ],
 "metadata": {
  "gist": {
   "data": {
    "description": "Documents/all codes/Data structure/GeeksForgeeks.ipynb",
    "public": true
   },
   "id": ""
  },
  "hide_input": false,
  "kernelspec": {
   "display_name": "Python 3",
   "language": "python",
   "name": "python3"
  },
  "language_info": {
   "codemirror_mode": {
    "name": "ipython",
    "version": 3
   },
   "file_extension": ".py",
   "mimetype": "text/x-python",
   "name": "python",
   "nbconvert_exporter": "python",
   "pygments_lexer": "ipython3",
   "version": "3.7.6"
  },
  "toc": {
   "base_numbering": 1,
   "nav_menu": {},
   "number_sections": true,
   "sideBar": true,
   "skip_h1_title": false,
   "title_cell": "Table of Contents",
   "title_sidebar": "Contents",
   "toc_cell": false,
   "toc_position": {},
   "toc_section_display": true,
   "toc_window_display": false
  },
  "varInspector": {
   "cols": {
    "lenName": 16,
    "lenType": 16,
    "lenVar": 40
   },
   "kernels_config": {
    "python": {
     "delete_cmd_postfix": "",
     "delete_cmd_prefix": "del ",
     "library": "var_list.py",
     "varRefreshCmd": "print(var_dic_list())"
    },
    "r": {
     "delete_cmd_postfix": ") ",
     "delete_cmd_prefix": "rm(",
     "library": "var_list.r",
     "varRefreshCmd": "cat(var_dic_list()) "
    }
   },
   "position": {
    "height": "257px",
    "left": "904px",
    "right": "20px",
    "top": "119px",
    "width": "350px"
   },
   "types_to_exclude": [
    "module",
    "function",
    "builtin_function_or_method",
    "instance",
    "_Feature"
   ],
   "window_display": false
  }
 },
 "nbformat": 4,
 "nbformat_minor": 4
}
