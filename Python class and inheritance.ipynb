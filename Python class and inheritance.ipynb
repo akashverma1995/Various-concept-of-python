{
 "cells": [
  {
   "cell_type": "markdown",
   "metadata": {},
   "source": [
    "## Class\n",
    "A class is a user-defined blueprint or prototype from which objects are created. Classes provide a means of bundling data and functionality together.\n",
    "\n",
    "To understand the need for creating a class let’s consider an example, let’s say you wanted to track the number of dogs that may have different attributes like breed, age. If a list is used, the first element could be the dog’s breed while the second element could represent its age. Let’s suppose there are 100 different dogs, then how would you know which element is supposed to be which? What if you wanted to add other properties to these dogs? This lacks organization and it’s the exact need for classes.\n",
    "\n",
    "## class object \n",
    "An Object is an instance of a Class. A class is like a blueprint while an instance is a copy of the class with actual values. It’s not an idea anymore, it’s an actual dog, like a dog of breed pug who’s seven years old. You can have many dogs to create many different instances, but without the class as a guide, you would be lost, not knowing what information is required.\n",
    "\n",
    "An object consist of\n",
    " * State\n",
    " * Behaviour\n",
    " * Identity\n",
    " "
   ]
  },
  {
   "cell_type": "code",
   "execution_count": 16,
   "metadata": {},
   "outputs": [
    {
     "name": "stdout",
     "output_type": "stream",
     "text": [
      "Name of student is shyam\n"
     ]
    }
   ],
   "source": [
    "# Basic code of class\n",
    "class student:\n",
    "    def __init__(self, name, rollno):\n",
    "        self.Name = name\n",
    "        self.rollno = rollno\n",
    "\n",
    "    #  print student name\n",
    "    #  method of class \n",
    "    def name_(self):     \n",
    "        print(\"Name of student is\", self.Name)\n",
    "\n",
    "    # avg of marks of student\n",
    "    def avg(list_):\n",
    "        return sum(list)/len(list)\n",
    "\n",
    "\n",
    "# class \n",
    "s1 = student('shyam', 12)\n",
    "s1.name_()\n"
   ]
  },
  {
   "cell_type": "markdown",
   "metadata": {},
   "source": [
    "# Self\n",
    "When we call a method of this object as myobject.method(arg1, arg2), this is automatically converted by Python into MyClass.method(myobject, arg1, arg2) – this is all the special self is about.\n",
    "\n",
    "this is actual <br>\n",
    "myobject=MyClass()<br> myobject.method(arg1,agr2)\n",
    "\n",
    "Meaning of uper two line of code is<br> \n",
    "MyClass.method(myobject, arg1, arg2)\n",
    "\n",
    "# __init__method\n",
    "The _init_method is similar to constructors in C++ and Java. Constructors are used to initializing the object’s state. Like methods, a constructor also contains a collection of statements(i.e. instructions) that are executed at the time of Object creation. It runs as soon as an object of a class is instantiated. The method is useful to do any initialization you want to do with your object."
   ]
  },
  {
   "cell_type": "code",
   "execution_count": 3,
   "metadata": {},
   "outputs": [
    {
     "name": "stdout",
     "output_type": "stream",
     "text": [
      "\n",
      "Details of coco\n",
      "Dog\n",
      "breed Pug\n",
      "color brown\n"
     ]
    }
   ],
   "source": [
    "# example\n",
    "\n",
    "# class of dog\n",
    "class Dog:\n",
    "\n",
    "    # class variable\n",
    "    animal='Dog'\n",
    "\n",
    "    # The init method or constructor\n",
    "    def __init__(self,breed, color):\n",
    "\n",
    "        # Instance Variable\n",
    "        self.breed=breed\n",
    "        self.color=color\n",
    "\n",
    "# object of class Dog class\n",
    "coco=Dog(\"Pug\",\"brown\")\n",
    "whisky=Dog(\"lebra\",\"black\")\n",
    "\n",
    "print(\"\\nDetails of coco\")\n",
    "print(coco.animal)\n",
    "print('breed',coco.breed)\n",
    "print('color',coco.color) "
   ]
  },
  {
   "cell_type": "code",
   "execution_count": 4,
   "metadata": {},
   "outputs": [
    {
     "name": "stdout",
     "output_type": "stream",
     "text": [
      "brown\n"
     ]
    }
   ],
   "source": [
    "# Class for Dog\n",
    "class Dog:\n",
    "\n",
    "    # Class Variable\n",
    "    animal = 'dog'\n",
    "\n",
    "    # The init method or constructor\n",
    "    def __init__(self, breed):\n",
    "\n",
    "        # Instance Variable\n",
    "        self.breed = breed\n",
    "\n",
    "    # Adds an instance variable\n",
    "    def setColor(self, color):\n",
    "        self.color = color\n",
    "\n",
    "    # Retrieves instance variable\n",
    "    def getColor(self):\n",
    "        return self.color\n",
    "\n",
    "\n",
    "# Driver Code\n",
    "coco = Dog(\"pug\")\n",
    "coco.setColor(\"brown\")\n",
    "print(coco.getColor())\n",
    " "
   ]
  },
  {
   "cell_type": "markdown",
   "metadata": {},
   "source": [
    "## Constructor\n",
    "Constructors are generally used for instantiating an object. The task of constructors is to initialize(assign values) to the data members of the class when an object of the class is created<br>\n",
    "***Types of constructors :*** <br>\n",
    "* default constructor\n",
    "* parameterized constructor\n",
    "\n",
    "``` python\n",
    "    # default constructor\n",
    "    def __init__(self):\n",
    "        self.geek = \"GeekforGeeks\"\n",
    "```     \n",
    "``` python\n",
    "    # parameterized constructor\n",
    "    def __init__(self, f, s):\n",
    "        self.first = f\n",
    "        self.second = s\n",
    "```        "
   ]
  },
  {
   "cell_type": "markdown",
   "metadata": {},
   "source": [
    "## Destructor \n",
    "Destructors are called when an object gets destroyed. In Python, destructors are not needed as much needed in C++ because Python has a garbage collector that handles memory management automatically.<br>\n",
    "The __del__() method is a known as a destructor method in Python. It is called when all references to the object have been deleted i.e when an object is garbage collected.\n",
    "```python\n",
    "def __del__(self):\n",
    "  # body of destructor\n",
    "```   \n"
   ]
  },
  {
   "cell_type": "markdown",
   "metadata": {},
   "source": [
    "## Inheritance\n",
    "Inheritance is the capability of one class to derive or inherit the properties from another class. The benefits of inheritance are: \n",
    "1. real world relationship\n",
    "2. code reusabilty \n",
    "3. transitive nature \n"
   ]
  },
  {
   "cell_type": "code",
   "execution_count": 2,
   "metadata": {},
   "outputs": [
    {
     "name": "stdout",
     "output_type": "stream",
     "text": [
      "shivam False\n",
      "Rudra True\n"
     ]
    }
   ],
   "source": [
    "# Example\n",
    "class person(object):\n",
    "\n",
    "    # constructor\n",
    "    def __init__(self,name):\n",
    "        self.name=name\n",
    "\n",
    "    # To get name\n",
    "    def getname(self):\n",
    "        return self.name\n",
    "\n",
    "    # To check if this person is an employee\n",
    "    def isEmployee(self):\n",
    "        return False   \n",
    "\n",
    "# Inherited or sub class\n",
    "class Employee(person):\n",
    "\n",
    "    # Here we return true\n",
    "    def isEmployee(self):\n",
    "        return True \n",
    "\n",
    "\n",
    "# Drive code \n",
    "emp = person(\"shivam\")  # An Object of Person\n",
    "print(emp.getname(), emp.isEmployee())\n",
    "\n",
    "emp = Employee(\"Rudra\")  # An Object of Employee\n",
    "print(emp.getname(), emp.isEmployee())\n"
   ]
  },
  {
   "cell_type": "markdown",
   "metadata": {},
   "source": [
    "## Subclassing (Calling constructor of parent class) \n",
    "A child class needs to identify which class is its parent class. This can be done by mentioning the parent class name in the definition of the child class. \n",
    "\n",
    "__Eg: class subclass_name (superclass_name):__"
   ]
  },
  {
   "cell_type": "code",
   "execution_count": 6,
   "metadata": {},
   "outputs": [
    {
     "name": "stdout",
     "output_type": "stream",
     "text": [
      "Rahul\n",
      "886012\n",
      "Intern\n"
     ]
    }
   ],
   "source": [
    "# parent class\n",
    "class Person(object):\n",
    "\n",
    "    # __init__ is known as the constructor\n",
    "    def __init__(self, name, idnumber):\n",
    "            self.name = name\n",
    "            self.idnumber = idnumber\n",
    "\n",
    "    def display(self):\n",
    "        print(self.name)\n",
    "        print(self.idnumber) \n",
    "\n",
    "# child class\n",
    "class Employee(Person ):\n",
    "      def __init__(self, name, idnumber, salary, post):\n",
    "              self.salary = salary\n",
    "              self.post = post\n",
    "\n",
    "              # invoking the __init__ of the parent class\n",
    "              Person.__init__(self, name, idnumber)\n",
    "\n",
    "\n",
    "# creation of an object variable or an instance\n",
    "a = Employee('Rahul', 886012, 200000, \"Intern\")\n",
    "\n",
    "# calling a function of the class Person using its instance\n",
    "a.display()\n"
   ]
  },
  {
   "cell_type": "markdown",
   "metadata": {},
   "source": [
    "## Different forms of Inheritance: \n",
    "1. Single inheritance: When a child class inherits from only one parent class, it is called single inheritance. We saw an example above.\n",
    "2. Multiple inheritance: When a child class inherits from multiple parent classes, it is called multiple inheritance. "
   ]
  },
  {
   "cell_type": "code",
   "execution_count": null,
   "metadata": {},
   "outputs": [],
   "source": []
  }
 ],
 "metadata": {
  "interpreter": {
   "hash": "916dbcbb3f70747c44a77c7bcd40155683ae19c65e1c03b4aa3499c5328201f1"
  },
  "kernelspec": {
   "display_name": "Python 3.8.10 64-bit",
   "language": "python",
   "name": "python3"
  },
  "language_info": {
   "codemirror_mode": {
    "name": "ipython",
    "version": 3
   },
   "file_extension": ".py",
   "mimetype": "text/x-python",
   "name": "python",
   "nbconvert_exporter": "python",
   "pygments_lexer": "ipython3",
   "version": "3.8.10"
  },
  "orig_nbformat": 4
 },
 "nbformat": 4,
 "nbformat_minor": 2
}
