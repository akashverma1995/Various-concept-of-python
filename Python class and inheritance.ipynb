{
 "cells": [
  {
   "cell_type": "code",
   "execution_count": null,
   "metadata": {},
   "outputs": [],
   "source": []
  },
  {
   "cell_type": "markdown",
   "metadata": {},
   "source": [
    "## Class\n",
    "A class is a user-defined blueprint or prototype from which objects are created. Classes provide a means of bundling data and functionality together.\n",
    "\n",
    "To understand the need for creating a class let’s consider an example, let’s say you wanted to track the number of dogs that may have different attributes like breed, age. If a list is used, the first element could be the dog’s breed while the second element could represent its age. Let’s suppose there are 100 different dogs, then how would you know which element is supposed to be which? What if you wanted to add other properties to these dogs? This lacks organization and it’s the exact need for classes.\n",
    "\n",
    "## class object \n",
    "An Object is an instance of a Class. A class is like a blueprint while an instance is a copy of the class with actual values. It’s not an idea anymore, it’s an actual dog, like a dog of breed pug who’s seven years old. You can have many dogs to create many different instances, but without the class as a guide, you would be lost, not knowing what information is required.\n",
    "\n",
    "An object consist of\n",
    " * State\n",
    " * Behaviour\n",
    " * Identity\n",
    " "
   ]
  },
  {
   "cell_type": "code",
   "execution_count": 16,
   "metadata": {},
   "outputs": [
    {
     "name": "stdout",
     "output_type": "stream",
     "text": [
      "Name of student is shyam\n"
     ]
    }
   ],
   "source": [
    "# Basic code of class\n",
    "class student:\n",
    "    def __init__(self, name, rollno):\n",
    "        self.Name = name\n",
    "        self.rollno = rollno\n",
    "\n",
    "    #  print student name\n",
    "    #  method of class \n",
    "    def name_(self):     \n",
    "        print(\"Name of student is\", self.Name)\n",
    "\n",
    "    # avg of marks of student\n",
    "    def avg(list_):\n",
    "        return sum(list)/len(list)\n",
    "\n",
    "\n",
    "# class \n",
    "s1 = student('shyam', 12)\n",
    "s1.name_()\n"
   ]
  },
  {
   "cell_type": "markdown",
   "metadata": {},
   "source": [
    "# Self\n",
    "When we call a method of this object as myobject.method(arg1, arg2), this is automatically converted by Python into MyClass.method(myobject, arg1, arg2) – this is all the special self is about.\n",
    "\n",
    "this is actual <br>\n",
    "myobject=MyClass()<br> myobject.method(arg1,agr2)\n",
    "\n",
    "Meaning of uper two line of code is<br> \n",
    "MyClass.method(myobject, arg1, arg2)\n",
    "\n",
    "# __init__method\n",
    "The _init_method is similar to constructors in C++ and Java. Constructors are used to initializing the object’s state. Like methods, a constructor also contains a collection of statements(i.e. instructions) that are executed at the time of Object creation. It runs as soon as an object of a class is instantiated. The method is useful to do any initialization you want to do with your object."
   ]
  },
  {
   "cell_type": "code",
   "execution_count": 3,
   "metadata": {},
   "outputs": [
    {
     "name": "stdout",
     "output_type": "stream",
     "text": [
      "\n",
      "Details of coco\n",
      "Dog\n",
      "breed Pug\n",
      "color brown\n"
     ]
    }
   ],
   "source": [
    "# example\n",
    "\n",
    "# class of dog\n",
    "class Dog:\n",
    "\n",
    "    # class variable\n",
    "    animal='Dog'\n",
    "\n",
    "    # The init method or constructor\n",
    "    def __init__(self,breed, color):\n",
    "\n",
    "        # Instance Variable\n",
    "        self.breed=breed\n",
    "        self.color=color\n",
    "\n",
    "# object of class Dog class\n",
    "coco=Dog(\"Pug\",\"brown\")\n",
    "whisky=Dog(\"lebra\",\"black\")\n",
    "\n",
    "print(\"\\nDetails of coco\")\n",
    "print(coco.animal)\n",
    "print('breed',coco.breed)\n",
    "print('color',coco.color) "
   ]
  },
  {
   "cell_type": "code",
   "execution_count": 4,
   "metadata": {},
   "outputs": [
    {
     "name": "stdout",
     "output_type": "stream",
     "text": [
      "brown\n"
     ]
    }
   ],
   "source": [
    "# Class for Dog\n",
    "class Dog:\n",
    "\n",
    "    # Class Variable\n",
    "    animal = 'dog'\n",
    "\n",
    "    # The init method or constructor\n",
    "    def __init__(self, breed):\n",
    "\n",
    "        # Instance Variable\n",
    "        self.breed = breed\n",
    "\n",
    "    # Adds an instance variable\n",
    "    def setColor(self, color):\n",
    "        self.color = color\n",
    "\n",
    "    # Retrieves instance variable\n",
    "    def getColor(self):\n",
    "        return self.color\n",
    "\n",
    "\n",
    "# Driver Code\n",
    "coco = Dog(\"pug\")\n",
    "coco.setColor(\"brown\")\n",
    "print(coco.getColor())\n",
    " "
   ]
  },
  {
   "cell_type": "markdown",
   "metadata": {},
   "source": [
    "## Constructor\n",
    "Constructors are generally used for instantiating an object. The task of constructors is to initialize(assign values) to the data members of the class when an object of the class is created<br>\n",
    "***Types of constructors :*** <br>\n",
    "* default constructor\n",
    "* parameterized constructor\n",
    "\n",
    "``` python\n",
    "    # default constructor\n",
    "    def __init__(self):\n",
    "        self.geek = \"GeekforGeeks\"\n",
    "```     \n",
    "``` python\n",
    "    # parameterized constructor\n",
    "    def __init__(self, f, s):\n",
    "        self.first = f\n",
    "        self.second = s\n",
    "```        "
   ]
  },
  {
   "cell_type": "markdown",
   "metadata": {},
   "source": [
    "## Destructor \n",
    "Destructors are called when an object gets destroyed. In Python, destructors are not needed as much needed in C++ because Python has a garbage collector that handles memory management automatically.<br>\n",
    "The __del__() method is a known as a destructor method in Python. It is called when all references to the object have been deleted i.e when an object is garbage collected.\n",
    "```python\n",
    "def __del__(self):\n",
    "  # body of destructor\n",
    "```   \n"
   ]
  },
  {
   "cell_type": "markdown",
   "metadata": {},
   "source": [
    "## Inheritance\n",
    "Inheritance is the capability of one class to derive or inherit the properties from another class. The benefits of inheritance are: \n",
    "1. real world relationship\n",
    "2. code reusabilty \n",
    "3. transitive nature \n"
   ]
  },
  {
   "cell_type": "code",
   "execution_count": 2,
   "metadata": {},
   "outputs": [
    {
     "name": "stdout",
     "output_type": "stream",
     "text": [
      "shivam False\n",
      "Rudra True\n"
     ]
    }
   ],
   "source": [
    "# Example\n",
    "class person(object):\n",
    "\n",
    "    # constructor\n",
    "    def __init__(self,name):\n",
    "        self.name=name\n",
    "\n",
    "    # To get name\n",
    "    def getname(self):\n",
    "        return self.name\n",
    "\n",
    "    # To check if this person is an employee\n",
    "    def isEmployee(self):\n",
    "        return False   \n",
    "\n",
    "# Inherited or sub class\n",
    "class Employee(person):\n",
    "\n",
    "    # Here we return true\n",
    "    def isEmployee(self):\n",
    "        return True \n",
    "\n",
    "\n",
    "# Drive code \n",
    "emp = person(\"shivam\")  # An Object of Person\n",
    "print(emp.getname(), emp.isEmployee())\n",
    "\n",
    "emp = Employee(\"Rudra\")  # An Object of Employee\n",
    "print(emp.getname(), emp.isEmployee())\n"
   ]
  },
  {
   "cell_type": "markdown",
   "metadata": {},
   "source": [
    "## Subclassing (Calling constructor of parent class) \n",
    "A child class needs to identify which class is its parent class. This can be done by mentioning the parent class name in the definition of the child class. \n",
    "\n",
    "__Eg: class subclass_name (superclass_name):__"
   ]
  },
  {
   "cell_type": "code",
   "execution_count": 6,
   "metadata": {},
   "outputs": [
    {
     "name": "stdout",
     "output_type": "stream",
     "text": [
      "Rahul\n",
      "886012\n",
      "Intern\n"
     ]
    }
   ],
   "source": [
    "# parent class\n",
    "class Person(object):\n",
    "\n",
    "    # __init__ is known as the constructor\n",
    "    def __init__(self, name, idnumber):\n",
    "            self.name = name\n",
    "            self.idnumber = idnumber\n",
    "\n",
    "    def display(self):\n",
    "        print(self.name)\n",
    "        print(self.idnumber) \n",
    "\n",
    "# child class\n",
    "class Employee(Person ):\n",
    "      def __init__(self, name, idnumber, salary, post):\n",
    "              self.salary = salary\n",
    "              self.post = post\n",
    "\n",
    "              # invoking the __init__ of the parent class\n",
    "              Person.__init__(self, name, idnumber)\n",
    "\n",
    "\n",
    "# creation of an object variable or an instance\n",
    "a = Employee('Rahul', 886012, 200000, \"Intern\")\n",
    "\n",
    "# calling a function of the class Person using its instance\n",
    "a.display()\n"
   ]
  },
  {
   "cell_type": "markdown",
   "metadata": {},
   "source": [
    "## Different forms of Inheritance: \n",
    "1. Single inheritance: When a child class inherits from only one parent class, it is called single inheritance. We saw an example above.\n",
    "2. Multiple inheritance: When a child class inherits from multiple parent classes, it is called multiple inheritance. \n",
    "3. Multilevel inheritance: When we have a child and grandchild relationship.\n",
    "4. Hierarchical inheritance:  More than one derived classes are created from a single base.\n",
    "5. Hybrid inheritance: This form combines more than one form of inheritance. Basically, it is a blend of more than one type of inheritance"
   ]
  },
  {
   "cell_type": "code",
   "execution_count": 3,
   "metadata": {},
   "outputs": [
    {
     "name": "stdout",
     "output_type": "stream",
     "text": [
      "person1 person2\n"
     ]
    }
   ],
   "source": [
    "# multiple inhertance\n",
    "class person1(object):\n",
    "    def __init__(self):\n",
    "        self.str1='person1'\n",
    "\n",
    "class person2(object):\n",
    "    def __init__(self):\n",
    "        self.str2='person2' \n",
    "\n",
    "\n",
    "class derived(person1,person2):\n",
    "    def __init__(self):       \n",
    "        # calling the constructor of person1 and person2\n",
    "        person1.__init__(self)\n",
    "        person2.__init__(self)\n",
    "\n",
    "    def display(self):    \n",
    "        print(self.str1,self.str2)\n",
    "\n",
    "object=derived()\n",
    "object.display()        \n"
   ]
  },
  {
   "cell_type": "code",
   "execution_count": 8,
   "metadata": {},
   "outputs": [
    {
     "name": "stdout",
     "output_type": "stream",
     "text": [
      "Geek1 23 Noida\n"
     ]
    }
   ],
   "source": [
    "# equivalent to \"class Person(object)\"\n",
    "class Base:  \n",
    "\t# Constructor\n",
    "\tdef __init__(self, name):\n",
    "\t\tself.name = name\n",
    "\n",
    "\t# To get name\n",
    "\tdef getName(self):\n",
    "\t\treturn self.name\n",
    "\n",
    "\n",
    "# Inherited or Sub class (Note Person in bracket)\n",
    "class Child(Base):\n",
    "\n",
    "\t# Constructor\n",
    "\tdef __init__(self, name, age):\n",
    "\t\tBase.__init__(self, name)\n",
    "\t\tself.age = age\n",
    "\n",
    "\t# To get name\n",
    "\tdef getAge(self):\n",
    "\t\treturn self.age\n",
    "\n",
    "# Inherited or Sub class (Note Person in bracket)\n",
    "\n",
    "\n",
    "class GrandChild(Child):\n",
    "\n",
    "\t# Constructor\n",
    "\tdef __init__(self, name, age, address):\n",
    "\t\tChild.__init__(self, name, age)\n",
    "\t\tself.address = address\n",
    "\n",
    "\t# To get address\n",
    "\tdef getAddress(self):\n",
    "\t\treturn self.address\n",
    "\n",
    "\n",
    "# Driver code\n",
    "g = GrandChild(\"Geek1\", 23, \"Noida\")\n",
    "print(g.getName(), g.getAge(), g.getAddress()) "
   ]
  },
  {
   "cell_type": "code",
   "execution_count": 13,
   "metadata": {},
   "outputs": [
    {
     "name": "stdout",
     "output_type": "stream",
     "text": [
      "This function is in parent class.\n",
      "This function is in child 1.\n",
      "This function is in parent class.\n",
      "This function is in child 2.\n"
     ]
    }
   ],
   "source": [
    "# hierarchical inheritance\n",
    "# Base class\n",
    "class Parent:\n",
    "    def func1(self):\n",
    "        print(\"This function is in parent class.\")\n",
    "\n",
    "# Derived class1\n",
    "\n",
    "\n",
    "class Child1(Parent):\n",
    "    def func2(self):\n",
    "        print(\"This function is in child 1.\")\n",
    "\n",
    "# Derivied class2\n",
    "\n",
    "\n",
    "class Child2(Parent):\n",
    "    def func3(self):\n",
    "        print(\"This function is in child 2.\")\n",
    "\n",
    "\n",
    "# Driver's code\n",
    "object1 = Child1()\n",
    "object2 = Child2()\n",
    "object1.func1()\n",
    "object1.func2()\n",
    "object2.func1()\n",
    "object2.func3()\n"
   ]
  },
  {
   "cell_type": "code",
   "execution_count": 14,
   "metadata": {},
   "outputs": [
    {
     "name": "stdout",
     "output_type": "stream",
     "text": [
      "This function is in school.\n",
      "This function is in student 1. \n"
     ]
    }
   ],
   "source": [
    "# hybrid inheritance\n",
    "class School:\n",
    "    def func1(self):\n",
    "        print(\"This function is in school.\")\n",
    "\n",
    "\n",
    "class Student1(School):\n",
    "    def func2(self):\n",
    "        print(\"This function is in student 1. \")\n",
    "\n",
    "\n",
    "class Student2(School):\n",
    "    def func3(self):\n",
    "        print(\"This function is in student 2.\")\n",
    "\n",
    "\n",
    "class Student3(Student1, School):\n",
    "    def func4(self):\n",
    "        print(\"This function is in student 3.\")\n",
    "\n",
    "\n",
    "# Driver's code\n",
    "object = Student3()\n",
    "object.func1()\n",
    "object.func2()\n"
   ]
  },
  {
   "cell_type": "markdown",
   "metadata": {},
   "source": [
    "## Private members of parent class \n",
    "We don’t always want the instance variables of the parent class to be inherited by the child class i.e. we can make some of the instance variables of the parent class private, which won’t be available to the child class. \n",
    "We can make an instance variable by adding double underscores before its name."
   ]
  },
  {
   "cell_type": "code",
   "execution_count": 17,
   "metadata": {},
   "outputs": [
    {
     "ename": "AttributeError",
     "evalue": "'D' object has no attribute 'd'",
     "output_type": "error",
     "traceback": [
      "\u001b[0;31m---------------------------------------------------------------------------\u001b[0m",
      "\u001b[0;31mAttributeError\u001b[0m                            Traceback (most recent call last)",
      "\u001b[0;32m<ipython-input-17-fbad8f011fdb>\u001b[0m in \u001b[0;36m<module>\u001b[0;34m\u001b[0m\n\u001b[1;32m     17\u001b[0m \u001b[0;34m\u001b[0m\u001b[0m\n\u001b[1;32m     18\u001b[0m \u001b[0;31m# produces an error as d is private instance variable\u001b[0m\u001b[0;34m\u001b[0m\u001b[0;34m\u001b[0m\u001b[0;34m\u001b[0m\u001b[0m\n\u001b[0;32m---> 19\u001b[0;31m \u001b[0mprint\u001b[0m\u001b[0;34m(\u001b[0m\u001b[0mobject1\u001b[0m\u001b[0;34m.\u001b[0m\u001b[0md\u001b[0m\u001b[0;34m)\u001b[0m\u001b[0;34m\u001b[0m\u001b[0;34m\u001b[0m\u001b[0m\n\u001b[0m",
      "\u001b[0;31mAttributeError\u001b[0m: 'D' object has no attribute 'd'"
     ]
    }
   ],
   "source": [
    "# Python program to demonstrate private members of the parent class\n",
    "class C:\n",
    "    def __init__(self):\n",
    "        self.c = 21\n",
    "\n",
    "        # d is private instance variable\n",
    "        self.__d = 42\n",
    "\n",
    "\n",
    "class D(C):\n",
    "    def __init__(self):\n",
    "        self.e = 84\n",
    "        C.__init__(self)\n",
    "\n",
    "object1 = D()\n",
    "\n",
    "# produces an error as d is private instance variable\n",
    "print(object1.d)"
   ]
  },
  {
   "cell_type": "markdown",
   "metadata": {},
   "source": [
    "## Access modifiers \n",
    "* public\n",
    "* protected\n",
    "* private"
   ]
  },
  {
   "cell_type": "code",
   "execution_count": 18,
   "metadata": {},
   "outputs": [
    {
     "name": "stdout",
     "output_type": "stream",
     "text": [
      "Public Data Member:  Geeks\n",
      "Protected Data Member:  4\n",
      "Private Data Member:  Geeks !\n",
      "Object is accessing protected member: 4\n"
     ]
    }
   ],
   "source": [
    "# program to illustrate access modifiers of a class\n",
    "# super class\n",
    "class Super:\n",
    "\n",
    "\t# public data member\n",
    "\tvar1 = None\n",
    "\n",
    "\t# protected data member\n",
    "\t_var2 = None\n",
    "\n",
    "\t# private data member\n",
    "\t__var3 = None\n",
    "\n",
    "\t# constructor\n",
    "\tdef __init__(self, var1, var2, var3):\n",
    "\t\tself.var1 = var1\n",
    "\t\tself._var2 = var2\n",
    "\t\tself.__var3 = var3\n",
    "\n",
    "\t# public member function\n",
    "\tdef displayPublicMembers(self):\n",
    "\n",
    "\t\t# accessing public data members\n",
    "\t\tprint(\"Public Data Member: \", self.var1)\n",
    "\n",
    "\t# protected member function\n",
    "\tdef _displayProtectedMembers(self):\n",
    "\n",
    "\t\t# accessing protected data members\n",
    "\t\tprint(\"Protected Data Member: \", self._var2)\n",
    "\n",
    "\t# private member function\n",
    "\tdef __displayPrivateMembers(self):\n",
    "\n",
    "\t\t# accessing private data members\n",
    "\t\tprint(\"Private Data Member: \", self.__var3)\n",
    "\n",
    "\t# public member function\n",
    "\tdef accessPrivateMembers(self):\n",
    "\n",
    "\t\t# accessing private member function\n",
    "\t\tself.__displayPrivateMembers()\n",
    "\n",
    "# derived class\n",
    "\n",
    "\n",
    "class Sub(Super):\n",
    "\n",
    "\t# constructor\n",
    "\tdef __init__(self, var1, var2, var3):\n",
    "\t\tSuper.__init__(self, var1, var2, var3)\n",
    "\n",
    "\t# public member function\n",
    "\tdef accessProtectedMembers(self):\n",
    "\n",
    "\t\t# accessing protected member functions of super class\n",
    "\t\tself._displayProtectedMembers()\n",
    "\n",
    "\n",
    "# creating objects of the derived class\n",
    "obj = Sub(\"Geeks\", 4, \"Geeks !\")\n",
    "\n",
    "# calling public member functions of the class\n",
    "obj.displayPublicMembers() \n",
    "obj.accessProtectedMembers()\n",
    "obj.accessPrivateMembers()\n",
    "\n",
    "# Object can access protected member\n",
    "print(\"Object is accessing protected member:\", obj._var2)\n",
    "\n",
    "# object can not access private member, so it will generate Attribute error\n",
    "#print(obj.__var3)\n"
   ]
  },
  {
   "cell_type": "code",
   "execution_count": null,
   "metadata": {},
   "outputs": [],
   "source": []
  }
 ],
 "metadata": {
  "interpreter": {
   "hash": "916dbcbb3f70747c44a77c7bcd40155683ae19c65e1c03b4aa3499c5328201f1"
  },
  "kernelspec": {
   "display_name": "Python 3.8.10 64-bit",
   "language": "python",
   "name": "python3"
  },
  "language_info": {
   "codemirror_mode": {
    "name": "ipython",
    "version": 3
   },
   "file_extension": ".py",
   "mimetype": "text/x-python",
   "name": "python",
   "nbconvert_exporter": "python",
   "pygments_lexer": "ipython3",
   "version": "3.8.10"
  },
  "orig_nbformat": 4
 },
 "nbformat": 4,
 "nbformat_minor": 2
}
